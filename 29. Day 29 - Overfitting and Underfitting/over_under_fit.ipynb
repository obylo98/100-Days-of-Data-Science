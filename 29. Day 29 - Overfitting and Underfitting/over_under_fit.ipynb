{
 "cells": [
  {
   "cell_type": "markdown",
   "metadata": {},
   "source": [
    "# **Diagnose and Address Underfitting and Overfitting**"
   ]
  },
  {
   "cell_type": "markdown",
   "metadata": {},
   "source": [
    "> **1. Diagnosing Underfitting:**\n",
    "\n",
    "Underfitting occurs when a model is too simplistic to capture the underlying patterns in the data. It performs poorly on both the training and test sets. Signs of underfitting include:\n",
    "\n",
    "* Low training and test performance (low accuracy, high error).\n",
    "\n",
    "* Consistently poor performance across different datasets or folds in cross-validation.\n",
    "\n",
    "* Model doesn't seem to learn from the training data."
   ]
  },
  {
   "cell_type": "markdown",
   "metadata": {},
   "source": [
    "**Addressing Underfitting:**\n",
    "\n",
    "* **Increase Model Complexity:** Consider using a more complex model with more parameters, such as using deeper neural networks, higher-degree polynomial regression, or more complex algorithms.\n",
    "\n",
    "* **Feature Engineering:** Add more relevant features to the dataset to provide the model with more information.\n",
    "\n",
    "* **Fine-tuning Hyperparameters:** Adjust hyperparameters like learning rate, regularization strength, or the number of hidden units/layers in a neural network.\n",
    "\n",
    "* **Reduce Regularization:** If you're using regularization techniques, consider reducing the strength of regularization or using a different type."
   ]
  },
  {
   "cell_type": "markdown",
   "metadata": {},
   "source": [
    "**Reasons for Underfitting:**\n",
    "\n",
    "* High bias and low variance.\n",
    "\n",
    "* The size of the training dataset used is not enough.\n",
    "\n",
    "* The model is too simple.\n",
    "\n",
    "* Training data is not cleaned and also contains noise in it."
   ]
  },
  {
   "cell_type": "markdown",
   "metadata": {},
   "source": [
    "**Techniques to Reduce Underfitting:**\n",
    "\n",
    "* Increase model complexity.\n",
    "\n",
    "* Increase the number of features, performing feature engineering.\n",
    "\n",
    "* Remove noise from the data.\n",
    "\n",
    "* Increase the number of epochs or increase the duration of training to get better results."
   ]
  },
  {
   "cell_type": "markdown",
   "metadata": {},
   "source": [
    "> **2. Diagnosing Overfitting:**\n",
    "\n",
    "  Overfitting occurs when a model becomes too flexible and fits the training data noise and outliers. It performs very well on the training set but poorly on the test set. Signs of overfitting include:\n",
    "\n",
    "* High training performance but significantly lower test performance.\n",
    "\n",
    "* Large differences between training and test performance.\n",
    "\n",
    "* Model captures noise and fluctuations in the training data."
   ]
  },
  {
   "cell_type": "markdown",
   "metadata": {},
   "source": [
    "**Addressing Overfitting:**\n",
    "\n",
    "* **Regularization:** Apply regularization techniques to penalize overly complex models. Common methods include L1 regularization (Lasso), L2 regularization (Ridge), and dropout in neural networks.\n",
    "\n",
    "* **Feature Selection:** Remove irrelevant or noisy features that might be contributing to overfitting.\n",
    "\n",
    "* **More Data:** Increase the size of your training dataset to provide the model with more examples to learn from.\n",
    "\n",
    "* **Early Stopping:** Monitor the performance on the validation set during training and stop training when performance starts to degrade.\n",
    "\n",
    "* **Simpler Model:** Consider using a simpler model architecture with fewer parameters.\n",
    "Ensemble Methods: Combine predictions from multiple models to reduce overfitting."
   ]
  },
  {
   "cell_type": "markdown",
   "metadata": {},
   "source": [
    "**Reasons for Overfitting:**\n",
    "\n",
    "* High variance and low bias.\n",
    "\n",
    "* The model is too complex.\n",
    "\n",
    "* The size of the training data."
   ]
  },
  {
   "cell_type": "markdown",
   "metadata": {},
   "source": [
    "**Techniques to Reduce Overfitting:**\n",
    "\n",
    "* Increase training data.\n",
    "\n",
    "* Reduce model complexity.\n",
    "\n",
    "* Early stopping during the training phase (have an eye over the loss over the training period as soon as loss begins to increase stop training).\n",
    "\n",
    "* Ridge Regularization and Lasso Regularization.\n",
    "\n",
    "* Use dropout for neural networks to tackle overfitting."
   ]
  },
  {
   "cell_type": "markdown",
   "metadata": {},
   "source": [
    "> **3. Using Cross-Validation:**\n",
    "\n",
    "Cross-validation is a powerful tool to diagnose both underfitting and overfitting. If a model performs poorly on both training and validation sets across multiple folds, it might indicate underfitting. If the model performs very well on training but poorly on validation, it suggests overfitting."
   ]
  }
 ],
 "metadata": {
  "language_info": {
   "name": "python"
  },
  "orig_nbformat": 4
 },
 "nbformat": 4,
 "nbformat_minor": 2
}
