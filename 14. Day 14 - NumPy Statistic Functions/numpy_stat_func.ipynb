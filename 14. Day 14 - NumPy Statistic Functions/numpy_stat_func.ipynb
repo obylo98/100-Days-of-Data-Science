{
 "cells": [
  {
   "cell_type": "markdown",
   "metadata": {},
   "source": [
    "# **Random Generation Function**\n",
    "\n",
    "---"
   ]
  },
  {
   "cell_type": "markdown",
   "metadata": {},
   "source": [
    "> **random mudule:**\n",
    "\n",
    "* Python random module is a built-in module for random numbers in Python.\n",
    "\n",
    "* These are sort of fake random numbers which do not possess True randomness."
   ]
  },
  {
   "cell_type": "markdown",
   "metadata": {},
   "source": [
    "> **1. rand():** \n",
    "\n",
    "* Return 1-D array with random values between 0 to 1, can provide (x,y) args to shape the array to form multi-dim array."
   ]
  },
  {
   "cell_type": "code",
   "execution_count": null,
   "metadata": {},
   "outputs": [],
   "source": [
    "import random, numpy as np\n",
    "\n",
    "b = np.random.rand(10)\n",
    "print(b)\n",
    "\n",
    "a = np.random.rand(5, 3)\n",
    "print(a)"
   ]
  },
  {
   "cell_type": "markdown",
   "metadata": {},
   "source": [
    "> **2. random():**\n",
    "* Random numbers from 0 to 1 range.\n",
    "* Takes only 1 arg, to return only 1-D array.\n",
    "* Have to use reshape() method, to form multi-dim array."
   ]
  },
  {
   "cell_type": "markdown",
   "metadata": {},
   "source": [
    "a = np.random.random(10)\n",
    "print(a)\n",
    "a.reshape(2,5)\n",
    "print(a)"
   ]
  },
  {
   "cell_type": "markdown",
   "metadata": {},
   "source": [
    "> **3. ranf():**\n",
    "* Generate random nums between 0 to 1.\n",
    "\n",
    "* Takes only 1 arg."
   ]
  },
  {
   "cell_type": "code",
   "execution_count": null,
   "metadata": {},
   "outputs": [],
   "source": [
    "a = np.random.ranf(5)\n",
    "print(a)"
   ]
  },
  {
   "cell_type": "markdown",
   "metadata": {},
   "source": [
    "> **4. randint():**\n",
    "* Generate random int numbers.\n",
    "\n",
    "* **Syntax -** np.random.randint(low, high[None by default], size[None by default], dtype='i') "
   ]
  },
  {
   "cell_type": "code",
   "execution_count": null,
   "metadata": {},
   "outputs": [],
   "source": [
    "a = np.random.randint(2,10,10,dtype='i')\n",
    "print(a)\n",
    "\n",
    "b = np.random.randint(2,10)\n",
    "print(b)"
   ]
  },
  {
   "cell_type": "markdown",
   "metadata": {},
   "source": [
    "> **5. randn():**\n",
    "* Generate the normally distributed numbers around (0,0) i.e. Origin co-ordinates.\n",
    "\n",
    "* **Syntax -** np.random.randn(num)\n",
    "\n",
    "* Return 1-D array."
   ]
  },
  {
   "cell_type": "code",
   "execution_count": null,
   "metadata": {},
   "outputs": [],
   "source": [
    "a = np.random.randn(10)\n",
    "print(a)\n",
    "\n",
    "# Plot normally distributed graph\n",
    "import seaborn as sns\n",
    "a = np.random.randn(2)\n",
    "sns.kdeplot(a)"
   ]
  },
  {
   "cell_type": "markdown",
   "metadata": {},
   "source": [
    "# **Sorting Functions:**\n",
    "\n",
    "---"
   ]
  },
  {
   "cell_type": "markdown",
   "metadata": {},
   "source": [
    "> **numpy.sort() :** \n",
    "\n",
    "* This function returns a sorted copy of an array."
   ]
  },
  {
   "cell_type": "code",
   "execution_count": null,
   "metadata": {},
   "outputs": [],
   "source": [
    "a = np.array([[12, 15], [10, 1]])"
   ]
  },
  {
   "cell_type": "markdown",
   "metadata": {},
   "source": [
    "> **numpy.argsort() :** \n",
    "\n",
    "* This function returns the indices that would sort an array."
   ]
  },
  {
   "cell_type": "code",
   "execution_count": null,
   "metadata": {},
   "outputs": [],
   "source": [
    "a = np.array([9, 3, 1, 7, 4, 3, 6])\n",
    "b = np.argsort(a)\n",
    "print('Sorted indices of original array->', b)"
   ]
  },
  {
   "cell_type": "markdown",
   "metadata": {},
   "source": [
    "> **numpy.lexsort() :** \n",
    "\n",
    "* This function returns an indirect stable sort using a sequence of keys."
   ]
  },
  {
   "cell_type": "code",
   "execution_count": null,
   "metadata": {},
   "outputs": [],
   "source": [
    "# Numpy array created\n",
    "# First column\n",
    "a = np.array([9, 3, 1, 3, 4, 3, 6])\n",
    " \n",
    "# Second column \n",
    "b = np.array([4, 6, 9, 2, 1, 8, 7]) \n",
    "print('column a, column b')\n",
    "for (i, j) in zip(a, b):\n",
    "    print(i, ' ', j)\n",
    " \n",
    "# Sort by a then by b\n",
    "ind = np.lexsort((b, a)) \n",
    "print('Sorted indices->', ind)"
   ]
  },
  {
   "cell_type": "markdown",
   "metadata": {},
   "source": [
    "> **numpy.ndarray.sort():**\t\n",
    "\n",
    "* Sort an array, in-place."
   ]
  },
  {
   "cell_type": "code",
   "execution_count": null,
   "metadata": {},
   "outputs": [],
   "source": [
    "arr = np.array([9, 3, 1, 7, 4, 3, 6])\n",
    "np.ndarray.sort(arr)\n",
    "\n",
    "print(arr)"
   ]
  },
  {
   "cell_type": "markdown",
   "metadata": {},
   "source": [
    "> **numpy.sort_complex():**\t\n",
    "\n",
    "* Sort a complex array using the real part first, then the imaginary part."
   ]
  },
  {
   "cell_type": "code",
   "execution_count": null,
   "metadata": {},
   "outputs": [],
   "source": [
    "arr = np.array([12+4j, 5+6j, 5+4j, 5+2j, 8+6j, 6+5j])\n",
    "\n",
    "print(np.sort_complex(arr))"
   ]
  },
  {
   "cell_type": "markdown",
   "metadata": {},
   "source": [
    "> **numpy.partition():**\t\n",
    "\n",
    "* Return a partitioned copy of an array."
   ]
  },
  {
   "cell_type": "code",
   "execution_count": null,
   "metadata": {},
   "outputs": [],
   "source": [
    "arr = np.array([4,3,5,2,6,8,7,9])\n",
    "\n",
    "print(np.partition(arr))"
   ]
  },
  {
   "cell_type": "markdown",
   "metadata": {},
   "source": [
    "# **Searching**\n",
    "\n",
    "----"
   ]
  },
  {
   "cell_type": "markdown",
   "metadata": {},
   "source": [
    "* Searching is an operation or a technique that helps finds the place of a given element or value in the list. \n",
    "\n",
    "* Any search is said to be successful or unsuccessful depending upon whether the element that is being searched is found or not."
   ]
  },
  {
   "cell_type": "markdown",
   "metadata": {},
   "source": [
    "> **numpy.argmax() :**\n",
    "\n",
    "* This function returns indices of the max element of the array in a particular axis."
   ]
  },
  {
   "cell_type": "code",
   "execution_count": null,
   "metadata": {},
   "outputs": [],
   "source": [
    "arr = np.arange(12).reshape(3, 4)\n",
    "print(\"\\nMax element : \", np.argmax(arr))"
   ]
  },
  {
   "cell_type": "markdown",
   "metadata": {},
   "source": [
    "> **numpy.nanargmax() :**\n",
    "\n",
    "* This function returns indices of the max element of the array in a particular axis ignoring NaNs.\n",
    "\n",
    "* The results cannot be trusted if a slice contains only NaNs and Infs."
   ]
  },
  {
   "cell_type": "code",
   "execution_count": null,
   "metadata": {},
   "outputs": [],
   "source": [
    "array = [np.nan, 4, 2, 3, 1]\n",
    "print(\"\\nMax element : \", np.nanargmax(array))"
   ]
  },
  {
   "cell_type": "code",
   "execution_count": null,
   "metadata": {},
   "outputs": [],
   "source": [
    "arr2 = np.array([[np.nan, 4], [1, 3]])\n",
    "print((\"\\nIndices of max in array2 : \", np.nanargmax(arr2)))\n",
    " \n",
    "print((\"\\nIndices at axis 1 of array2 : \", np.nanargmax(arr2, axis = 1)))"
   ]
  },
  {
   "cell_type": "markdown",
   "metadata": {},
   "source": [
    "> **numpy.argmin() :** \n",
    "\n",
    "* This function returns the indices of the minimum values along an axis."
   ]
  },
  {
   "cell_type": "code",
   "execution_count": null,
   "metadata": {},
   "outputs": [],
   "source": [
    "array = np.arange(8)\n",
    "\n",
    "print(\"\\nIndices of min element : \", np.argmin(array, axis=0))"
   ]
  },
  {
   "cell_type": "markdown",
   "metadata": {},
   "source": [
    "# **Counting**\n",
    "\n",
    "---"
   ]
  },
  {
   "cell_type": "markdown",
   "metadata": {},
   "source": [
    "> **numpy.count_nonzero() :** \n",
    "\n",
    "* Counts the number of non-zero values in the array."
   ]
  },
  {
   "cell_type": "code",
   "execution_count": null,
   "metadata": {},
   "outputs": [],
   "source": [
    "a = np.count_nonzero([[0,1,7,0,0],[3,0,0,2,19]])\n",
    "b = np.count_nonzero([[0,1,7,0,0],[3,0,0,2,19]], axis=0)\n",
    " \n",
    "print(\"Number of nonzero values is :\",a)\n",
    "print(\"Number of nonzero values is :\",b)"
   ]
  },
  {
   "cell_type": "markdown",
   "metadata": {},
   "source": [
    "> **numpy.nonzero():**\t\n",
    "\n",
    "* Return the indices of the elements that are non-zero."
   ]
  },
  {
   "cell_type": "code",
   "execution_count": null,
   "metadata": {},
   "outputs": [],
   "source": [
    "a = np.array([[0,1,7,0,0],[3,0,0,2,19]])\n",
    "print(np.nonzero(a))"
   ]
  },
  {
   "cell_type": "markdown",
   "metadata": {},
   "source": [
    "> **numpy.flatnonzero():**\t\n",
    "\n",
    "* Return indices that are non-zero in the flattened version of a."
   ]
  },
  {
   "cell_type": "code",
   "execution_count": null,
   "metadata": {},
   "outputs": [],
   "source": [
    "a = np.array([[0,1,7,0,0],[3,0,0,2,19]])\n",
    "print(np.flatnonzero(a))"
   ]
  },
  {
   "cell_type": "markdown",
   "metadata": {},
   "source": [
    "> **numpy.where() function:**\n",
    "\n",
    "* This function is used to return the indices of all the elements which satisfies a particular condition."
   ]
  },
  {
   "cell_type": "code",
   "execution_count": null,
   "metadata": {},
   "outputs": [],
   "source": [
    "arr = np.array([[34, 12, 56], [5, 8, 3], [33, 77, 5]])\n",
    "print(np.where(arr>10))\n",
    "\n",
    "arr = np.array([34, 12, 56, 5, 8, 3, 33, 77, 5])\n",
    "print(np.where(arr>10))"
   ]
  },
  {
   "cell_type": "markdown",
   "metadata": {},
   "source": [
    "> **numpy.extract():**\n",
    "\n",
    "* The extract() function returns the elements satisfying any condition."
   ]
  },
  {
   "cell_type": "code",
   "execution_count": null,
   "metadata": {},
   "outputs": [],
   "source": [
    "x = np.arange(9.).reshape(3, 3)\n",
    "condition = np.mod(x,2) == 0\n",
    "\n",
    "print(np.extract(condition, x))"
   ]
  },
  {
   "cell_type": "code",
   "execution_count": null,
   "metadata": {},
   "outputs": [],
   "source": []
  }
 ],
 "metadata": {
  "language_info": {
   "name": "python"
  },
  "orig_nbformat": 4
 },
 "nbformat": 4,
 "nbformat_minor": 2
}
