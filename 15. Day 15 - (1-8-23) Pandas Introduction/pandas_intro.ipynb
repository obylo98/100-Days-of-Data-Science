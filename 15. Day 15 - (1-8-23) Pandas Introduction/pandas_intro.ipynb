{
 "cells": [
  {
   "cell_type": "markdown",
   "metadata": {},
   "source": [
    "> **Data Science:** is a branch of computer science where we study how to store, use and analyze data for deriving information from it."
   ]
  },
  {
   "cell_type": "markdown",
   "metadata": {},
   "source": [
    "# **Pandas**"
   ]
  },
  {
   "cell_type": "markdown",
   "metadata": {},
   "source": [
    "* Pandas is a Python library used for working with data sets.\n",
    "\n",
    "* It has functions for analyzing, cleaning, exploring, and manipulating data.\n",
    "\n",
    "* The name \"Pandas\" has a reference to both \"Panel Data\", and \"Python Data Analysis\" and was created by Wes McKinney in 2008.\n",
    "\n",
    "* Pandas allows us to analyze big data and make conclusions based on statistical theories.\n",
    "\n",
    "* Pandas can clean messy data sets, and make them readable and relevant.\n",
    "\n",
    "* Pandas are also able to delete rows that are not relevant, or contains wrong values, like empty or NULL values. This is called cleaning the data.\n",
    "\n",
    "* Pandas is fast and it has high performance & productivity for users."
   ]
  },
  {
   "cell_type": "markdown",
   "metadata": {},
   "source": [
    "> **Why Use Pandas?**\n",
    "\n",
    "* Fast and efficient for manipulating and analyzing data.\n",
    "\n",
    "* Data from different file objects can be easily loaded.\n",
    "\n",
    "* Flexible reshaping and pivoting of data sets\n",
    "\n",
    "* Provides time-series functionality."
   ]
  },
  {
   "cell_type": "markdown",
   "metadata": {},
   "source": [
    "> **Uses of Pandas:**\n",
    "\n",
    "* Data set cleaning, merging, and joining.\n",
    "\n",
    "* Easy handling of missing data (represented as NaN) in floating point as well as non-floating point data.\n",
    "\n",
    "* Columns can be inserted and deleted from DataFrame and higher dimensional objects.\n",
    "\n",
    "* Powerful group by functionality for performing split-apply-combine operations on data sets.\n",
    "\n",
    "* Data Visulaization"
   ]
  },
  {
   "cell_type": "markdown",
   "metadata": {},
   "source": [
    "# **Getting Started**"
   ]
  },
  {
   "cell_type": "markdown",
   "metadata": {},
   "source": [
    "> **Installing Pandas**\n",
    "\n",
    "* We need to install pandas library using the following **pip command:**\n",
    "\n",
    "        pip install pandas"
   ]
  },
  {
   "cell_type": "markdown",
   "metadata": {},
   "source": [
    "> **Importing Pandas**\n",
    "\n",
    "* After installing pandas on the system, we have to import it before any use, using the following statement:\n",
    "\n",
    "        import pandas as pd"
   ]
  },
  {
   "cell_type": "markdown",
   "metadata": {},
   "source": [
    "# **Pandas Data Structures**"
   ]
  },
  {
   "cell_type": "markdown",
   "metadata": {},
   "source": [
    "Pandas provide following 2 data structures for manipulating data:\n",
    "\n",
    "1. Series\n",
    "\n",
    "2. DataFrame"
   ]
  },
  {
   "cell_type": "markdown",
   "metadata": {},
   "source": [
    "> **1. Series:**\n",
    "\n",
    "* Pandas Series is a one-dimensional labeled array capable of holding data of any type (integer, string, float, python objects, etc.). \n",
    "\n",
    "* Labels need not be unique but must be a hashable type.\n",
    "\n",
    "* In the real world, a Pandas Series will be created by loading the datasets from existing storage, storage can be SQL Database, CSV file, or an Excel file. \n",
    "\n",
    "* Pandas Series can be created from lists, dictionaries, and from scalar values, etc."
   ]
  },
  {
   "cell_type": "code",
   "execution_count": null,
   "metadata": {},
   "outputs": [],
   "source": [
    "import pandas as pd\n",
    "import numpy as np\n",
    "\n",
    "arr = np.array([2,3,4,5,6,7,8])\n",
    "sr = pd.Series(arr)\n",
    "print(sr)"
   ]
  },
  {
   "cell_type": "markdown",
   "metadata": {},
   "source": [
    "> **2. DataFrame:**\n",
    "\n",
    "* Pandas DataFrame is a two-dimensional size-mutable, potentially heterogeneous tabular data structure with labeled axes (rows and columns). \n",
    "\n",
    "* A Data frame is a two-dimensional data structure, i.e., data is aligned in a tabular fashion in rows and columns.\n",
    "\n",
    "* Applications of DataFrame:\n",
    "  * Work on Dataset\n",
    "  * Analysis\n",
    "  * Dropping\n",
    "  * Processing\n",
    "  * Cleaning\n",
    "  * Join multiple data (CSV, excel format data)\n",
    "  * Create excel, json, CSV, binary files.\n",
    "  * Mathematical and Statistical Operations.\n",
    "  * Use of Group by Function."
   ]
  },
  {
   "cell_type": "markdown",
   "metadata": {},
   "source": [
    "**Columns:** Also called as - Features, variables, field, dimensions.\n",
    "\n",
    "**Rows:** Also called as - Records, values, observations, index."
   ]
  },
  {
   "cell_type": "markdown",
   "metadata": {},
   "source": [
    "> **Creating DataFrames:**"
   ]
  },
  {
   "cell_type": "code",
   "execution_count": null,
   "metadata": {},
   "outputs": [],
   "source": [
    "# data = {'a':[1,2,3], 'b':[11,12,13], 'c':[21,22]}\n",
    "# ValueError: All arrays must be of the same length\n",
    "# df = pd.DataFrame(data)\n",
    "# print(df)"
   ]
  },
  {
   "cell_type": "markdown",
   "metadata": {},
   "source": [
    "> **1. Using a Dictionary with values as lists:**"
   ]
  },
  {
   "cell_type": "code",
   "execution_count": null,
   "metadata": {},
   "outputs": [],
   "source": [
    "data = {'a':[1,2,3], 'b':[11,12,13], 'c':[21,22,23]}\n",
    "\n",
    "df = pd.DataFrame(data)\n",
    "print(df)"
   ]
  },
  {
   "cell_type": "markdown",
   "metadata": {},
   "source": [
    "> **2. Can fill same value to all rows:**"
   ]
  },
  {
   "cell_type": "code",
   "execution_count": 2,
   "metadata": {},
   "outputs": [],
   "source": [
    "d = {'name':'Snehal','age':22,'subjects':['C','C++','HTML','Java','Python']}\n",
    "df = pd.DataFrame(d)\n",
    "print(df)"
   ]
  },
  {
   "cell_type": "markdown",
   "metadata": {},
   "source": [
    "> **3. From dicstionary of numpy arrays:**"
   ]
  },
  {
   "cell_type": "code",
   "execution_count": null,
   "metadata": {},
   "outputs": [],
   "source": [
    "a = np.array([1,2,3,4])\n",
    "b = np.array(['A','B','C','D'])\n",
    "c = np.array(['Kop','San','Sat','Pune'])\n",
    "\n",
    "d = {'id':a, 'name':b, 'address':c}\n",
    "df = pd.DataFrame(d)\n",
    "print(df)"
   ]
  },
  {
   "cell_type": "markdown",
   "metadata": {},
   "source": [
    "> **4. Create DataFrame from list of lists:**"
   ]
  },
  {
   "cell_type": "code",
   "execution_count": 3,
   "metadata": {},
   "outputs": [],
   "source": [
    "lst = [['id','name','address'], [1,2,3,4], ['A','B','C','D'], ['Kop','San','Sat','Pune']]\n",
    "\n",
    "df = pd.DataFrame(dict(zip(lst[0],lst[1:])))\n",
    "print(df)"
   ]
  },
  {
   "cell_type": "code",
   "execution_count": null,
   "metadata": {},
   "outputs": [],
   "source": [
    "print(type(df))"
   ]
  },
  {
   "cell_type": "markdown",
   "metadata": {},
   "source": [
    "# **Importing and Exporting DataFrame**"
   ]
  },
  {
   "cell_type": "markdown",
   "metadata": {},
   "source": [
    "> **1. CSV File:**"
   ]
  },
  {
   "cell_type": "code",
   "execution_count": null,
   "metadata": {},
   "outputs": [],
   "source": [
    "# Write to CSV file:\n",
    "\n",
    "df.to_csv('df_csv.csv')"
   ]
  },
  {
   "cell_type": "code",
   "execution_count": null,
   "metadata": {},
   "outputs": [],
   "source": [
    "# Read from CSV file\n",
    "ddf = pd.read_csv('df_csv.csv')\n",
    "print(ddf)"
   ]
  },
  {
   "cell_type": "markdown",
   "metadata": {},
   "source": [
    "> **2. Excel File:**"
   ]
  },
  {
   "cell_type": "code",
   "execution_count": null,
   "metadata": {},
   "outputs": [],
   "source": [
    "# Write to Excel File\n",
    "df.to_excel('df_xl.xlsx')"
   ]
  },
  {
   "cell_type": "code",
   "execution_count": null,
   "metadata": {},
   "outputs": [],
   "source": [
    "# Read from Excel File\n",
    "dex = pd.read_excel('df_xl.xlsx')\n",
    "print(dex)"
   ]
  },
  {
   "cell_type": "markdown",
   "metadata": {},
   "source": [
    "> **3. JSON File:**"
   ]
  },
  {
   "cell_type": "code",
   "execution_count": null,
   "metadata": {},
   "outputs": [],
   "source": [
    "# Write to json file:\n",
    "df.to_json('df_json.json')"
   ]
  },
  {
   "cell_type": "code",
   "execution_count": null,
   "metadata": {},
   "outputs": [],
   "source": [
    "# Read from json file:\n",
    "dj = pd.read_json('df_json.json')\n",
    "print(dj)"
   ]
  },
  {
   "cell_type": "markdown",
   "metadata": {},
   "source": [
    "> **4. HTML File:**"
   ]
  },
  {
   "cell_type": "code",
   "execution_count": null,
   "metadata": {},
   "outputs": [],
   "source": [
    "# Write to HTML File\n",
    "df.to_html('df_html.html')"
   ]
  },
  {
   "cell_type": "code",
   "execution_count": null,
   "metadata": {},
   "outputs": [],
   "source": [
    "# Read from html file:\n",
    "dh = pd.read_html('df_html.html')\n",
    "print(dh)"
   ]
  },
  {
   "cell_type": "markdown",
   "metadata": {},
   "source": [
    "# **DataFrame Functions**"
   ]
  },
  {
   "cell_type": "markdown",
   "metadata": {},
   "source": [
    "> **Check size of data frame:**"
   ]
  },
  {
   "cell_type": "code",
   "execution_count": null,
   "metadata": {},
   "outputs": [],
   "source": [
    "df = pd.read_csv('Housing.csv')\n",
    "print(df)\n",
    "\n",
    "print(df.size)  # --> rows * cols\n",
    "\n",
    "print(df.index) # --> Range of index from Start to End\n"
   ]
  },
  {
   "cell_type": "markdown",
   "metadata": {},
   "source": [
    "> **Get Names of the Columns:**\n"
   ]
  },
  {
   "cell_type": "code",
   "execution_count": null,
   "metadata": {},
   "outputs": [],
   "source": [
    "print(df.columns)  # --> Names of columns\n",
    "\n",
    "print(df.axes)  # --> Range and Names of the columns \n"
   ]
  },
  {
   "cell_type": "markdown",
   "metadata": {},
   "source": [
    "> **df.info():**\n",
    "\n",
    "* Getting info of overall data frame."
   ]
  },
  {
   "cell_type": "code",
   "execution_count": null,
   "metadata": {},
   "outputs": [],
   "source": [
    "print(df.info())"
   ]
  },
  {
   "cell_type": "markdown",
   "metadata": {},
   "source": [
    "> **df.describe():**\n",
    "\n",
    "* Return all the statistical functions values.\n",
    "\n",
    "* For all the columns with numeric data type, present in the dataframe.\n",
    "\n",
    "* Does not work for the string(object) data type."
   ]
  },
  {
   "cell_type": "code",
   "execution_count": null,
   "metadata": {},
   "outputs": [],
   "source": [
    "print(df.describe())"
   ]
  },
  {
   "cell_type": "markdown",
   "metadata": {},
   "source": [
    "> **df.head():**\n",
    "\n",
    "* Return first 5 rows, by default.\n",
    "\n",
    "* Can also specify number of rows to fetch."
   ]
  },
  {
   "cell_type": "markdown",
   "metadata": {},
   "source": [
    "print(df.head())\n",
    "\n",
    "print(df.head(10))"
   ]
  },
  {
   "cell_type": "markdown",
   "metadata": {},
   "source": [
    "> **df.tail():**\n",
    "\n",
    "* Return last 5 rows, by default.\n",
    "\n",
    "* Can also specify number of rows to fetch."
   ]
  },
  {
   "cell_type": "markdown",
   "metadata": {},
   "source": [
    "print(df.tail())\n",
    "\n",
    "print(df.tail(10))"
   ]
  },
  {
   "cell_type": "markdown",
   "metadata": {},
   "source": [
    "> **isna():** \n",
    "\n",
    "* Show null values.\n",
    "\n",
    "* Return DataFrame which contains - \n",
    "  * True - for NULL values\n",
    "  * False - for NON-NULL values."
   ]
  },
  {
   "cell_type": "code",
   "execution_count": null,
   "metadata": {},
   "outputs": [],
   "source": [
    "d = {'id':[1,2,3], 'name':['A','B','C'], 'age':[21,23,np.nan]}\n",
    "\n",
    "df = pd.DataFrame(d)\n",
    "df.isna()"
   ]
  },
  {
   "cell_type": "markdown",
   "metadata": {},
   "source": [
    "> **Transpose of the DataFrame:**\n",
    "\n",
    "* Convert the row indices to column names and vice versa."
   ]
  },
  {
   "cell_type": "code",
   "execution_count": null,
   "metadata": {},
   "outputs": [],
   "source": [
    "df.iloc[1:5,:5].transpose()"
   ]
  },
  {
   "cell_type": "code",
   "execution_count": null,
   "metadata": {},
   "outputs": [],
   "source": [
    "df.iloc[1:5,:5].T"
   ]
  },
  {
   "cell_type": "markdown",
   "metadata": {},
   "source": [
    "# **Accessing DataFrame**"
   ]
  },
  {
   "cell_type": "markdown",
   "metadata": {},
   "source": [
    "> **Access by name of the Column:**\n",
    "\n",
    "* Can access using the following 2 methods:\n",
    "\n",
    "        1. df.col_name\n",
    "\n",
    "        2. df['col_name']"
   ]
  },
  {
   "cell_type": "code",
   "execution_count": null,
   "metadata": {},
   "outputs": [],
   "source": [
    "print(df.price)\n",
    "# Give column name as index in []\n",
    "print(df.price[0])\n",
    "\n",
    "print(df['price'])\n",
    "# Give name of the column as index in []\n",
    "print(df['price'][34])"
   ]
  },
  {
   "cell_type": "markdown",
   "metadata": {},
   "source": [
    "> **df.loc:**\n",
    "\n",
    "* It also access the actual values at the index and columns.\n",
    "\n",
    "* Can get record at an index:\n",
    "\n",
    "        df.loc[index]\n",
    "\n",
    "        df.loc[start:end]\n",
    "\n",
    "        df.loc[start:end:step]\n",
    "\n"
   ]
  },
  {
   "cell_type": "code",
   "execution_count": null,
   "metadata": {},
   "outputs": [],
   "source": [
    "df.loc[10]"
   ]
  },
  {
   "cell_type": "code",
   "execution_count": null,
   "metadata": {},
   "outputs": [],
   "source": [
    "df.loc[10:12]"
   ]
  },
  {
   "cell_type": "code",
   "execution_count": null,
   "metadata": {},
   "outputs": [],
   "source": [
    "df.loc[10:22:2]"
   ]
  },
  {
   "cell_type": "markdown",
   "metadata": {},
   "source": [
    "* Can access records with a condition in **loc[]**:\n",
    "\n",
    "        df.loc[condition]"
   ]
  },
  {
   "cell_type": "code",
   "execution_count": null,
   "metadata": {},
   "outputs": [],
   "source": [
    "df.loc[df['bedrooms']==3]"
   ]
  },
  {
   "cell_type": "code",
   "execution_count": null,
   "metadata": {},
   "outputs": [],
   "source": [
    "df.loc[df['bedrooms']<3]"
   ]
  },
  {
   "cell_type": "markdown",
   "metadata": {},
   "source": [
    "> **Access Specific Value in the Data Frame:**\n",
    "\n",
    "        df[col_name][index]"
   ]
  },
  {
   "cell_type": "code",
   "execution_count": null,
   "metadata": {},
   "outputs": [],
   "source": [
    "df['price'][23]"
   ]
  },
  {
   "cell_type": "code",
   "execution_count": null,
   "metadata": {},
   "outputs": [],
   "source": [
    "df['price'][23:45]"
   ]
  },
  {
   "cell_type": "markdown",
   "metadata": {},
   "source": [
    "> **Access Data from Mulyiple Columns:**\n",
    "\n",
    "* Use names of the columns in the form of a list:\n",
    "\n",
    "        df[[col_names_list]]"
   ]
  },
  {
   "cell_type": "markdown",
   "metadata": {},
   "source": [
    "df[['price', 'area', 'bathrooms']]\n"
   ]
  },
  {
   "cell_type": "markdown",
   "metadata": {},
   "source": [
    "> **iloc:**\n",
    "\n",
    "* Pass axes numbers for index and columns."
   ]
  },
  {
   "cell_type": "code",
   "execution_count": null,
   "metadata": {},
   "outputs": [],
   "source": [
    "df.iloc[1:5,]\n",
    "# Return all columns of 1 to 4 rows\n",
    "\n",
    "df.iloc[1:5,:3]\n",
    "# Return only firsy 3 columns of rows 1:4.\n"
   ]
  },
  {
   "cell_type": "code",
   "execution_count": null,
   "metadata": {},
   "outputs": [],
   "source": []
  },
  {
   "cell_type": "code",
   "execution_count": null,
   "metadata": {},
   "outputs": [],
   "source": []
  }
 ],
 "metadata": {
  "kernelspec": {
   "display_name": "Python 3",
   "language": "python",
   "name": "python3"
  },
  "language_info": {
   "codemirror_mode": {
    "name": "ipython",
    "version": 3
   },
   "file_extension": ".py",
   "mimetype": "text/x-python",
   "name": "python",
   "nbconvert_exporter": "python",
   "pygments_lexer": "ipython3",
   "version": "3.11.3"
  },
  "orig_nbformat": 4
 },
 "nbformat": 4,
 "nbformat_minor": 2
}
