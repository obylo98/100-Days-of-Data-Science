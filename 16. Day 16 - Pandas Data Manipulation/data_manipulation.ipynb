{
 "cells": [
  {
   "cell_type": "code",
   "execution_count": 1,
   "metadata": {},
   "outputs": [],
   "source": [
    "import pandas as pd\n",
    "import numpy as np"
   ]
  },
  {
   "cell_type": "code",
   "execution_count": 2,
   "metadata": {},
   "outputs": [
    {
     "name": "stdout",
     "output_type": "stream",
     "text": [
      "[1 2 3 4]\n"
     ]
    }
   ],
   "source": [
    "arr = np.array([1,2,3,4])\n",
    "print(arr)"
   ]
  },
  {
   "cell_type": "markdown",
   "metadata": {},
   "source": [
    "# **Advanced Indexing and Selection**"
   ]
  },
  {
   "cell_type": "markdown",
   "metadata": {},
   "source": [
    "> **Multi-level indexing with hierarchical indexing**\n",
    "\n",
    "* Creating DataFrames with multiple levels of indexes to work with multi-dimensional data."
   ]
  },
  {
   "cell_type": "code",
   "execution_count": 30,
   "metadata": {},
   "outputs": [
    {
     "name": "stdout",
     "output_type": "stream",
     "text": [
      "Year\n",
      "2020    1\n",
      "2021    2\n",
      "Name: A, dtype: int64\n"
     ]
    }
   ],
   "source": [
    "import pandas as pd\n",
    "\n",
    "data = {\n",
    "    'A': [1, 2, 3, 4, 5, 6],\n",
    "    'B': [7, 8, 9, 10, 11, 12],\n",
    "    'C': [13, 14, 15, 16, 17, 18]\n",
    "}\n",
    "index = pd.MultiIndex.from_tuples([('X', 2020), ('X', 2021), ('Y', 2020), ('Y', 2021), ('Z', 2020), ('Z', 2021)], names=['City', 'Year'])\n",
    "df = pd.DataFrame(data, index=index)\n",
    "\n",
    "print(df['A']['X'])\n"
   ]
  },
  {
   "cell_type": "markdown",
   "metadata": {},
   "source": [
    "> **Indexing and slicing with loc[] and iloc[]:**\n",
    "\n",
    "* Accessing DataFrame elements using labeled and integer-based indexing."
   ]
  },
  {
   "cell_type": "code",
   "execution_count": 4,
   "metadata": {},
   "outputs": [
    {
     "name": "stdout",
     "output_type": "stream",
     "text": [
      "1\n",
      "7\n"
     ]
    }
   ],
   "source": [
    "# Using loc[] for labeled indexing\n",
    "print(df.loc[('X', 2020), 'A'])  \n",
    "\n",
    "# Using iloc[] for integer-based indexing\n",
    "print(df.iloc[0, 1])  \n"
   ]
  },
  {
   "cell_type": "markdown",
   "metadata": {},
   "source": [
    "> **Boolean indexing and filtering:**\n",
    "\n",
    "* Selecting data from a DataFrame based on specified conditions."
   ]
  },
  {
   "cell_type": "code",
   "execution_count": 5,
   "metadata": {},
   "outputs": [
    {
     "name": "stdout",
     "output_type": "stream",
     "text": [
      "           A   B   C\n",
      "City Year           \n",
      "Y    2021  4  10  16\n",
      "Z    2020  5  11  17\n",
      "     2021  6  12  18\n"
     ]
    }
   ],
   "source": [
    "# Boolean indexing to filter rows with 'B' values greater than 9\n",
    "filtered_df = df[df['B'] > 9]\n",
    "print(filtered_df)\n"
   ]
  },
  {
   "cell_type": "markdown",
   "metadata": {},
   "source": [
    "# **Combining DataFrames**"
   ]
  },
  {
   "cell_type": "markdown",
   "metadata": {},
   "source": [
    "> **Merging and joining DataFrames with merge() and join():**\n",
    "\n",
    "* Combining DataFrames based on common columns."
   ]
  },
  {
   "cell_type": "code",
   "execution_count": 9,
   "metadata": {},
   "outputs": [
    {
     "name": "stdout",
     "output_type": "stream",
     "text": [
      "   ID     Name  Age\n",
      "0   2      Bob   25\n",
      "1   3  Charlie   30\n"
     ]
    }
   ],
   "source": [
    "df1 = pd.DataFrame({'ID': [1, 2, 3], 'Name': ['Alice', 'Bob', 'Charlie']})\n",
    "df2 = pd.DataFrame({'ID': [2, 3, 4], 'Age': [25, 30, 22]})\n",
    "\n",
    "# Merging based on 'ID'\n",
    "merged_df = pd.merge(df1, df2, on='ID', how='inner')\n",
    "print(merged_df)\n"
   ]
  },
  {
   "cell_type": "markdown",
   "metadata": {},
   "source": [
    "> **Concatenating DataFrames using concat():**\n",
    "\n",
    "* Combining DataFrames along a specified axis (rows or columns)."
   ]
  },
  {
   "cell_type": "code",
   "execution_count": 7,
   "metadata": {},
   "outputs": [
    {
     "name": "stdout",
     "output_type": "stream",
     "text": [
      "   A  B\n",
      "0  1  3\n",
      "1  2  4\n",
      "0  5  7\n",
      "1  6  8\n"
     ]
    }
   ],
   "source": [
    "df1 = pd.DataFrame({'A': [1, 2], 'B': [3, 4]})\n",
    "df2 = pd.DataFrame({'A': [5, 6], 'B': [7, 8]})\n",
    "\n",
    "# Concatenating along rows\n",
    "concatenated_df = pd.concat([df1, df2])\n",
    "print(concatenated_df)\n"
   ]
  },
  {
   "cell_type": "markdown",
   "metadata": {},
   "source": [
    "# **Data Manipulation**"
   ]
  },
  {
   "cell_type": "markdown",
   "metadata": {},
   "source": [
    "> **Filtering and subsetting data based on conditions**\n",
    "\n",
    "* Extracting specific subsets of data using conditional statements."
   ]
  },
  {
   "cell_type": "code",
   "execution_count": 36,
   "metadata": {},
   "outputs": [
    {
     "name": "stdout",
     "output_type": "stream",
     "text": [
      "   id name  Age    City\n",
      "1   2    B   26    Pune\n",
      "2   3    C   38  Mumbai\n"
     ]
    }
   ],
   "source": [
    "d = {'id':[1,2,3],'name':['A','B','C'],'Age':[22,26,38],'City':['Kolhapur','Pune','Mumbai']}\n",
    "df = pd.DataFrame(d)\n",
    "\n",
    "# Filter rows where column 'Age' is greater than 25\n",
    "filtered_data = df[df['Age'] > 25]\n",
    "print(filtered_data)\n"
   ]
  },
  {
   "cell_type": "markdown",
   "metadata": {},
   "source": [
    "> **Sorting and ranking data:**\n",
    "\n",
    "*  Ordering data based on column values and assigning ranks to data elements."
   ]
  },
  {
   "cell_type": "code",
   "execution_count": 37,
   "metadata": {},
   "outputs": [
    {
     "name": "stdout",
     "output_type": "stream",
     "text": [
      "   id name  Age      City  Rank\n",
      "0   1    A   22  Kolhapur   3.0\n",
      "1   2    B   26      Pune   2.0\n",
      "2   3    C   38    Mumbai   1.0\n"
     ]
    }
   ],
   "source": [
    "# Sorting DataFrame based on 'Age' in descending order\n",
    "sorted_df = df.sort_values(by='Age', ascending=False)\n",
    "\n",
    "# Ranking 'Age' within the DataFrame\n",
    "df['Rank'] = df['Age'].rank(ascending=False)\n",
    "\n",
    "print(df)"
   ]
  },
  {
   "cell_type": "markdown",
   "metadata": {},
   "source": [
    "> **Aggregating and summarizing data using groupby()**\n",
    "\n",
    "* Grouping data based on one or more columns and applying aggregation functions."
   ]
  },
  {
   "cell_type": "code",
   "execution_count": 38,
   "metadata": {},
   "outputs": [
    {
     "name": "stdout",
     "output_type": "stream",
     "text": [
      "City\n",
      "Kolhapur    22.0\n",
      "Mumbai      38.0\n",
      "Pune        26.0\n",
      "Name: Age, dtype: float64\n"
     ]
    }
   ],
   "source": [
    "# Grouping data by 'City' and calculating mean 'Age'\n",
    "grouped_df = df.groupby('City')['Age'].mean()\n",
    "print(grouped_df)\n"
   ]
  },
  {
   "cell_type": "markdown",
   "metadata": {},
   "source": [
    "> **Merging, joining, and concatenating DataFrames:**\n",
    "\n",
    "* Combining data from different DataFrames."
   ]
  },
  {
   "cell_type": "code",
   "execution_count": 13,
   "metadata": {},
   "outputs": [
    {
     "name": "stdout",
     "output_type": "stream",
     "text": [
      "   ID     Name  Age\n",
      "0   2      Bob   25\n",
      "1   3  Charlie   30\n"
     ]
    }
   ],
   "source": [
    "# Merging based on 'ID'\n",
    "merged_df = pd.merge(df1, df2, on='ID', how='inner')\n",
    "print(merged_df)\n"
   ]
  },
  {
   "cell_type": "markdown",
   "metadata": {},
   "source": [
    "> **Pivoting and melting data for reshaping:**\n",
    "\n",
    "* Changing the layout of the DataFrame to perform analysis efficiently."
   ]
  },
  {
   "cell_type": "code",
   "execution_count": 43,
   "metadata": {},
   "outputs": [
    {
     "name": "stdout",
     "output_type": "stream",
     "text": [
      "Year      2015  2018  2019  2021  2023\n",
      "City                                  \n",
      "Kolhapur   NaN   NaN   NaN  21.0   NaN\n",
      "Mumbai     NaN   NaN  68.0   NaN   NaN\n",
      "Pune       NaN  23.0   NaN   NaN   NaN\n",
      "Sangli     NaN   NaN   NaN   NaN  56.0\n",
      "Satara    34.0   NaN   NaN   NaN   NaN\n"
     ]
    }
   ],
   "source": [
    "data = {\n",
    "    'Id': [1,2,3,4,5],\n",
    "    'Name': ['A', 'B', 'C', 'D', 'E'],\n",
    "    'City': ['Kolhapur', 'Pune', 'Sangli', 'Satara', 'Mumbai'],\n",
    "    'Age': [21, 23, 56, 34, 68],\n",
    "    'Salary': [23000, 45000, 35000, 78000, 56000],\n",
    "    'Year': [2021, 2018, 2023, 2015, 2019]\n",
    "}\n",
    "\n",
    "df = pd.DataFrame(data)\n",
    "\n",
    "# Pivoting DataFrame to show 'Age' for each 'City'\n",
    "pivoted_df = df.pivot(index='City', columns='Year', values='Age')\n",
    "\n",
    "print(pivoted_df)"
   ]
  },
  {
   "cell_type": "code",
   "execution_count": 44,
   "metadata": {},
   "outputs": [
    {
     "name": "stdout",
     "output_type": "stream",
     "text": [
      "       City  Year Attribute  Value\n",
      "0  Kolhapur  2021       Age     21\n",
      "1      Pune  2018       Age     23\n",
      "2    Sangli  2023       Age     56\n",
      "3    Satara  2015       Age     34\n",
      "4    Mumbai  2019       Age     68\n",
      "5  Kolhapur  2021    Salary  23000\n",
      "6      Pune  2018    Salary  45000\n",
      "7    Sangli  2023    Salary  35000\n",
      "8    Satara  2015    Salary  78000\n",
      "9    Mumbai  2019    Salary  56000\n"
     ]
    }
   ],
   "source": [
    "# Melting DataFrame to convert columns into rows\n",
    "melted_df = pd.melt(df, id_vars=['City', 'Year'], value_vars=['Age', 'Salary'], var_name='Attribute', value_name='Value')\n",
    "\n",
    "print(melted_df)"
   ]
  },
  {
   "cell_type": "markdown",
   "metadata": {},
   "source": [
    "# **Advanced Data Manipulation**"
   ]
  },
  {
   "cell_type": "markdown",
   "metadata": {},
   "source": [
    "> **Multi-level indexing and hierarchical data**\n",
    "\n",
    "* Creating DataFrames with multiple levels of indexes to handle complex datasets."
   ]
  },
  {
   "cell_type": "code",
   "execution_count": 46,
   "metadata": {},
   "outputs": [
    {
     "name": "stdout",
     "output_type": "stream",
     "text": [
      "Year\n",
      "2020    1\n",
      "2021    2\n",
      "Name: A, dtype: int64\n"
     ]
    }
   ],
   "source": [
    "import pandas as pd\n",
    "\n",
    "# Creating a DataFrame with multi-level index\n",
    "data = {\n",
    "    'A': [1, 2, 3, 4, 5, 6],\n",
    "    'B': [7, 8, 9, 10, 11, 12],\n",
    "    'C': [13, 14, 15, 16, 17, 18]\n",
    "}\n",
    "index = pd.MultiIndex.from_tuples([('X', 2020), ('X', 2021), ('Y', 2020), ('Y', 2021), ('Z', 2020), ('Z', 2021)], names=['City', 'Year'])\n",
    "df = pd.DataFrame(data, index=index)\n",
    "\n",
    "print(df['A']['X'])"
   ]
  },
  {
   "cell_type": "markdown",
   "metadata": {},
   "source": [
    "> **Pivot tables and cross-tabulations:**\n",
    "\n",
    "* Transforming data and summarizing it using pivot tables and cross-tabulations."
   ]
  },
  {
   "cell_type": "code",
   "execution_count": 16,
   "metadata": {},
   "outputs": [
    {
     "name": "stdout",
     "output_type": "stream",
     "text": [
      "Year  2020  2021\n",
      "City            \n",
      "A      180   150\n",
      "B      120   450\n"
     ]
    }
   ],
   "source": [
    "# Creating a DataFrame\n",
    "data = {\n",
    "    'City': ['A', 'A', 'B', 'B', 'A', 'B'],\n",
    "    'Year': [2020, 2021, 2020, 2021, 2020, 2021],\n",
    "    'Sales': [100, 150, 120, 200, 80, 250]\n",
    "}\n",
    "df = pd.DataFrame(data)\n",
    "\n",
    "# Creating a pivot table to summarize 'Sales' based on 'City' and 'Year'\n",
    "pivot_table = df.pivot_table(values='Sales', index='City', columns='Year', aggfunc='sum')\n",
    "print(pivot_table)\n"
   ]
  },
  {
   "cell_type": "markdown",
   "metadata": {},
   "source": [
    "> **Handling text data and regular expressions:**\n",
    "\n",
    "* Dealing with text data and applying regular expressions for pattern matching and extraction."
   ]
  },
  {
   "cell_type": "code",
   "execution_count": 17,
   "metadata": {},
   "outputs": [
    {
     "name": "stdout",
     "output_type": "stream",
     "text": [
      "     Text\n",
      "0   apple\n",
      "1  orange\n",
      "2  banana\n",
      "3   grape\n",
      "4   peach\n"
     ]
    }
   ],
   "source": [
    "# Creating a DataFrame with text data\n",
    "data = {\n",
    "    'Text': ['apple', 'orange', 'banana', 'grape', 'peach']\n",
    "}\n",
    "df = pd.DataFrame(data)\n",
    "\n",
    "# Using str.contains() to filter rows with text containing 'a'\n",
    "filtered_df = df[df['Text'].str.contains('a')]\n",
    "print(filtered_df)\n"
   ]
  },
  {
   "cell_type": "markdown",
   "metadata": {},
   "source": [
    "> **Working with JSON and other data:**\n",
    "\n",
    "* Reading, manipulating, and analyzing data in JSON format and other formats like XML, HTML, etc."
   ]
  },
  {
   "cell_type": "code",
   "execution_count": 18,
   "metadata": {},
   "outputs": [
    {
     "name": "stdout",
     "output_type": "stream",
     "text": [
      "   name  age      city\n",
      "0  John   30  New York\n"
     ]
    }
   ],
   "source": [
    "# Reading JSON data into a DataFrame\n",
    "import json\n",
    "\n",
    "json_data = '{\"name\": \"John\", \"age\": 30, \"city\": \"New York\"}'\n",
    "df = pd.DataFrame(json.loads(json_data), index=[0])\n",
    "print(df)\n"
   ]
  },
  {
   "cell_type": "markdown",
   "metadata": {},
   "source": [
    "# **Data Aggregation and Grouping**"
   ]
  },
  {
   "cell_type": "markdown",
   "metadata": {},
   "source": [
    "> **Grouping data using groupby()**\n",
    "\n",
    "* Splitting data into groups based on one or more categorical variables."
   ]
  },
  {
   "cell_type": "code",
   "execution_count": 47,
   "metadata": {},
   "outputs": [
    {
     "name": "stdout",
     "output_type": "stream",
     "text": [
      "('A',   City  Sales\n",
      "0    A    100\n",
      "2    A     80\n",
      "4    A    200)\n",
      "('B',   City  Sales\n",
      "1    B    120\n",
      "3    B    150\n",
      "5    B    250)\n"
     ]
    }
   ],
   "source": [
    "# Creating a DataFrame\n",
    "data = {\n",
    "    'City': ['A', 'B', 'A', 'B', 'A', 'B'],\n",
    "    'Sales': [100, 120, 80, 150, 200, 250]\n",
    "}\n",
    "df = pd.DataFrame(data)\n",
    "\n",
    "# Grouping data by 'City'\n",
    "grouped_df = df.groupby('City')\n",
    "\n",
    "for i in grouped_df:\n",
    "    print(i)\n"
   ]
  },
  {
   "cell_type": "markdown",
   "metadata": {},
   "source": [
    "> **Applying aggregation functions to groups:**\n",
    "\n",
    "* Calculating summary statistics for each group."
   ]
  },
  {
   "cell_type": "code",
   "execution_count": 21,
   "metadata": {},
   "outputs": [
    {
     "name": "stdout",
     "output_type": "stream",
     "text": [
      "City\n",
      "A    380\n",
      "B    520\n",
      "Name: Sales, dtype: int64\n"
     ]
    }
   ],
   "source": [
    "# Calculating the total sales for each city\n",
    "grouped_df = df.groupby('City')['Sales'].sum()\n",
    "print(grouped_df)\n"
   ]
  },
  {
   "cell_type": "markdown",
   "metadata": {},
   "source": [
    "> **Performing multi-level aggregation:**\n",
    "\n",
    "* Aggregating data at multiple levels of grouping."
   ]
  },
  {
   "cell_type": "code",
   "execution_count": 51,
   "metadata": {},
   "outputs": [
    {
     "name": "stdout",
     "output_type": "stream",
     "text": [
      "City      Year\n",
      "Kolhapur  2012    23000\n",
      "          2018    34000\n",
      "Mumbai    2015    40000\n",
      "Pune      2016    43000\n",
      "Sangli    2013    30000\n",
      "Satara    2017    65000\n",
      "Name: Sales, dtype: int64\n"
     ]
    }
   ],
   "source": [
    "data = {\n",
    "    'Id': [1,2,3,4,5,6],\n",
    "    'City': ['Kolhapur', 'Pune', 'Sangli', 'Mumbai', 'Satara', 'Kolhapur'],\n",
    "    'Year': [2012, 2016, 2013, 2015, 2017, 2018],\n",
    "    'Sales': [23000, 43000, 30000, 40000, 65000, 34000]\n",
    "}\n",
    "\n",
    "df = pd.DataFrame(data)\n",
    "\n",
    "# Grouping data by 'City' and 'Year', and calculating the total sales for each group\n",
    "grouped_df = df.groupby(['City', 'Year'])['Sales'].sum()\n",
    "print(grouped_df)\n"
   ]
  },
  {
   "cell_type": "markdown",
   "metadata": {},
   "source": [
    "> **Grouping data with groupby() and split-apply-combine operations**\n",
    "\n",
    "* Applying transformations to groups and combining the results."
   ]
  },
  {
   "cell_type": "code",
   "execution_count": 23,
   "metadata": {},
   "outputs": [
    {
     "name": "stdout",
     "output_type": "stream",
     "text": [
      "      sum        mean  max\n",
      "City                      \n",
      "A     380  126.666667  200\n",
      "B     520  173.333333  250\n"
     ]
    }
   ],
   "source": [
    "# Applying multiple aggregation functions to 'Sales' for each city\n",
    "grouped_df = df.groupby('City')['Sales'].agg(['sum', 'mean', 'max'])\n",
    "print(grouped_df)\n"
   ]
  },
  {
   "cell_type": "markdown",
   "metadata": {},
   "source": [
    "> **Aggregation functions (e.g., mean, sum, count, min, max):**\n",
    "\n",
    "* Using various aggregation functions to calculate statistics on grouped data."
   ]
  },
  {
   "cell_type": "code",
   "execution_count": 24,
   "metadata": {},
   "outputs": [
    {
     "name": "stdout",
     "output_type": "stream",
     "text": [
      "            mean  sum\n",
      "City                 \n",
      "A     126.666667  380\n",
      "B     173.333333  520\n"
     ]
    }
   ],
   "source": [
    "# Calculating the average and total sales for each city\n",
    "grouped_df = df.groupby('City')['Sales'].agg(['mean', 'sum'])\n",
    "print(grouped_df)\n"
   ]
  }
 ],
 "metadata": {
  "kernelspec": {
   "display_name": "Python 3",
   "language": "python",
   "name": "python3"
  },
  "language_info": {
   "codemirror_mode": {
    "name": "ipython",
    "version": 3
   },
   "file_extension": ".py",
   "mimetype": "text/x-python",
   "name": "python",
   "nbconvert_exporter": "python",
   "pygments_lexer": "ipython3",
   "version": "3.11.4"
  },
  "orig_nbformat": 4
 },
 "nbformat": 4,
 "nbformat_minor": 2
}
