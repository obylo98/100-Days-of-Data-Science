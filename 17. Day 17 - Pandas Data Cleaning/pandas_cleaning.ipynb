{
 "cells": [
  {
   "cell_type": "code",
   "execution_count": 1,
   "metadata": {},
   "outputs": [],
   "source": [
    "import numpy as np\n",
    "import pandas as pd"
   ]
  },
  {
   "cell_type": "markdown",
   "metadata": {},
   "source": [
    "# **Basic Data Cleaning**\n",
    "\n",
    "---"
   ]
  },
  {
   "cell_type": "markdown",
   "metadata": {},
   "source": [
    "* Data cleaning means fixing bad data in your data set.\n",
    "* Bad data could be:\n",
    "  * Empty cells\n",
    "  * Data in wrong format\n",
    "  * Wrong data\n",
    "  * Duplicates"
   ]
  },
  {
   "cell_type": "markdown",
   "metadata": {},
   "source": [
    "> **1. Removing Duplicates :**\n",
    "\n",
    "* To discover duplicates, we can use the duplicated() method.\n",
    "\n",
    "* The duplicated() method returns a Boolean values for each row.\n",
    "\n",
    "* To remove duplicates, use the drop_duplicates() method.\n",
    "\n",
    "* **Remember:** The (inplace = True) will make sure that the method does NOT return a new DataFrame, but it will remove all duplicates from the original DataFrame."
   ]
  },
  {
   "cell_type": "code",
   "execution_count": 61,
   "metadata": {},
   "outputs": [
    {
     "name": "stdout",
     "output_type": "stream",
     "text": [
      "   Id Name City  Year\n",
      "0   1    A    P  2013\n",
      "1   2    B    O  2023\n",
      "2   1    A    P  2013\n",
      "3   3    D    S  2025\n",
      "4   2    B    O  2023\n",
      "5   2    B    O  2023\n",
      "6   3    D    R  2017\n"
     ]
    }
   ],
   "source": [
    "data = {\n",
    "    'Id': [1,2,1,3,2,2,3],\n",
    "    'Name': ['A','B','A','D','B','B','D'],\n",
    "    'City': ['P','O','P','S','O','O','R'],\n",
    "    'Year': [2013, 2023, 2013, 2025, 2023, 2023, 2017]\n",
    "}\n",
    "\n",
    "df = pd.DataFrame(data)\n",
    "print(df)"
   ]
  },
  {
   "cell_type": "code",
   "execution_count": 62,
   "metadata": {},
   "outputs": [
    {
     "name": "stdout",
     "output_type": "stream",
     "text": [
      "0    False\n",
      "1    False\n",
      "2     True\n",
      "3    False\n",
      "4     True\n",
      "5     True\n",
      "6    False\n",
      "dtype: bool\n"
     ]
    }
   ],
   "source": [
    "# Find Duplicate rows in the DataFrame\n",
    "# Returns True for duplicated rows and False otherwise.\n",
    "\n",
    "print(df.duplicated())"
   ]
  },
  {
   "cell_type": "code",
   "execution_count": 64,
   "metadata": {},
   "outputs": [
    {
     "name": "stdout",
     "output_type": "stream",
     "text": [
      "   Id Name City  Year\n",
      "0   1    A    P  2013\n",
      "1   2    B    O  2023\n",
      "3   3    D    S  2025\n",
      "6   3    D    R  2017\n"
     ]
    }
   ],
   "source": [
    "# Remove the duplicated rows\n",
    "\n",
    "print(df.drop_duplicates())\n",
    "# Returns DF with unique records only"
   ]
  },
  {
   "cell_type": "markdown",
   "metadata": {},
   "source": [
    "> **2. Fixing Wrong Data:**\n",
    "\n",
    "* Wrong data may be data not in the default range.\n",
    "\n",
    "* Or can also be an outlier.\n",
    "\n",
    "* One way to fix wrong values is to replace them with something else."
   ]
  },
  {
   "cell_type": "code",
   "execution_count": 66,
   "metadata": {},
   "outputs": [
    {
     "name": "stdout",
     "output_type": "stream",
     "text": [
      "  Name  Duration City  Year\n",
      "0    A        30    P  2013\n",
      "1    B        60    O  2023\n",
      "2    A        45    P  2013\n",
      "3    D        60    S  2025\n",
      "4    B        30    O  2023\n",
      "5    B        45    O  2023\n",
      "6    D        30    R  2017\n"
     ]
    }
   ],
   "source": [
    "# 1. Replacing the wrong data with some other value from the column.\n",
    "\n",
    "data = {\n",
    "    'Name': ['A','B','A','D','B','B','D'],\n",
    "    'Duration': [30, 60, 45, 60, 30, 180, 30],\n",
    "    'City': ['P','O','P','S','O','O','R'],\n",
    "    'Year': [2013, 2023, 2013, 2025, 2023, 2023, 2017]\n",
    "}\n",
    "df = pd.DataFrame(data)\n",
    "# In Duration, values are : 30, 45 OR 60, but 180 not lies in that.\n",
    "\n",
    "# Replace 180 with other value\n",
    "df.loc[5, 'Duration'] = 45\n",
    "\n",
    "print(df)"
   ]
  },
  {
   "cell_type": "markdown",
   "metadata": {},
   "source": [
    "* For small number of wrong data, can replace them individually.\n",
    "\n",
    "* But, for larger amount of wrong data, have to create some rules for replacing the wrong data."
   ]
  },
  {
   "cell_type": "code",
   "execution_count": 68,
   "metadata": {},
   "outputs": [
    {
     "name": "stdout",
     "output_type": "stream",
     "text": [
      "  Name  Duration City  Year\n",
      "0    A        30    P  2013\n",
      "1    B        60    O  2023\n",
      "2    A        45    P  2013\n",
      "3    D        60    S  2025\n",
      "4    B        30    O  2023\n",
      "6    D        30    R  2017\n"
     ]
    }
   ],
   "source": [
    "# 2. Removing Rows\n",
    "# So, no need to find what to replace with the wrong data.\n",
    "# But, have to sure that, the wrong data must be very less.\n",
    "\n",
    "data = {\n",
    "    'Name': ['A','B','A','D','B','B','D'],\n",
    "    'Duration': [30, 60, 45, 60, 30, 180, 30],\n",
    "    'City': ['P','O','P','S','O','O','R'],\n",
    "    'Year': [2013, 2023, 2013, 2025, 2023, 2023, 2017]\n",
    "}\n",
    "df = pd.DataFrame(data)\n",
    "\n",
    "# Remove rows with Duration >60\n",
    "for i in df.index:\n",
    "    if df.loc[i, 'Duration'] > 60:\n",
    "        df.drop(i, inplace=True)\n",
    "\n",
    "print(df)"
   ]
  },
  {
   "cell_type": "markdown",
   "metadata": {},
   "source": [
    "> **3. Cleaning Data of Wrong Format:**\n",
    "\n",
    "* Cells with data of wrong format can make it difficult, or even impossible, to analyze data.\n",
    "\n",
    "* To fix it, you have two options: \n",
    "  * remove the rows\n",
    "  * convert all cells in the columns into the same format."
   ]
  },
  {
   "cell_type": "code",
   "execution_count": 71,
   "metadata": {},
   "outputs": [
    {
     "name": "stdout",
     "output_type": "stream",
     "text": [
      "  Name  Duration City  Year        Date\n",
      "0    A        30    P  2013  2020/12/01\n",
      "1    B        60    O  2023  2020/12/02\n",
      "2    A        45    P  2013  2020/12/03\n",
      "3    D        60    S  2025  2020/12/04\n",
      "4    B        30    O  2023  2020/12/05\n",
      "5    B       180    O  2023         NaN\n",
      "6    D        30    R  2017  2020/12/07\n"
     ]
    }
   ],
   "source": [
    "# 1. Convert to correct format\n",
    "\n",
    "data = {\n",
    "    'Name': ['A','B','A','D','B','B','D'],\n",
    "    'Duration': [30, 60, 45, 60, 30, 180, 30],\n",
    "    'City': ['P','O','P','S','O','O','R'],\n",
    "    'Year': [2013, 2023, 2013, 2025, 2023, 2023, 2017],\n",
    "    'Date': ['2020/12/01', '2020/12/02', '2020/12/03', '2020/12/04',\n",
    "             '2020/12/05', np.nan, '2020/12/07']\n",
    "}\n",
    "\n",
    "# Data column contains 1 NULL value, which does not match with date format\n",
    "df = pd.DataFrame(data)\n",
    "\n",
    "print(df)"
   ]
  },
  {
   "cell_type": "code",
   "execution_count": 72,
   "metadata": {},
   "outputs": [
    {
     "name": "stdout",
     "output_type": "stream",
     "text": [
      "  Name  Duration City  Year       Date\n",
      "0    A        30    P  2013 2020-12-01\n",
      "1    B        60    O  2023 2020-12-02\n",
      "2    A        45    P  2013 2020-12-03\n",
      "3    D        60    S  2025 2020-12-04\n",
      "4    B        30    O  2023 2020-12-05\n",
      "5    B       180    O  2023        NaT\n",
      "6    D        30    R  2017 2020-12-07\n"
     ]
    }
   ],
   "source": [
    "# 1. Convert to same format\n",
    "\n",
    "# Pandas has a to_datetime() method, \n",
    "# to convert all cells in the 'Date' column into dates.\n",
    "# So, all values from other format, converted to DateTime.\n",
    "\n",
    "df['Date'] = pd.to_datetime(df['Date'])\n",
    "print(df)\n",
    "# Here, NaT = Not a Date, for null values"
   ]
  },
  {
   "cell_type": "code",
   "execution_count": 74,
   "metadata": {},
   "outputs": [
    {
     "name": "stdout",
     "output_type": "stream",
     "text": [
      "  Name  Duration City  Year       Date\n",
      "0    A        30    P  2013 2020-12-01\n",
      "1    B        60    O  2023 2020-12-02\n",
      "2    A        45    P  2013 2020-12-03\n",
      "3    D        60    S  2025 2020-12-04\n",
      "4    B        30    O  2023 2020-12-05\n",
      "6    D        30    R  2017 2020-12-07\n"
     ]
    }
   ],
   "source": [
    "# 2. Remove rows with null values\n",
    "\n",
    "df.dropna(subset=['Date'], inplace=True)\n",
    "\n",
    "print(df)\n",
    "# Thus, removes records with NULL values."
   ]
  },
  {
   "cell_type": "markdown",
   "metadata": {},
   "source": [
    "> **4. Cleaning Empty Cells:**\n",
    "\n",
    "* Empty cells can potentially give you a wrong result when you analyze data."
   ]
  },
  {
   "cell_type": "code",
   "execution_count": 77,
   "metadata": {},
   "outputs": [
    {
     "name": "stdout",
     "output_type": "stream",
     "text": [
      "  Name  Duration City    Year\n",
      "0    A        30    P  2013.0\n",
      "2    A        45    P  2013.0\n",
      "3    D        60    S  2025.0\n",
      "5    B        45    O  2023.0\n",
      "6    D        30    R  2017.0\n",
      "7    G        45    S  2013.0\n",
      "8    H        60    R  2018.0\n"
     ]
    }
   ],
   "source": [
    "# 1. Remove Rows\n",
    "# Removing some rows in very large dataset, does not affect much\n",
    "\n",
    "data = {\n",
    "    'Name': ['A','B','A','D','B','B','D','G','H'],\n",
    "    'Duration': [30, 60, 45, 60, 30, 45, 30, 45, 60],\n",
    "    'City': ['P','O','P','S',np.nan,'O','R','S','R'],\n",
    "    'Year': [2013, np.nan, 2013, 2025, 2023, 2023, 2017, 2013, 2018]\n",
    "}\n",
    "\n",
    "df = pd.DataFrame(data)\n",
    "\n",
    "# Just remove the rows with null cell\n",
    "df.dropna(inplace=True)\n",
    "\n",
    "print(df)"
   ]
  },
  {
   "cell_type": "code",
   "execution_count": 78,
   "metadata": {},
   "outputs": [
    {
     "name": "stdout",
     "output_type": "stream",
     "text": [
      "  Name  Duration City    Year\n",
      "0    A        30    P  2013.0\n",
      "1    B        60    O  2018.0\n",
      "2    A        45    P  2013.0\n",
      "3    D        60    S  2025.0\n",
      "4    B        30    T  2023.0\n",
      "5    B        45    O  2023.0\n",
      "6    D        30    R  2017.0\n",
      "7    G        45    S  2013.0\n",
      "8    H        60    R  2018.0\n"
     ]
    }
   ],
   "source": [
    "# 2. Replace Empty Values\n",
    "# Fill another value in the place of empty cells\n",
    "data = {\n",
    "    'Name': ['A','B','A','D','B','B','D','G','H'],\n",
    "    'Duration': [30, 60, 45, 60, 30, 45, 30, 45, 60],\n",
    "    'City': ['P','O','P','S',np.nan,'O','R','S','R'],\n",
    "    'Year': [2013, np.nan, 2013, 2025, 2023, 2023, 2017, 2013, 2018]\n",
    "}\n",
    "\n",
    "df = pd.DataFrame(data)\n",
    "\n",
    "# Can fill different values for each columns of the DF\n",
    "df['City'].fillna('T', inplace=True)\n",
    "df['Year'].fillna(2018, inplace=True)\n",
    "\n",
    "print(df)"
   ]
  },
  {
   "cell_type": "code",
   "execution_count": 82,
   "metadata": {},
   "outputs": [
    {
     "name": "stdout",
     "output_type": "stream",
     "text": [
      "  Name     Age  Duration City    Year\n",
      "0    A  23.000        30    P  2013.0\n",
      "1    B  25.000        60    O  2017.5\n",
      "2    A  20.000        45    P  2013.0\n",
      "3    D  19.000        60    S  2025.0\n",
      "4    B  24.000        30  NaN  2023.0\n",
      "5    B  27.000        45    O  2023.0\n",
      "6    D  24.625        30    R  2017.0\n",
      "7    G  30.000        45    S  2013.0\n",
      "8    H  29.000        60    R  2018.0\n"
     ]
    }
   ],
   "source": [
    "# 3. Replace Using Mean, Median, or Mode\n",
    "\n",
    "data = {\n",
    "    'Name': ['A','B','A','D','B','B','D','G','H'],\n",
    "    'Age': [23, 25, 20, 19, 24, 27, np.nan, 30, 29],\n",
    "    'Duration': [30, 60, 45, 60, 30, 45, 30, 45, 60],\n",
    "    'City': ['P','O','P','S',np.nan,'O','R','S','R'],\n",
    "    'Year': [2013, np.nan, 2013, 2025, 2023, 2023, 2017, 2013, 2018]\n",
    "}\n",
    "df = pd.DataFrame(data)\n",
    "\n",
    "# Replace null in Age with Mean of the Age column\n",
    "df['Age'].fillna(df['Age'].mean(), inplace=True)\n",
    "\n",
    "# Replace null in City with Mode of the City column\n",
    "df['City'].fillna(df['City'].mode(), inplace=True)\n",
    "\n",
    "# Replace null in Year with Median of the Year column\n",
    "df['Year'].fillna(df['Year'].median(), inplace=True)\n",
    "\n",
    "print(df)"
   ]
  },
  {
   "cell_type": "markdown",
   "metadata": {},
   "source": [
    "# **Data Cleaning and Preprocessing**\n",
    "\n",
    "---"
   ]
  },
  {
   "cell_type": "markdown",
   "metadata": {},
   "source": [
    "> **Handling missing data with dropna(), fillna():**\n",
    "\n",
    "* Pandas dropna() method allows the user to analyze and drop Rows/Columns with Null values in different ways.\n",
    "\n",
    "* **Syntax:**\n",
    "\n",
    "        DataFrameName.dropna(axis=0, how=’any’, thresh=None, subset=None, inplace=False)\n",
    "\n",
    "  * axis - Input can be 0 or 1 for Integer and ‘index’ or ‘columns’ for String. \n",
    "  * how - how takes string value of two kinds only (‘any’ or ‘all’). ‘any’ drops the row/column if ANY value is Null and ‘all’ drops only if ALL values are null.\n",
    "  * thresh - thresh takes integer value which tells minimum amount of na values to drop. \n",
    "  * subset - It’s an array which limits the dropping process to passed rows/columns through list. \n",
    "  * inplace - It is a boolean which makes the changes in data frame permanent if True.\n"
   ]
  },
  {
   "cell_type": "code",
   "execution_count": 15,
   "metadata": {},
   "outputs": [
    {
     "name": "stdout",
     "output_type": "stream",
     "text": [
      "Id      0\n",
      "Name    0\n",
      "City    2\n",
      "Year    2\n",
      "dtype: int64\n"
     ]
    }
   ],
   "source": [
    "data = {\n",
    "    'Id': [1,2,3,4,5,6,7],\n",
    "    'Name': ['A','B','C','D','E','F','G'],\n",
    "    'City': ['P','O',np.nan,'Q','R','H',np.nan],\n",
    "    'Year': [2013, 2023, np.nan, np.nan, 2018, 2014, 2017]\n",
    "}\n",
    "\n",
    "df = pd.DataFrame(data)\n",
    "\n",
    "print(df.isna().sum())  # --> Return how many null present in each column"
   ]
  },
  {
   "cell_type": "code",
   "execution_count": 16,
   "metadata": {},
   "outputs": [
    {
     "name": "stdout",
     "output_type": "stream",
     "text": [
      "   Id Name City    Year\n",
      "0   1    A    P  2013.0\n",
      "1   2    B    O  2023.0\n",
      "2   3    C  NaN     NaN\n",
      "3   4    D    Q     NaN\n",
      "4   5    E    R  2018.0\n",
      "5   6    F    H  2014.0\n",
      "6   7    G  NaN  2017.0\n"
     ]
    }
   ],
   "source": [
    "# Drop all rows with null\n",
    "# axis=0 : Drop rows having any null value\n",
    "# axis=1 : Drop cols having any null value\n",
    "\n",
    "# how='any': Drop evan for only one null as well\n",
    "# how='all': Drop only if all values are null\n",
    "print(df.dropna(axis=0, how='all'))"
   ]
  },
  {
   "cell_type": "code",
   "execution_count": 19,
   "metadata": {},
   "outputs": [
    {
     "name": "stdout",
     "output_type": "stream",
     "text": [
      "   Id Name City    Year\n",
      "0   1    A    P  2013.0\n",
      "1   2    B    O  2023.0\n",
      "3   4    D    Q     NaN\n",
      "4   5    E    R  2018.0\n",
      "5   6    F    H  2014.0\n",
      "6   7    G  NaN  2017.0\n"
     ]
    }
   ],
   "source": [
    "print(df.dropna(axis=0,thresh=3))\n",
    "# thresh=int : Determine how many nou-null values must be present, otherwise drop.\n",
    "# thresh=3: So, drop rows with less than 3 non-null values."
   ]
  },
  {
   "cell_type": "code",
   "execution_count": 20,
   "metadata": {},
   "outputs": [
    {
     "name": "stdout",
     "output_type": "stream",
     "text": [
      "   Id Name City    Year\n",
      "0   1    A    P  2013.0\n",
      "1   2    B    O  2023.0\n",
      "2   3    C  NaN     NaN\n",
      "3   4    D    Q     NaN\n",
      "4   5    E    R  2018.0\n",
      "5   6    F    H  2014.0\n",
      "6   7    G  NaN  2017.0\n"
     ]
    }
   ],
   "source": [
    "# Original DataFrame\n",
    "print(df)\n",
    "# So, can see that changes are not permanent to original DF"
   ]
  },
  {
   "cell_type": "code",
   "execution_count": 21,
   "metadata": {},
   "outputs": [
    {
     "name": "stdout",
     "output_type": "stream",
     "text": [
      "   Id Name City    Year\n",
      "0   1    A    P  2013.0\n",
      "1   2    B    O  2023.0\n",
      "4   5    E    R  2018.0\n",
      "5   6    F    H  2014.0\n"
     ]
    }
   ],
   "source": [
    "# inplace=True : Make changes permanent to the original DF\n",
    "df.dropna(axis=0,inplace=True)\n",
    "print(df)"
   ]
  },
  {
   "cell_type": "markdown",
   "metadata": {},
   "source": [
    "> **fillna() :**\n",
    "\n",
    "* fillna() method replaces the NULL values with a specified value.\n",
    "\n",
    "* **Syntax:**\n",
    "\n",
    "        dataframe.fillna(value, method, axis, inplace, limit, downcast)\n",
    "  \n",
    "  * value - Required, Specifies the value to replace the NULL values with.\n",
    "  This can also be values for the entire row or column.\n",
    "  The value can be any data type: Number, String, Dictionary, Series, DataFrame\n",
    "  * method - Optional, default None'. Specifies the method to use when replacing.\n",
    "  'backfill', 'bfill', 'pad', 'ffill', None\n",
    "  * axis - Optional, default 0. The axis to fill the NULL values along.\n",
    "  0, 1, 'index', 'columns'\n",
    "  * inplace - If True, make changes permanent to the original DF.\n",
    "  * limit - Optional, default None. Specifies the maximum number of NULL values to fill (if method is specified).\n",
    "  * downcast - Optional, a dictionary of values to fill for specific data types..\n",
    "\n"
   ]
  },
  {
   "cell_type": "code",
   "execution_count": 51,
   "metadata": {},
   "outputs": [
    {
     "name": "stdout",
     "output_type": "stream",
     "text": [
      "   Id Name      City    Year\n",
      "0   1    A         P  2013.0\n",
      "1   2    B         O  2023.0\n",
      "2   3    C  New_city     NaN\n",
      "3   4    D         Q     NaN\n",
      "4   5    E         R  2018.0\n",
      "5   6    F         H  2014.0\n",
      "6   7    G  New_city  2017.0\n"
     ]
    }
   ],
   "source": [
    "data = {\n",
    "    'Id': [1,2,3,4,5,6,7],\n",
    "    'Name': ['A','B','C','D','E','F','G'],\n",
    "    'City': ['P','O',np.nan,'Q','R','H',np.nan],\n",
    "    'Year': [2013, 2023, np.nan, np.nan, 2018, 2014, 2017]\n",
    "}\n",
    "\n",
    "df = pd.DataFrame(data)\n",
    "df['City'].fillna('New_city', inplace=True)\n",
    "# inplace=True : Makes changes permanent to the original df\n",
    "\n",
    "print(df)"
   ]
  },
  {
   "cell_type": "markdown",
   "metadata": {},
   "source": [
    "> **Removing duplicates with drop_duplicates()**\n",
    "\n",
    "* inplace=True : Make changes permanent to the original df.\n",
    "\n",
    "* ignore_index : If True, starts indexing from 0 and original indes otherwise on 0."
   ]
  },
  {
   "cell_type": "code",
   "execution_count": 29,
   "metadata": {},
   "outputs": [
    {
     "name": "stdout",
     "output_type": "stream",
     "text": [
      "   Id Name City  Year\n",
      "0   1    A    P  2013\n",
      "1   2    B    O  2023\n",
      "2   1    A    P  2013\n",
      "3   3    D    S  2025\n",
      "4   2    B    O  2023\n",
      "5   2    B    O  2023\n",
      "6   3    D    R  2017\n"
     ]
    }
   ],
   "source": [
    "data = {\n",
    "    'Id': [1,2,1,3,2,2,3],\n",
    "    'Name': ['A','B','A','D','B','B','D'],\n",
    "    'City': ['P','O','P','S','O','O','R'],\n",
    "    'Year': [2013, 2023, 2013, 2025, 2023, 2023, 2017]\n",
    "}\n",
    "\n",
    "df = pd.DataFrame(data)\n",
    "print(df)\n",
    "# DF contains many duplicate entries"
   ]
  },
  {
   "cell_type": "code",
   "execution_count": 31,
   "metadata": {},
   "outputs": [
    {
     "name": "stdout",
     "output_type": "stream",
     "text": [
      "   Id Name City  Year\n",
      "0   1    A    P  2013\n",
      "1   2    B    O  2023\n",
      "3   3    D    S  2025\n"
     ]
    }
   ],
   "source": [
    "# Subset : Take list of columns, from which to consider duplicates\n",
    "print(df.drop_duplicates(subset=['Id']))\n",
    "# print(df.drop_duplicates())\n",
    "# Returns unique rows only."
   ]
  },
  {
   "cell_type": "markdown",
   "metadata": {},
   "source": [
    "**keep=** keep is to control how to consider duplicate value. It has only three distinct value and default is ‘first’. \n",
    "\n",
    "  * If 'first', it considers first value as unique and rest of the same values as duplicate.\n",
    "\n",
    "  * If 'last', it considers last value as unique and rest of the same values as duplicate.\n",
    "\n",
    "  * If False, it consider all of the same values as duplicates"
   ]
  },
  {
   "cell_type": "code",
   "execution_count": 35,
   "metadata": {},
   "outputs": [
    {
     "name": "stdout",
     "output_type": "stream",
     "text": [
      "   Id Name City  Year\n",
      "3   3    D    S  2025\n",
      "6   3    D    R  2017\n"
     ]
    }
   ],
   "source": [
    "print(df.drop_duplicates(keep=False))\n"
   ]
  },
  {
   "cell_type": "markdown",
   "metadata": {},
   "source": [
    "# **Data Transformation**\n",
    "\n",
    "---"
   ]
  },
  {
   "cell_type": "markdown",
   "metadata": {},
   "source": [
    "> **Applying functions to DataFrame columns using apply() and map():**\n",
    "\n",
    "* Pandas.apply() allows to pass a function and apply it on every single value of the Pandas series. i.e. all values in the given column\n",
    "\n",
    "* **Syntax:**\n",
    "\n",
    "        s.apply(func, convert_dtype=True, args=())\n",
    "  \n",
    "  * func : Takes a function that needs to applied to all values in the Series.\n",
    "\n",
    "  * convert_dtype: If True, Convert dtype as per the function’s operation.\n",
    "\n",
    "  * args=(): Additional arguments to pass to function instead of series."
   ]
  },
  {
   "cell_type": "code",
   "execution_count": 41,
   "metadata": {},
   "outputs": [
    {
     "name": "stdout",
     "output_type": "stream",
     "text": [
      "0    Fail\n",
      "1    Pass\n",
      "2    Pass\n",
      "3    Fail\n",
      "4    Pass\n",
      "5    Pass\n",
      "Name: Marks, dtype: object\n"
     ]
    }
   ],
   "source": [
    "data = {\n",
    "    'Name': ['A','B','C','D','E','F'],\n",
    "    'Marks': [56,78,90,34,62,78],\n",
    "    'City': ['P','O','P','S','O','O']\n",
    "}\n",
    "\n",
    "df = pd.DataFrame(data)\n",
    "\n",
    "def give(num):\n",
    "    if num>60:\n",
    "        return 'Pass'\n",
    "    else:\n",
    "        return 'Fail'\n",
    "\n",
    "print(df['Marks'].apply(give, convert_dtype=True))"
   ]
  },
  {
   "cell_type": "markdown",
   "metadata": {},
   "source": [
    "> **map():**\n",
    "\n",
    "* pandas.map() is used to map values from two series having one column same."
   ]
  },
  {
   "cell_type": "code",
   "execution_count": 46,
   "metadata": {},
   "outputs": [
    {
     "name": "stdout",
     "output_type": "stream",
     "text": [
      "0    21\n",
      "1    24\n",
      "2    26\n",
      "3    32\n",
      "4    34\n",
      "5    31\n",
      "dtype: int64\n"
     ]
    }
   ],
   "source": [
    "s1 = pd.Series([0,1,2,3,4,5])\n",
    "s2 = pd.Series([21,24,26,32,34,31])\n",
    "\n",
    "print(s1.map(s2))"
   ]
  },
  {
   "cell_type": "markdown",
   "metadata": {},
   "source": [
    "# **Working with Text Data**\n",
    "\n",
    "---"
   ]
  },
  {
   "cell_type": "markdown",
   "metadata": {},
   "source": [
    "> **Handling text data in pandas (e.g., string methods):**\n",
    "\n",
    "* Series provides various methods, for operating on Strings, using the str attribute.\n"
   ]
  },
  {
   "cell_type": "markdown",
   "metadata": {},
   "source": [
    "1. **str.lower():**\tMethod to convert a string's characters to lowercase.\n",
    "\n",
    "2. **str.upper():**\tMethod to convert a string's characters to uppercase.\n",
    "\n",
    "3. **str.find():**\tMethod is used to search a substring in each string present in a series.\n",
    "\n",
    "4. **str.rfind():**\tMethod is used to search a substring in each string present in a series from the Right side.\n",
    "\n",
    "5. **str.findall():**\tMethod is also used to find substrings or separators in each string in a series.\n",
    "\n",
    "6. **str.isalpha():**\tMethod is used to check if all characters in each string in series are alphabetic(a-z/A-Z).\n",
    "\n",
    "7. **str.isdecimal():**\tMethod is used to check whether all characters in a string are decimal.\n",
    "\n",
    "8. **str.title():**\tMethod to capitalize the first letter of every word in a string.\n",
    "\n",
    "9. **str.len():**\tMethod returns a count of the number of characters in a string.\n",
    "\n",
    "10. **str.replace():**\tMethod replaces a substring within a string with another value that the user provides.\n",
    "\n",
    "11. **str.contains():**\tMethod tests if pattern or regex is contained within a string of a Series or Index.\n",
    "\n",
    "12. **str.extract():**\tExtract groups from the first match of regular expression pattern.\n",
    "\n",
    "13. **str.startswith():**\tMethod tests if the start of each string element matches a pattern.\n",
    "\n",
    "14. **str.endswith():**\tMethod tests if the end of each string element matches a pattern.\n",
    "\n",
    "15. **str.isdigit():**\tMethod is used to check if all characters in each string in series are digits.\n",
    "\n",
    "16. **str.lstrip():**\tMethod removes whitespace from the left side (beginning) of a string.\n",
    "\n",
    "17. **str.rstrip():**\tMethod removes whitespace from the right side (end) of a string.\n",
    "\n",
    "18. **str.strip():**\tMethod to remove leading and trailing whitespace from string.\n",
    "\n",
    "19. **str.split():**\tMethod splits a string value, based on an occurrence of a user-specified value.\n",
    "\n",
    "20. **str.join():**\tMethod is used to join all elements in list present in a series with passed delimiter.\n",
    "\n",
    "21. **str.cat():**\tMethod is used to concatenate strings to the passed caller series of string.\n",
    "\n",
    "22. **str.repeat():**\tMethod is used to repeat string values in the same position of passed series itself.\n",
    "\n",
    "23. **str.get():**\tMethod is used to get element at the passed position.\n",
    "\n",
    "24. **str.partition():**\tMethod splits the string only at the first occurrence unlike str.split().\n",
    "\n",
    "25. **str.rpartition():**\tMethod splits string only once and that too reversely. It works in a similar way like str.partition() and str.split()\n",
    "\n",
    "26. **str.pad():**\tMethod to add padding (whitespaces or other characters) to every string element in a series.\n",
    "\n",
    "27. **str.swapcase():**\tMethod to swap case of each string in a series."
   ]
  },
  {
   "cell_type": "code",
   "execution_count": 54,
   "metadata": {},
   "outputs": [
    {
     "name": "stdout",
     "output_type": "stream",
     "text": [
      "  Name  Marks City\n",
      "0  Abc     56   Pa\n",
      "1  Bob     78  OpD\n",
      "2  Cat     90  PsT\n",
      "3  Dog     34  SpY\n",
      "4  Ele     62   On\n",
      "5  Fog     78   Om\n"
     ]
    }
   ],
   "source": [
    "data = {\n",
    "    'Name': ['Abc','Bob','Cat','Dog','Ele','Fog'],\n",
    "    'Marks': [56,78,90,34,62,78],\n",
    "    'City': ['Pa','OpD','PsT','SpY','On','Om']\n",
    "}\n",
    "\n",
    "df = pd.DataFrame(data)\n",
    "\n",
    "print(df)"
   ]
  },
  {
   "cell_type": "code",
   "execution_count": 55,
   "metadata": {},
   "outputs": [
    {
     "name": "stdout",
     "output_type": "stream",
     "text": [
      "  Name  Marks City\n",
      "0  abc     56   Pa\n",
      "1  bob     78  OpD\n",
      "2  cat     90  PsT\n",
      "3  dog     34  SpY\n",
      "4  ele     62   On\n",
      "5  fog     78   Om\n"
     ]
    }
   ],
   "source": [
    "# 1. str.lower() - Convert the string to lowercase chars\n",
    "df['Name'] = df['Name'].str.lower()\n",
    "print(df)"
   ]
  },
  {
   "cell_type": "code",
   "execution_count": 56,
   "metadata": {},
   "outputs": [
    {
     "name": "stdout",
     "output_type": "stream",
     "text": [
      "  Name  Marks City\n",
      "0  abc     56   PA\n",
      "1  bob     78  OPD\n",
      "2  cat     90  PST\n",
      "3  dog     34  SPY\n",
      "4  ele     62   ON\n",
      "5  fog     78   OM\n"
     ]
    }
   ],
   "source": [
    "# 2. str.upper() - Convert the string to uppercase chars\n",
    "df['City'] = df['City'].str.upper()\n",
    "print(df)"
   ]
  },
  {
   "cell_type": "markdown",
   "metadata": {},
   "source": [
    "> **Regular expressions for pattern matching:**\n"
   ]
  },
  {
   "cell_type": "code",
   "execution_count": 59,
   "metadata": {},
   "outputs": [
    {
     "name": "stdout",
     "output_type": "stream",
     "text": [
      "  Name  Marks City\n",
      "1  Bob     78  OpD\n",
      "4  Ele     62   On\n",
      "5  Fog     78   Om\n"
     ]
    }
   ],
   "source": [
    "import re\n",
    "\n",
    "data = {\n",
    "    'Name': ['Abc','Bob','Cat','Dog','Ele','Fog'],\n",
    "    'Marks': [56,78,90,34,62,78],\n",
    "    'City': ['Pa','OpD','PsT','SpY','On','Om']\n",
    "}\n",
    "\n",
    "df = pd.DataFrame(data)\n",
    "\n",
    "pattern = '[O].*'\n",
    "\n",
    "print(df[df.City.str.match(pattern)])"
   ]
  },
  {
   "cell_type": "code",
   "execution_count": null,
   "metadata": {},
   "outputs": [],
   "source": []
  }
 ],
 "metadata": {
  "kernelspec": {
   "display_name": "virtual_env",
   "language": "python",
   "name": "python3"
  },
  "language_info": {
   "codemirror_mode": {
    "name": "ipython",
    "version": 3
   },
   "file_extension": ".py",
   "mimetype": "text/x-python",
   "name": "python",
   "nbconvert_exporter": "python",
   "pygments_lexer": "ipython3",
   "version": "3.11.4"
  },
  "orig_nbformat": 4
 },
 "nbformat": 4,
 "nbformat_minor": 2
}
