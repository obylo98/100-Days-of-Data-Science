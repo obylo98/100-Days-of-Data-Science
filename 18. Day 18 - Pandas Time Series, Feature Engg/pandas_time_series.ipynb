{
 "cells": [
  {
   "cell_type": "code",
   "execution_count": 9,
   "metadata": {},
   "outputs": [],
   "source": [
    "import numpy as np\n",
    "import pandas as pd\n",
    "import datetime"
   ]
  },
  {
   "cell_type": "markdown",
   "metadata": {},
   "source": [
    "# **Feature Engineering**\n",
    "\n",
    "---"
   ]
  },
  {
   "cell_type": "markdown",
   "metadata": {},
   "source": [
    "> * Feature Engineering is the process of transforming data to increase the predictive performance of machine learning models."
   ]
  },
  {
   "cell_type": "markdown",
   "metadata": {},
   "source": [
    "> **Data normalization:**\n",
    "\n",
    "* Data Normalization could also be a typical practice in machine learning which consists of transforming numeric columns to a standard scale."
   ]
  },
  {
   "cell_type": "code",
   "execution_count": 2,
   "metadata": {},
   "outputs": [
    {
     "name": "stdout",
     "output_type": "stream",
     "text": [
      "   col1  col2   col3\n",
      "0     1     8  12000\n",
      "1     2     7  23000\n",
      "2     3     3  45000\n",
      "3     4     6  34000\n",
      "4     5     4  21000\n"
     ]
    }
   ],
   "source": [
    "data = {\n",
    "  'col1': [1,2,3,4,5],\n",
    "  'col2': [8,7,3,6,4],\n",
    "  'col3': [12000, 23000, 45000, 34000, 21000]\n",
    "}\n",
    "df = pd.DataFrame(data)\n",
    "\n",
    "print(df)"
   ]
  },
  {
   "cell_type": "code",
   "execution_count": 4,
   "metadata": {},
   "outputs": [
    {
     "name": "stderr",
     "output_type": "stream",
     "text": [
      "Matplotlib is building the font cache; this may take a moment.\n"
     ]
    },
    {
     "data": {
      "text/plain": [
       "<Axes: >"
      ]
     },
     "execution_count": 4,
     "metadata": {},
     "output_type": "execute_result"
    },
    {
     "data": {
      "image/png": "[encoded data removed]",
      "text/plain": [
       "<Figure size 640x480 with 1 Axes>"
      ]
     },
     "metadata": {},
     "output_type": "display_data"
    }
   ],
   "source": [
    "import matplotlib.pyplot as plt\n",
    "df.plot(kind = 'bar')\n",
    "# When plotting the graph, we can see that, \n",
    "# col3 has dominated the graph and we cannot observe the others."
   ]
  },
  {
   "cell_type": "code",
   "execution_count": 5,
   "metadata": {},
   "outputs": [
    {
     "name": "stdout",
     "output_type": "stream",
     "text": [
      "   col1   col2      col3\n",
      "0   0.2  1.000  0.266667\n",
      "1   0.4  0.875  0.511111\n",
      "2   0.6  0.375  1.000000\n",
      "3   0.8  0.750  0.755556\n",
      "4   1.0  0.500  0.466667\n"
     ]
    }
   ],
   "source": [
    "# So, we can scale all column data in smaller ranges\n",
    "for column in df.columns:\n",
    "  df[column] = df[column]  / df[column].abs().max()\n",
    "\n",
    "print(df)\n",
    "# Now, we can see all the col values are closer to each other"
   ]
  },
  {
   "cell_type": "code",
   "execution_count": 6,
   "metadata": {},
   "outputs": [
    {
     "data": {
      "text/plain": [
       "<Axes: >"
      ]
     },
     "execution_count": 6,
     "metadata": {},
     "output_type": "execute_result"
    },
    {
     "data": {
      "image/png": "[encoded data removed]",
      "text/plain": [
       "<Figure size 640x480 with 1 Axes>"
      ]
     },
     "metadata": {},
     "output_type": "display_data"
    }
   ],
   "source": [
    "import matplotlib.pyplot as plt\n",
    "df.plot(kind = 'bar')\n",
    "# Now, we can observe features from the graph."
   ]
  },
  {
   "cell_type": "markdown",
   "metadata": {},
   "source": [
    "> **Scaling:**\n",
    "\n",
    "* In cases where all the columns have a significant difference in their scales, are needed to be modified in such a way that all those values fall into the same scale. This process is called **Scaling**."
   ]
  },
  {
   "cell_type": "markdown",
   "metadata": {},
   "source": [
    "* There are two most common techniques of how to scale columns of Pandas dataframe – \n",
    "  1. Min-Max Normalization\n",
    "  2. Standardization."
   ]
  },
  {
   "cell_type": "code",
   "execution_count": 7,
   "metadata": {},
   "outputs": [
    {
     "name": "stdout",
     "output_type": "stream",
     "text": [
      "   sepal_length  sepal_width  petal_length  petal_width      species\n",
      "0           5.1          3.5           1.4          0.2  Iris-setosa\n",
      "1           4.9          3.0           1.4          0.2  Iris-setosa\n",
      "2           4.7          3.2           1.3          0.2  Iris-setosa\n",
      "3           4.6          3.1           1.5          0.2  Iris-setosa\n",
      "4           5.0          3.6           1.4          0.2  Iris-setosa\n"
     ]
    }
   ],
   "source": [
    "df = pd.read_csv('IRIS.csv')\n",
    "\n",
    "print(df.head())"
   ]
  },
  {
   "cell_type": "markdown",
   "metadata": {},
   "source": [
    "**1. min-max Normalization:**\n",
    "\n",
    "* Here, all the values are scaled in between the range of [0,1] where 0 is the minimum value and 1 is the maximum value. \n",
    "\n",
    "* The formula for Min-Max Normalization is –\n",
    "\n",
    "        x_norm = (x - x_min) / (x_max - x_min)"
   ]
  },
  {
   "cell_type": "code",
   "execution_count": 10,
   "metadata": {},
   "outputs": [
    {
     "name": "stdout",
     "output_type": "stream",
     "text": [
      "<class 'pandas.core.frame.DataFrame'>\n",
      "RangeIndex: 150 entries, 0 to 149\n",
      "Data columns (total 5 columns):\n",
      " #   Column        Non-Null Count  Dtype  \n",
      "---  ------        --------------  -----  \n",
      " 0   sepal_length  150 non-null    float64\n",
      " 1   sepal_width   150 non-null    float64\n",
      " 2   petal_length  150 non-null    float64\n",
      " 3   petal_width   150 non-null    float64\n",
      " 4   species       150 non-null    object \n",
      "dtypes: float64(4), object(1)\n",
      "memory usage: 6.0+ KB\n",
      "None\n"
     ]
    }
   ],
   "source": [
    "print(df.info())\n",
    "# We can perform scaling on numeric data cols only, so for scaling purpose, \n",
    "# have to drop the last col with \"species\" for this operation only"
   ]
  },
  {
   "cell_type": "code",
   "execution_count": 13,
   "metadata": {},
   "outputs": [
    {
     "name": "stdout",
     "output_type": "stream",
     "text": [
      "     sepal_length  sepal_width  petal_length  petal_width         species\n",
      "0        0.222222     0.625000      0.067797     0.041667     Iris-setosa\n",
      "1        0.166667     0.416667      0.067797     0.041667     Iris-setosa\n",
      "2        0.111111     0.500000      0.050847     0.041667     Iris-setosa\n",
      "3        0.083333     0.458333      0.084746     0.041667     Iris-setosa\n",
      "4        0.194444     0.666667      0.067797     0.041667     Iris-setosa\n",
      "..            ...          ...           ...          ...             ...\n",
      "145      0.666667     0.416667      0.711864     0.916667  Iris-virginica\n",
      "146      0.555556     0.208333      0.677966     0.750000  Iris-virginica\n",
      "147      0.611111     0.416667      0.711864     0.791667  Iris-virginica\n",
      "148      0.527778     0.583333      0.745763     0.916667  Iris-virginica\n",
      "149      0.444444     0.416667      0.694915     0.708333  Iris-virginica\n",
      "\n",
      "[150 rows x 5 columns]\n"
     ]
    }
   ],
   "source": [
    "new_df = df.drop('species', axis=1) # Have to use axis=1, for column\n",
    "\n",
    "# Now, perform scaling on each value of each column\n",
    "df_norm = ((new_df-new_df.min()) / (new_df.max()-new_df.min()))\n",
    "\n",
    "# Now, merge the normalized df with the dropped species col\n",
    "final_df = pd.concat((df_norm, df.species), axis=1)\n",
    "\n",
    "print(final_df)"
   ]
  },
  {
   "cell_type": "code",
   "execution_count": null,
   "metadata": {},
   "outputs": [],
   "source": [
    "# Using MinMaxScaler from sklearn\n",
    "\n",
    "from sklearn.preprocessing import MinMaxScaler\n",
    "import pandas as pd\n",
    "\n",
    "# Drop species col, having str data\n",
    "new_df = df.drop('species', axis=1)\n",
    " \n",
    "scaler = MinMaxScaler()\n",
    " \n",
    "df_scaled = scaler.fit_transform(new_df.to_numpy())\n",
    "df_scaled = pd.DataFrame(df_scaled, columns=[\n",
    "  'sepal_length', 'sepal_width', 'petal_length', 'petal_width'])\n",
    "\n",
    "print(\"Scaled Dataset Using MinMaxScaler\")\n",
    "df_scaled.head()"
   ]
  },
  {
   "cell_type": "markdown",
   "metadata": {},
   "source": [
    "**2. Standardization:**\n",
    "\n",
    "* Standardization doesn’t have any fixed minimum or maximum value. \n",
    "\n",
    "* Here, the values of all the columns are scaled in such a way that they all have a mean equal to 0 and standard deviation equal to 1. \n",
    "\n",
    "* This scaling technique works well with outliers. \n",
    "\n",
    "* Thus, this technique is preferred if outliers are present in the dataset. \n"
   ]
  },
  {
   "cell_type": "code",
   "execution_count": null,
   "metadata": {},
   "outputs": [],
   "source": [
    "import pandas as pd\n",
    "from sklearn.preprocessing import StandardScaler\n",
    "\n",
    "# Drop species col, having str data\n",
    "new_df = df.drop('species', axis=1)\n",
    "\n",
    "std_scaler = StandardScaler()\n",
    "\n",
    "df_scaled = std_scaler.fit_transform(new_df.to_numpy())\n",
    "df_scaled = pd.DataFrame(df_scaled, columns=[\n",
    "'sepal_length','sepal_width','petal_length','petal_width'])\n",
    "\n",
    "print(\"Scaled Dataset Using StandardScaler\")\n",
    "df_scaled.head()\n"
   ]
  },
  {
   "cell_type": "markdown",
   "metadata": {},
   "source": [
    "# **Time Series Analysis and Resampling**\n",
    "\n",
    "---"
   ]
  },
  {
   "cell_type": "markdown",
   "metadata": {},
   "source": [
    "* Pandas provide a different set of tools using which we can perform all the necessary tasks on date-time data. "
   ]
  },
  {
   "cell_type": "markdown",
   "metadata": {},
   "source": [
    "> **Working with datetime data:**"
   ]
  },
  {
   "cell_type": "code",
   "execution_count": 4,
   "metadata": {},
   "outputs": [
    {
     "data": {
      "text/plain": [
       "DatetimeIndex(['2011-01-31', '2011-02-28', '2011-03-31', '2011-04-30',\n",
       "               '2011-05-31', '2011-06-30', '2011-07-31', '2011-08-31',\n",
       "               '2011-09-30', '2011-10-31', '2011-11-30', '2011-12-31',\n",
       "               '2012-01-31', '2012-02-29', '2012-03-31'],\n",
       "              dtype='datetime64[ns]', freq='M')"
      ]
     },
     "execution_count": 4,
     "metadata": {},
     "output_type": "execute_result"
    }
   ],
   "source": [
    "#1: Create a dates dataframe \n",
    "\n",
    "# Create dates dataframe with frequency \n",
    "data = pd.date_range('1/1/2011', periods = 15, freq ='M')\n",
    " \n",
    "data"
   ]
  },
  {
   "cell_type": "code",
   "execution_count": 26,
   "metadata": {},
   "outputs": [
    {
     "name": "stdout",
     "output_type": "stream",
     "text": [
      "2023-08-04 06:03:53.673206\n",
      "2023-08-04 06:03:53.675203\n",
      "Friday\n",
      "4\n",
      "4\n",
      "6\n",
      "4\n",
      "31\n",
      "2023-08-04\n",
      "216\n",
      "31\n",
      "3\n"
     ]
    }
   ],
   "source": [
    "# 2: Current date and time\n",
    "\n",
    "# x = pd.datetime.now()\n",
    "# x.date, x.month, x.year\n",
    "\n",
    "stamp = pd.Timestamp(datetime.datetime(2023, 8, 4))\n",
    "stamp = pd.Timestamp(datetime.datetime.now())\n",
    "print(stamp)\n",
    "\n",
    "result = stamp.today()\n",
    "print(result)\n",
    "print(stamp.day_name())\n",
    "print(stamp.day_of_week)\n",
    "print(stamp.weekday())\n",
    "print(stamp.hour)\n",
    "print(stamp.day)\n",
    "print(stamp.days_in_month)\n",
    "print(stamp.date())\n",
    "print(stamp.dayofyear)\n",
    "print(stamp.daysinmonth)\n",
    "print(stamp.minute)"
   ]
  },
  {
   "cell_type": "code",
   "execution_count": 32,
   "metadata": {},
   "outputs": [
    {
     "data": {
      "text/html": [
       "<div>\n",
       "<style scoped>\n",
       "    .dataframe tbody tr th:only-of-type {\n",
       "        vertical-align: middle;\n",
       "    }\n",
       "\n",
       "    .dataframe tbody tr th {\n",
       "        vertical-align: top;\n",
       "    }\n",
       "\n",
       "    .dataframe thead th {\n",
       "        text-align: right;\n",
       "    }\n",
       "</style>\n",
       "<table border=\"1\" class=\"dataframe\">\n",
       "  <thead>\n",
       "    <tr style=\"text-align: right;\">\n",
       "      <th></th>\n",
       "      <th>date</th>\n",
       "      <th>year</th>\n",
       "      <th>month</th>\n",
       "      <th>day</th>\n",
       "      <th>hour</th>\n",
       "      <th>minute</th>\n",
       "      <th>second</th>\n",
       "    </tr>\n",
       "  </thead>\n",
       "  <tbody>\n",
       "    <tr>\n",
       "      <th>0</th>\n",
       "      <td>2023-08-04 06:06:38.220645</td>\n",
       "      <td>2023</td>\n",
       "      <td>8</td>\n",
       "      <td>4</td>\n",
       "      <td>6</td>\n",
       "      <td>6</td>\n",
       "      <td>38</td>\n",
       "    </tr>\n",
       "    <tr>\n",
       "      <th>1</th>\n",
       "      <td>2023-08-04 07:06:38.220645</td>\n",
       "      <td>2023</td>\n",
       "      <td>8</td>\n",
       "      <td>4</td>\n",
       "      <td>7</td>\n",
       "      <td>6</td>\n",
       "      <td>38</td>\n",
       "    </tr>\n",
       "    <tr>\n",
       "      <th>2</th>\n",
       "      <td>2023-08-04 08:06:38.220645</td>\n",
       "      <td>2023</td>\n",
       "      <td>8</td>\n",
       "      <td>4</td>\n",
       "      <td>8</td>\n",
       "      <td>6</td>\n",
       "      <td>38</td>\n",
       "    </tr>\n",
       "  </tbody>\n",
       "</table>\n",
       "</div>"
      ],
      "text/plain": [
       "                        date  year  month  day  hour  minute  second\n",
       "0 2023-08-04 06:06:38.220645  2023      8    4     6       6      38\n",
       "1 2023-08-04 07:06:38.220645  2023      8    4     7       6      38\n",
       "2 2023-08-04 08:06:38.220645  2023      8    4     8       6      38"
      ]
     },
     "execution_count": 32,
     "metadata": {},
     "output_type": "execute_result"
    }
   ],
   "source": [
    "# Create date and time with dataframe\n",
    "rng = pd.DataFrame()\n",
    "rng['date'] = pd.date_range(datetime.datetime.now(), periods = 72, freq ='H')\n",
    "\n",
    "# Print the dates in dd-mm-yy format\n",
    "rng[:5]\n",
    "\n",
    "# Create features for year, month, day, hour, and minute\n",
    "rng['year'] = rng['date'].dt.year\n",
    "rng['month'] = rng['date'].dt.month\n",
    "rng['day'] = rng['date'].dt.day\n",
    "rng['hour'] = rng['date'].dt.hour\n",
    "rng['minute'] = rng['date'].dt.minute\n",
    "rng['second'] = rng['date'].dt.second\n",
    "\n",
    "# Print the dates divided into features\n",
    "rng.head(3)\n"
   ]
  },
  {
   "cell_type": "markdown",
   "metadata": {},
   "source": [
    "> **Resampling and time-based indexing:**\n"
   ]
  },
  {
   "cell_type": "markdown",
   "metadata": {},
   "source": [
    "> **Handling time zones and date offsets:**\n",
    "\n",
    "* Dateoffsets are a standard kind of date increment used for a date range in Pandas.\n",
    "\n",
    "* DateOffsets can be created to move dates forward a given number of valid dates.\n",
    "\n",
    "* Pandas **tseries.offsets.DateOffset** is used to create standard kind of date increment used for a date range.\n",
    "\n",
    "* **Syntax:**\n",
    "\n",
    "        pandas.tseries.offsets.DateOffset(n=1, normalize=False, **kwds) \n",
    "\n",
    "  **Parameters:** \n",
    "    * n : The number of time periods the offset represents. \n",
    "    * normalize : Whether to round the result of a DateOffset addition down to the previous midnight. \n",
    "    * level : int, str, default None \n",
    "    * **kwds : Temporal parameter that add to or replace the offset value. Parameters that add to the offset (like Timedelta): years, months etc. \n",
    "    * Returns : DateOffsets\n"
   ]
  },
  {
   "cell_type": "code",
   "execution_count": 40,
   "metadata": {},
   "outputs": [
    {
     "name": "stdout",
     "output_type": "stream",
     "text": [
      "2019-10-10 07:15:11\n",
      "<2 * DateOffsets>\n",
      "2019-10-12 07:15:11\n"
     ]
    }
   ],
   "source": [
    "# Creating Timestamp\n",
    "ts = pd.Timestamp('2019-10-10 07:15:11')\n",
    "print(ts)\n",
    "\n",
    "# Create the DateOffset\n",
    "do = pd.tseries.offsets.DateOffset(n = 2)\n",
    "print(do)\n",
    "\n",
    "# We can now add the DateOffset to any date, to increment the date\n",
    "new_date = ts + do\n",
    "print(new_date)\n",
    "# Thus, the date would move forward by 2 days."
   ]
  },
  {
   "cell_type": "code",
   "execution_count": 44,
   "metadata": {},
   "outputs": [
    {
     "name": "stdout",
     "output_type": "stream",
     "text": [
      "2023-08-04 09:32:48.447639\n",
      "2023-08-14 12:47:48.447639\n"
     ]
    }
   ],
   "source": [
    "# Providing additional arguments to the DateOffset\n",
    "\n",
    "today = pd.Timestamp(datetime.datetime.now())\n",
    "\n",
    "# Create new DateOffset\n",
    "date_off = pd.tseries.offsets.DateOffset(days=10, hours=3, minutes=15)\n",
    "# Move the timestamp by 10 days, 3 hrs and 15 mins\n",
    "\n",
    "future_date = today + date_off\n",
    "\n",
    "print(today)\n",
    "print(future_date)"
   ]
  },
  {
   "cell_type": "markdown",
   "metadata": {},
   "source": [
    "> **Working with datetime data in pandas:**\n"
   ]
  },
  {
   "cell_type": "markdown",
   "metadata": {},
   "source": [
    "**Datetime features can be divided into two categories:**\n",
    "  \n",
    "  * The first one: time moments in a period \n",
    "  \n",
    "  * Second: the time passed since a particular period. \n",
    "\n",
    "* These features can be very useful to understand the patterns in the data.\n",
    "\n",
    "**Divide a given date into features –**\n",
    "\n",
    "* **pandas.Series.dt.year** returns the year of the date time. \n",
    "* **pandas.Series.dt.month** returns the month of the date time. \n",
    "* **pandas.Series.dt.day** returns the day of the date time. \n",
    "* **pandas.Series.dt.hour** returns the hour of the date time. \n",
    "* **pandas.Series.dt.minute** returns the minute of the date time."
   ]
  },
  {
   "cell_type": "code",
   "execution_count": 49,
   "metadata": {},
   "outputs": [
    {
     "data": {
      "text/html": [
       "<div>\n",
       "<style scoped>\n",
       "    .dataframe tbody tr th:only-of-type {\n",
       "        vertical-align: middle;\n",
       "    }\n",
       "\n",
       "    .dataframe tbody tr th {\n",
       "        vertical-align: top;\n",
       "    }\n",
       "\n",
       "    .dataframe thead th {\n",
       "        text-align: right;\n",
       "    }\n",
       "</style>\n",
       "<table border=\"1\" class=\"dataframe\">\n",
       "  <thead>\n",
       "    <tr style=\"text-align: right;\">\n",
       "      <th></th>\n",
       "      <th>date</th>\n",
       "      <th>year</th>\n",
       "      <th>month</th>\n",
       "      <th>day</th>\n",
       "      <th>hour</th>\n",
       "      <th>minute</th>\n",
       "    </tr>\n",
       "  </thead>\n",
       "  <tbody>\n",
       "    <tr>\n",
       "      <th>0</th>\n",
       "      <td>2023-08-04 00:00:00</td>\n",
       "      <td>2023</td>\n",
       "      <td>8</td>\n",
       "      <td>4</td>\n",
       "      <td>0</td>\n",
       "      <td>0</td>\n",
       "    </tr>\n",
       "    <tr>\n",
       "      <th>1</th>\n",
       "      <td>2023-08-04 01:00:00</td>\n",
       "      <td>2023</td>\n",
       "      <td>8</td>\n",
       "      <td>4</td>\n",
       "      <td>1</td>\n",
       "      <td>0</td>\n",
       "    </tr>\n",
       "    <tr>\n",
       "      <th>2</th>\n",
       "      <td>2023-08-04 02:00:00</td>\n",
       "      <td>2023</td>\n",
       "      <td>8</td>\n",
       "      <td>4</td>\n",
       "      <td>2</td>\n",
       "      <td>0</td>\n",
       "    </tr>\n",
       "    <tr>\n",
       "      <th>3</th>\n",
       "      <td>2023-08-04 03:00:00</td>\n",
       "      <td>2023</td>\n",
       "      <td>8</td>\n",
       "      <td>4</td>\n",
       "      <td>3</td>\n",
       "      <td>0</td>\n",
       "    </tr>\n",
       "    <tr>\n",
       "      <th>4</th>\n",
       "      <td>2023-08-04 04:00:00</td>\n",
       "      <td>2023</td>\n",
       "      <td>8</td>\n",
       "      <td>4</td>\n",
       "      <td>4</td>\n",
       "      <td>0</td>\n",
       "    </tr>\n",
       "    <tr>\n",
       "      <th>5</th>\n",
       "      <td>2023-08-04 05:00:00</td>\n",
       "      <td>2023</td>\n",
       "      <td>8</td>\n",
       "      <td>4</td>\n",
       "      <td>5</td>\n",
       "      <td>0</td>\n",
       "    </tr>\n",
       "    <tr>\n",
       "      <th>6</th>\n",
       "      <td>2023-08-04 06:00:00</td>\n",
       "      <td>2023</td>\n",
       "      <td>8</td>\n",
       "      <td>4</td>\n",
       "      <td>6</td>\n",
       "      <td>0</td>\n",
       "    </tr>\n",
       "    <tr>\n",
       "      <th>7</th>\n",
       "      <td>2023-08-04 07:00:00</td>\n",
       "      <td>2023</td>\n",
       "      <td>8</td>\n",
       "      <td>4</td>\n",
       "      <td>7</td>\n",
       "      <td>0</td>\n",
       "    </tr>\n",
       "    <tr>\n",
       "      <th>8</th>\n",
       "      <td>2023-08-04 08:00:00</td>\n",
       "      <td>2023</td>\n",
       "      <td>8</td>\n",
       "      <td>4</td>\n",
       "      <td>8</td>\n",
       "      <td>0</td>\n",
       "    </tr>\n",
       "    <tr>\n",
       "      <th>9</th>\n",
       "      <td>2023-08-04 09:00:00</td>\n",
       "      <td>2023</td>\n",
       "      <td>8</td>\n",
       "      <td>4</td>\n",
       "      <td>9</td>\n",
       "      <td>0</td>\n",
       "    </tr>\n",
       "  </tbody>\n",
       "</table>\n",
       "</div>"
      ],
      "text/plain": [
       "                 date  year  month  day  hour  minute\n",
       "0 2023-08-04 00:00:00  2023      8    4     0       0\n",
       "1 2023-08-04 01:00:00  2023      8    4     1       0\n",
       "2 2023-08-04 02:00:00  2023      8    4     2       0\n",
       "3 2023-08-04 03:00:00  2023      8    4     3       0\n",
       "4 2023-08-04 04:00:00  2023      8    4     4       0\n",
       "5 2023-08-04 05:00:00  2023      8    4     5       0\n",
       "6 2023-08-04 06:00:00  2023      8    4     6       0\n",
       "7 2023-08-04 07:00:00  2023      8    4     7       0\n",
       "8 2023-08-04 08:00:00  2023      8    4     8       0\n",
       "9 2023-08-04 09:00:00  2023      8    4     9       0"
      ]
     },
     "execution_count": 49,
     "metadata": {},
     "output_type": "execute_result"
    }
   ],
   "source": [
    "#3: Break date and time into separate features  \n",
    "\n",
    "# Create date and time with dataframe\n",
    "rng = pd.DataFrame()\n",
    "rng['date'] = pd.date_range(datetime.datetime.now().date(), periods = 72, freq ='H')\n",
    "\n",
    "# Print the dates in dd-mm-yy format\n",
    "rng[:5]\n",
    "\n",
    "# Create features for year, month, day, hour, and minute\n",
    "rng['year'] = rng['date'].dt.year\n",
    "rng['month'] = rng['date'].dt.month\n",
    "rng['day'] = rng['date'].dt.day\n",
    "rng['hour'] = rng['date'].dt.hour\n",
    "rng['minute'] = rng['date'].dt.minute\n",
    "\n",
    "# Print the dates divided into features\n",
    "rng.head(10)\n"
   ]
  },
  {
   "cell_type": "code",
   "execution_count": 80,
   "metadata": {},
   "outputs": [
    {
     "name": "stdout",
     "output_type": "stream",
     "text": [
      "<class 'pandas.core.frame.DataFrame'>\n",
      "RangeIndex: 1703 entries, 0 to 1702\n",
      "Data columns (total 16 columns):\n",
      " #   Column                              Non-Null Count  Dtype  \n",
      "---  ------                              --------------  -----  \n",
      " 0   ID                                  820 non-null    object \n",
      " 1   Applies To                          29 non-null     object \n",
      " 2   Country                             1675 non-null   object \n",
      " 3   Date Start                          1639 non-null   object \n",
      " 4   Date end intended                   242 non-null    object \n",
      " 5   Description of measure implemented  1640 non-null   object \n",
      " 6   Exceptions                          41 non-null     object \n",
      " 7   Implementing City                   127 non-null    object \n",
      " 8   Implementing State/Province         179 non-null    object \n",
      " 9   Keywords                            1615 non-null   object \n",
      " 10  Quantity                            302 non-null    float64\n",
      " 11  Source                              1517 non-null   object \n",
      " 12  Target city                         1 non-null      object \n",
      " 13  Target country                      132 non-null    object \n",
      " 14  Target region                       29 non-null     object \n",
      " 15  Target state                        0 non-null      float64\n",
      "dtypes: float64(2), object(14)\n",
      "memory usage: 213.0+ KB\n",
      "None\n"
     ]
    }
   ],
   "source": [
    "# Import dataset\n",
    "data = pd.read_csv('COVID_19_Containment_measures_data.csv')\n",
    "\n",
    "# print(data.loc[0])\n",
    "\n",
    "sample = {'id': data['ID'], 'country': data['Country'], 'start': data['Date Start'], \n",
    "          'end': data['Date end intended']}\n",
    "df = pd.DataFrame(sample)\n",
    "\n",
    "# print(df)\n",
    "print(data.info())"
   ]
  },
  {
   "cell_type": "code",
   "execution_count": 63,
   "metadata": {},
   "outputs": [
    {
     "name": "stdout",
     "output_type": "stream",
     "text": [
      "    id         country      start end\n",
      "0  163         Austria 2020-03-16 NaT\n",
      "1  132         Germany 2020-02-01 NaT\n",
      "2  578  United Kingdom 2020-03-20 NaT\n",
      "3  372  United Kingdom 2020-03-16 NaT\n",
      "4  357  United Kingdom 2020-03-16 NaT\n"
     ]
    }
   ],
   "source": [
    "# Convert the Time column to datetime format\n",
    "df['start'] = pd.to_datetime(df.start)\n",
    "df['end'] = pd.to_datetime(df.end)\n",
    "\n",
    "print(df.head())"
   ]
  },
  {
   "cell_type": "code",
   "execution_count": 66,
   "metadata": {},
   "outputs": [
    {
     "data": {
      "text/plain": [
       "id                 object\n",
       "country            object\n",
       "start      datetime64[ns]\n",
       "end        datetime64[ns]\n",
       "dtype: object"
      ]
     },
     "execution_count": 66,
     "metadata": {},
     "output_type": "execute_result"
    }
   ],
   "source": [
    "df.dtypes\n",
    "# Thus, shows that, start and end columns are converted to datetime type"
   ]
  },
  {
   "cell_type": "code",
   "execution_count": 73,
   "metadata": {},
   "outputs": [
    {
     "name": "stdout",
     "output_type": "stream",
     "text": [
      "0    0.0\n",
      "1    0.0\n",
      "2    0.0\n",
      "3    0.0\n",
      "4    0.0\n",
      "Name: start, dtype: float64\n",
      "0    76.0\n",
      "1    32.0\n",
      "2    80.0\n",
      "3    76.0\n",
      "4    76.0\n",
      "Name: start, dtype: float64\n"
     ]
    }
   ],
   "source": [
    "# Get details from the date type from the DF\n",
    "\n",
    "# Get hour detail from time data\n",
    "print(df.start.dt.hour.head())\n",
    "\n",
    "# Get name of each date\n",
    "# df.start.dt.weekday_name.head()\n",
    "\n",
    "\n",
    "# Get ordinal day of the year\n",
    "print(df.start.dt.dayofyear.head())\n"
   ]
  },
  {
   "cell_type": "markdown",
   "metadata": {},
   "source": [
    "> **Resampling time series data (e.g., downsampling and upsampling):**\n",
    "\n",
    "* Pandas **dataframe.resample()** function is primarily used for time series data.\n",
    "\n",
    "* A time series is a series of data points indexed (or listed or graphed) in time order.\n",
    "\n",
    "* It is a Convenience method for frequency conversion and resampling of time series. \n",
    "\n",
    "* Object must have a datetime-like index (DatetimeIndex, PeriodIndex, or TimedeltaIndex), or pass datetime-like values to the on or level keyword."
   ]
  },
  {
   "cell_type": "markdown",
   "metadata": {},
   "source": [
    "* **Syntax :** \n",
    "        \n",
    "        DataFrame.resample(rule, how=None, axis=0, fill_method=None, closed=None, label=None, convention=’start’, kind=None, loffset=None, limit=None, base=0, on=None, level=None)\n",
    "\n",
    "* **Parameters :**\n",
    "  * **rule :** the offset string or object representing target conversion\n",
    "  * **axis :** int, optional, default 0\n",
    "  * **closed :** {‘right’, ‘left’}\n",
    "  * **label :** {‘right’, ‘left’}\n",
    "  * **convention :** For PeriodIndex only, controls whether to use the start or end of rule\n",
    "  * **loffset :** Adjust the resampled time labels\n",
    "  * **base :** For frequencies that evenly subdivide 1 day, the “origin” of the aggregated intervals. For example, for ‘5min’ frequency, base could range from 0 through 4. Defaults to 0.\n",
    "  * **on :** For a DataFrame, column to use instead of index for resampling. Column must be datetime-like.\n",
    "  * **level :** For a MultiIndex, level (name or number) to use for resampling. Level must be datetime-like.\n",
    "\n"
   ]
  },
  {
   "cell_type": "markdown",
   "metadata": {},
   "source": [
    "* Resampling generates a unique sampling distribution on the basis of the actual data.\n",
    "\n",
    "* Most commonly used time series frequency are –\n",
    "  * **W :** weekly frequency\n",
    "  * **M :** month end frequency\n",
    "  * **SM :** semi-month end frequency (15th and end of month)\n",
    "  * **Q :** quarter end frequency"
   ]
  },
  {
   "cell_type": "code",
   "execution_count": 84,
   "metadata": {},
   "outputs": [],
   "source": [
    "data = pd.read_csv('COVID_19_Containment_measures_data.csv')\n",
    "sample = {'id': data['ID'], 'country': data['Country'], 'start_date': data['Date Start'], \n",
    "          'end': data['Date end intended'], 'quantity': data['Quantity']}\n",
    "covid_df = pd.DataFrame(sample)\n",
    "covid_df.dropna(inplace=True)\n",
    "covid_df.to_csv('covid_data.csv')"
   ]
  },
  {
   "cell_type": "code",
   "execution_count": 86,
   "metadata": {},
   "outputs": [
    {
     "data": {
      "text/html": [
       "<div>\n",
       "<style scoped>\n",
       "    .dataframe tbody tr th:only-of-type {\n",
       "        vertical-align: middle;\n",
       "    }\n",
       "\n",
       "    .dataframe tbody tr th {\n",
       "        vertical-align: top;\n",
       "    }\n",
       "\n",
       "    .dataframe thead th {\n",
       "        text-align: right;\n",
       "    }\n",
       "</style>\n",
       "<table border=\"1\" class=\"dataframe\">\n",
       "  <thead>\n",
       "    <tr style=\"text-align: right;\">\n",
       "      <th></th>\n",
       "      <th>Unnamed: 0</th>\n",
       "      <th>id</th>\n",
       "      <th>country</th>\n",
       "      <th>end</th>\n",
       "      <th>quantity</th>\n",
       "    </tr>\n",
       "    <tr>\n",
       "      <th>start_date</th>\n",
       "      <th></th>\n",
       "      <th></th>\n",
       "      <th></th>\n",
       "      <th></th>\n",
       "      <th></th>\n",
       "    </tr>\n",
       "  </thead>\n",
       "  <tbody>\n",
       "    <tr>\n",
       "      <th>2020-03-16</th>\n",
       "      <td>378</td>\n",
       "      <td>254</td>\n",
       "      <td>Finland</td>\n",
       "      <td>Apr 13, 2020</td>\n",
       "      <td>10.0</td>\n",
       "    </tr>\n",
       "    <tr>\n",
       "      <th>2020-03-16</th>\n",
       "      <td>414</td>\n",
       "      <td>292</td>\n",
       "      <td>Lithuania</td>\n",
       "      <td>Mar 30, 2020</td>\n",
       "      <td>50.0</td>\n",
       "    </tr>\n",
       "    <tr>\n",
       "      <th>2020-03-13</th>\n",
       "      <td>452</td>\n",
       "      <td>345</td>\n",
       "      <td>Latvia</td>\n",
       "      <td>Apr 14, 2020</td>\n",
       "      <td>200.0</td>\n",
       "    </tr>\n",
       "    <tr>\n",
       "      <th>2020-03-15</th>\n",
       "      <td>453</td>\n",
       "      <td>342</td>\n",
       "      <td>Netherlands</td>\n",
       "      <td>Apr 06, 2020</td>\n",
       "      <td>30.0</td>\n",
       "    </tr>\n",
       "    <tr>\n",
       "      <th>2020-03-15</th>\n",
       "      <td>468</td>\n",
       "      <td>364</td>\n",
       "      <td>Ireland</td>\n",
       "      <td>Mar 29, 2020</td>\n",
       "      <td>10.0</td>\n",
       "    </tr>\n",
       "    <tr>\n",
       "      <th>2020-03-16</th>\n",
       "      <td>503</td>\n",
       "      <td>396</td>\n",
       "      <td>United States</td>\n",
       "      <td>Mar 30, 2020</td>\n",
       "      <td>1000.0</td>\n",
       "    </tr>\n",
       "    <tr>\n",
       "      <th>2020-03-08</th>\n",
       "      <td>529</td>\n",
       "      <td>447</td>\n",
       "      <td>Romania</td>\n",
       "      <td>Mar 31, 2020</td>\n",
       "      <td>1000.0</td>\n",
       "    </tr>\n",
       "    <tr>\n",
       "      <th>2020-03-11</th>\n",
       "      <td>530</td>\n",
       "      <td>436</td>\n",
       "      <td>Romania</td>\n",
       "      <td>Mar 31, 2020</td>\n",
       "      <td>100.0</td>\n",
       "    </tr>\n",
       "    <tr>\n",
       "      <th>2020-03-12</th>\n",
       "      <td>533</td>\n",
       "      <td>442</td>\n",
       "      <td>Norway</td>\n",
       "      <td>Mar 26, 2020</td>\n",
       "      <td>50.0</td>\n",
       "    </tr>\n",
       "    <tr>\n",
       "      <th>2020-03-13</th>\n",
       "      <td>544</td>\n",
       "      <td>459</td>\n",
       "      <td>Germany</td>\n",
       "      <td>Apr 20, 2020</td>\n",
       "      <td>90.0</td>\n",
       "    </tr>\n",
       "    <tr>\n",
       "      <th>2020-03-10</th>\n",
       "      <td>599</td>\n",
       "      <td>588</td>\n",
       "      <td>Russia</td>\n",
       "      <td>Apr 10, 2020</td>\n",
       "      <td>5000.0</td>\n",
       "    </tr>\n",
       "    <tr>\n",
       "      <th>2020-03-16</th>\n",
       "      <td>613</td>\n",
       "      <td>583</td>\n",
       "      <td>Russia</td>\n",
       "      <td>Apr 10, 2020</td>\n",
       "      <td>50.0</td>\n",
       "    </tr>\n",
       "    <tr>\n",
       "      <th>2020-03-13</th>\n",
       "      <td>615</td>\n",
       "      <td>574</td>\n",
       "      <td>Russia</td>\n",
       "      <td>Mar 20, 2020</td>\n",
       "      <td>1000.0</td>\n",
       "    </tr>\n",
       "    <tr>\n",
       "      <th>2020-03-16</th>\n",
       "      <td>632</td>\n",
       "      <td>618</td>\n",
       "      <td>US: Oregon</td>\n",
       "      <td>Apr 16, 2020</td>\n",
       "      <td>25.0</td>\n",
       "    </tr>\n",
       "    <tr>\n",
       "      <th>2020-03-18</th>\n",
       "      <td>940</td>\n",
       "      <td>861</td>\n",
       "      <td>Denmark</td>\n",
       "      <td>Apr 13, 2020</td>\n",
       "      <td>10.0</td>\n",
       "    </tr>\n",
       "  </tbody>\n",
       "</table>\n",
       "</div>"
      ],
      "text/plain": [
       "            Unnamed: 0   id        country           end  quantity\n",
       "start_date                                                        \n",
       "2020-03-16         378  254        Finland  Apr 13, 2020      10.0\n",
       "2020-03-16         414  292      Lithuania  Mar 30, 2020      50.0\n",
       "2020-03-13         452  345         Latvia  Apr 14, 2020     200.0\n",
       "2020-03-15         453  342    Netherlands  Apr 06, 2020      30.0\n",
       "2020-03-15         468  364        Ireland  Mar 29, 2020      10.0\n",
       "2020-03-16         503  396  United States  Mar 30, 2020    1000.0\n",
       "2020-03-08         529  447        Romania  Mar 31, 2020    1000.0\n",
       "2020-03-11         530  436        Romania  Mar 31, 2020     100.0\n",
       "2020-03-12         533  442         Norway  Mar 26, 2020      50.0\n",
       "2020-03-13         544  459        Germany  Apr 20, 2020      90.0\n",
       "2020-03-10         599  588         Russia  Apr 10, 2020    5000.0\n",
       "2020-03-16         613  583         Russia  Apr 10, 2020      50.0\n",
       "2020-03-13         615  574         Russia  Mar 20, 2020    1000.0\n",
       "2020-03-16         632  618     US: Oregon  Apr 16, 2020      25.0\n",
       "2020-03-18         940  861        Denmark  Apr 13, 2020      10.0"
      ]
     },
     "execution_count": 86,
     "metadata": {},
     "output_type": "execute_result"
    }
   ],
   "source": [
    "# By default the \"start_date\" column was in string format,\n",
    "# we need to convert it into date-time format\n",
    "  \n",
    "# parse_dates =[\"start_date\"], converts the \"start_date\" \n",
    "# column to date-time format. We know that \n",
    "# resampling works with time-series data only\n",
    "# so convert \"start_date\" column to index\n",
    "  \n",
    "# index_col =\"start_date\", makes \"start_date\" column, the index of the data frame\n",
    "df = pd.read_csv('covid_data.csv', parse_dates =[\"start_date\"], index_col =\"start_date\")\n",
    "\n",
    "# Printing the dataframe\n",
    "df"
   ]
  },
  {
   "cell_type": "code",
   "execution_count": 89,
   "metadata": {},
   "outputs": [
    {
     "data": {
      "text/plain": [
       "start_date\n",
       "2020-03-08    1000.000000\n",
       "2020-03-15     810.000000\n",
       "2020-03-22     190.833333\n",
       "Freq: W-SUN, Name: quantity, dtype: float64"
      ]
     },
     "execution_count": 89,
     "metadata": {},
     "output_type": "execute_result"
    }
   ],
   "source": [
    "# Resampling the time series data based on weekly frequency\n",
    "# we apply it on stock open price 'W' indicates week\n",
    "weekly_resampled_data = df.quantity.resample('W').mean()\n",
    "  \n",
    "# find the mean opening price of each week \n",
    "# for each week over the period\n",
    "weekly_resampled_data"
   ]
  },
  {
   "cell_type": "markdown",
   "metadata": {},
   "source": [
    "> **Working with time-based data in pandas (e.g., datetime index):**\n"
   ]
  },
  {
   "cell_type": "code",
   "execution_count": 91,
   "metadata": {},
   "outputs": [
    {
     "data": {
      "text/html": [
       "<div>\n",
       "<style scoped>\n",
       "    .dataframe tbody tr th:only-of-type {\n",
       "        vertical-align: middle;\n",
       "    }\n",
       "\n",
       "    .dataframe tbody tr th {\n",
       "        vertical-align: top;\n",
       "    }\n",
       "\n",
       "    .dataframe thead th {\n",
       "        text-align: right;\n",
       "    }\n",
       "</style>\n",
       "<table border=\"1\" class=\"dataframe\">\n",
       "  <thead>\n",
       "    <tr style=\"text-align: right;\">\n",
       "      <th></th>\n",
       "      <th>Unnamed: 0</th>\n",
       "      <th>id</th>\n",
       "      <th>country</th>\n",
       "      <th>end</th>\n",
       "      <th>quantity</th>\n",
       "    </tr>\n",
       "    <tr>\n",
       "      <th>start_date</th>\n",
       "      <th></th>\n",
       "      <th></th>\n",
       "      <th></th>\n",
       "      <th></th>\n",
       "      <th></th>\n",
       "    </tr>\n",
       "  </thead>\n",
       "  <tbody>\n",
       "    <tr>\n",
       "      <th>2020-03-16</th>\n",
       "      <td>378</td>\n",
       "      <td>254</td>\n",
       "      <td>Finland</td>\n",
       "      <td>2020-04-13</td>\n",
       "      <td>10.0</td>\n",
       "    </tr>\n",
       "    <tr>\n",
       "      <th>2020-03-16</th>\n",
       "      <td>414</td>\n",
       "      <td>292</td>\n",
       "      <td>Lithuania</td>\n",
       "      <td>2020-03-30</td>\n",
       "      <td>50.0</td>\n",
       "    </tr>\n",
       "    <tr>\n",
       "      <th>2020-03-13</th>\n",
       "      <td>452</td>\n",
       "      <td>345</td>\n",
       "      <td>Latvia</td>\n",
       "      <td>2020-04-14</td>\n",
       "      <td>200.0</td>\n",
       "    </tr>\n",
       "    <tr>\n",
       "      <th>2020-03-15</th>\n",
       "      <td>453</td>\n",
       "      <td>342</td>\n",
       "      <td>Netherlands</td>\n",
       "      <td>2020-04-06</td>\n",
       "      <td>30.0</td>\n",
       "    </tr>\n",
       "    <tr>\n",
       "      <th>2020-03-15</th>\n",
       "      <td>468</td>\n",
       "      <td>364</td>\n",
       "      <td>Ireland</td>\n",
       "      <td>2020-03-29</td>\n",
       "      <td>10.0</td>\n",
       "    </tr>\n",
       "    <tr>\n",
       "      <th>2020-03-16</th>\n",
       "      <td>503</td>\n",
       "      <td>396</td>\n",
       "      <td>United States</td>\n",
       "      <td>2020-03-30</td>\n",
       "      <td>1000.0</td>\n",
       "    </tr>\n",
       "    <tr>\n",
       "      <th>2020-03-08</th>\n",
       "      <td>529</td>\n",
       "      <td>447</td>\n",
       "      <td>Romania</td>\n",
       "      <td>2020-03-31</td>\n",
       "      <td>1000.0</td>\n",
       "    </tr>\n",
       "    <tr>\n",
       "      <th>2020-03-11</th>\n",
       "      <td>530</td>\n",
       "      <td>436</td>\n",
       "      <td>Romania</td>\n",
       "      <td>2020-03-31</td>\n",
       "      <td>100.0</td>\n",
       "    </tr>\n",
       "    <tr>\n",
       "      <th>2020-03-12</th>\n",
       "      <td>533</td>\n",
       "      <td>442</td>\n",
       "      <td>Norway</td>\n",
       "      <td>2020-03-26</td>\n",
       "      <td>50.0</td>\n",
       "    </tr>\n",
       "    <tr>\n",
       "      <th>2020-03-13</th>\n",
       "      <td>544</td>\n",
       "      <td>459</td>\n",
       "      <td>Germany</td>\n",
       "      <td>2020-04-20</td>\n",
       "      <td>90.0</td>\n",
       "    </tr>\n",
       "    <tr>\n",
       "      <th>2020-03-10</th>\n",
       "      <td>599</td>\n",
       "      <td>588</td>\n",
       "      <td>Russia</td>\n",
       "      <td>2020-04-10</td>\n",
       "      <td>5000.0</td>\n",
       "    </tr>\n",
       "    <tr>\n",
       "      <th>2020-03-16</th>\n",
       "      <td>613</td>\n",
       "      <td>583</td>\n",
       "      <td>Russia</td>\n",
       "      <td>2020-04-10</td>\n",
       "      <td>50.0</td>\n",
       "    </tr>\n",
       "    <tr>\n",
       "      <th>2020-03-13</th>\n",
       "      <td>615</td>\n",
       "      <td>574</td>\n",
       "      <td>Russia</td>\n",
       "      <td>2020-03-20</td>\n",
       "      <td>1000.0</td>\n",
       "    </tr>\n",
       "    <tr>\n",
       "      <th>2020-03-16</th>\n",
       "      <td>632</td>\n",
       "      <td>618</td>\n",
       "      <td>US: Oregon</td>\n",
       "      <td>2020-04-16</td>\n",
       "      <td>25.0</td>\n",
       "    </tr>\n",
       "    <tr>\n",
       "      <th>2020-03-18</th>\n",
       "      <td>940</td>\n",
       "      <td>861</td>\n",
       "      <td>Denmark</td>\n",
       "      <td>2020-04-13</td>\n",
       "      <td>10.0</td>\n",
       "    </tr>\n",
       "  </tbody>\n",
       "</table>\n",
       "</div>"
      ],
      "text/plain": [
       "            Unnamed: 0   id        country        end  quantity\n",
       "start_date                                                     \n",
       "2020-03-16         378  254        Finland 2020-04-13      10.0\n",
       "2020-03-16         414  292      Lithuania 2020-03-30      50.0\n",
       "2020-03-13         452  345         Latvia 2020-04-14     200.0\n",
       "2020-03-15         453  342    Netherlands 2020-04-06      30.0\n",
       "2020-03-15         468  364        Ireland 2020-03-29      10.0\n",
       "2020-03-16         503  396  United States 2020-03-30    1000.0\n",
       "2020-03-08         529  447        Romania 2020-03-31    1000.0\n",
       "2020-03-11         530  436        Romania 2020-03-31     100.0\n",
       "2020-03-12         533  442         Norway 2020-03-26      50.0\n",
       "2020-03-13         544  459        Germany 2020-04-20      90.0\n",
       "2020-03-10         599  588         Russia 2020-04-10    5000.0\n",
       "2020-03-16         613  583         Russia 2020-04-10      50.0\n",
       "2020-03-13         615  574         Russia 2020-03-20    1000.0\n",
       "2020-03-16         632  618     US: Oregon 2020-04-16      25.0\n",
       "2020-03-18         940  861        Denmark 2020-04-13      10.0"
      ]
     },
     "execution_count": 91,
     "metadata": {},
     "output_type": "execute_result"
    }
   ],
   "source": [
    "# index_col =\"start_date\", makes \"start_date\" column, the index of the data frame\n",
    "df = pd.read_csv('covid_data.csv', parse_dates =[\"start_date\"], index_col =\"start_date\")\n",
    "\n",
    "df['end'] = pd.to_datetime(df.end)\n",
    "# Printing the dataframe\n",
    "df"
   ]
  },
  {
   "cell_type": "code",
   "execution_count": null,
   "metadata": {},
   "outputs": [],
   "source": []
  }
 ],
 "metadata": {
  "kernelspec": {
   "display_name": "virtual_env",
   "language": "python",
   "name": "python3"
  },
  "language_info": {
   "codemirror_mode": {
    "name": "ipython",
    "version": 3
   },
   "file_extension": ".py",
   "mimetype": "text/x-python",
   "name": "python",
   "nbconvert_exporter": "python",
   "pygments_lexer": "ipython3",
   "version": "3.11.4"
  },
  "orig_nbformat": 4
 },
 "nbformat": 4,
 "nbformat_minor": 2
}
