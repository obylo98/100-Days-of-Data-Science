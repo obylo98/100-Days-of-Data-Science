{
 "cells": [
  {
   "cell_type": "markdown",
   "metadata": {},
   "source": [
    "# **NumPy Math Operations**"
   ]
  },
  {
   "cell_type": "code",
   "execution_count": null,
   "metadata": {},
   "outputs": [],
   "source": [
    "import numpy as np"
   ]
  },
  {
   "cell_type": "markdown",
   "metadata": {},
   "source": [
    "# **Array Operations in NumPy**"
   ]
  },
  {
   "cell_type": "markdown",
   "metadata": {},
   "source": [
    "> **Arithmetic Operations:**"
   ]
  },
  {
   "cell_type": "code",
   "execution_count": null,
   "metadata": {},
   "outputs": [],
   "source": [
    "arr1 = np.arange(9, dtype='i').reshape(3,3)\n",
    "arr2 = np.arange(10,19, dtype='i').reshape(3,3)\n",
    "\n",
    "print(arr1)\n",
    "print(arr2)"
   ]
  },
  {
   "cell_type": "code",
   "execution_count": null,
   "metadata": {},
   "outputs": [],
   "source": [
    "print(np.add(arr1, arr2))"
   ]
  },
  {
   "cell_type": "code",
   "execution_count": null,
   "metadata": {},
   "outputs": [],
   "source": [
    "print(np.substract(arr1, arr2))\n",
    "print(np.subtract(arr2, arr1))\n"
   ]
  },
  {
   "cell_type": "code",
   "execution_count": null,
   "metadata": {},
   "outputs": [],
   "source": [
    "print(np.multiply(arr1, arr2))\n"
   ]
  },
  {
   "cell_type": "code",
   "execution_count": null,
   "metadata": {},
   "outputs": [],
   "source": [
    "print(np.divide(arr1, arr2))\n",
    "print(np.divide(arr2, arr1))\n"
   ]
  },
  {
   "cell_type": "markdown",
   "metadata": {},
   "source": [
    "> **numpy.reciprocal():**"
   ]
  },
  {
   "cell_type": "markdown",
   "metadata": {},
   "source": [
    "* This method returns the argument's element-by-element inverse. \n",
    "* When an element's absolute value is greater than 1, the outcome is always 0, and an overflow warning is shown for integer 0."
   ]
  },
  {
   "cell_type": "code",
   "execution_count": null,
   "metadata": {},
   "outputs": [],
   "source": [
    "ar = np.array([12, 13, 14, 15, 16, 17, 18, 19, 20]).reshape(3, 3)\n",
    "print(np.reciprocal(ar))"
   ]
  },
  {
   "cell_type": "code",
   "execution_count": null,
   "metadata": {},
   "outputs": [],
   "source": [
    "ar = np.array([12, 13.7, 14, 15.2, 16, 17.6, 18.9, 19.5, 20]).reshape(3, 3)\n",
    "print(np.reciprocal(ar))\n"
   ]
  },
  {
   "cell_type": "markdown",
   "metadata": {},
   "source": [
    "> **numpy.power():**"
   ]
  },
  {
   "cell_type": "markdown",
   "metadata": {},
   "source": [
    "* This function treats the original array's elements as the base in the exponents' syntax, which then raises them to the power of the adjacent elements provided in the second array argument."
   ]
  },
  {
   "cell_type": "code",
   "execution_count": null,
   "metadata": {},
   "outputs": [],
   "source": [
    "arr = np.array([1,2,3,4,5,6,7,8,9]).reshape(3,3)\n",
    "print(np.power(arr, 2))\n",
    "print(np.power(arr, 3))"
   ]
  },
  {
   "cell_type": "markdown",
   "metadata": {},
   "source": [
    "> **numpy.mod():**"
   ]
  },
  {
   "cell_type": "markdown",
   "metadata": {},
   "source": [
    "* This function returns the remainder of the division of the corresponding elements in the input array. \n",
    "* The function numpy.remainder() also produces the same result."
   ]
  },
  {
   "cell_type": "code",
   "execution_count": null,
   "metadata": {},
   "outputs": [],
   "source": [
    "arr1 = np.array([5, 10, 15])\n",
    "arr2 = np.array([2, 4, 3])\n",
    "\n",
    "print(np.mod(arr1, arr2))\n",
    "print(np.remainder(arr1, arr2))"
   ]
  },
  {
   "cell_type": "markdown",
   "metadata": {},
   "source": [
    "> **numpy.dot():**\n",
    "\n",
    "* We will begin with the cases in which both arguments are scalars or one-dimensional arrays."
   ]
  },
  {
   "cell_type": "code",
   "execution_count": null,
   "metadata": {},
   "outputs": [],
   "source": [
    "print(np.dot(10, 12))\n",
    "\n",
    "a = np.array([12])\n",
    "b = np.array([15])\n",
    "print(np.dot(a,b))\n",
    "\n",
    "a1 = np.array([11, 10])\n",
    "a2 = np.array([2, 4])\n",
    "print(np.dot(a1, a2))\n"
   ]
  },
  {
   "cell_type": "markdown",
   "metadata": {},
   "source": [
    "# **Operations on Complex Numbers**"
   ]
  },
  {
   "cell_type": "markdown",
   "metadata": {},
   "source": [
    "> **numpy.real():** \n",
    "\n",
    "* This function will return the real part of the given complex argument."
   ]
  },
  {
   "cell_type": "code",
   "execution_count": null,
   "metadata": {},
   "outputs": [],
   "source": [
    "a = np.array([-6.6j, 0.9j, 14. , 1+9j]) \n",
    "\n",
    "print('Our complex array is:')  \n",
    "print(a)  \n",
    "  \n",
    "print('Applying the numpy real function: ')  \n",
    "print(np.real(a))   \n",
    "  "
   ]
  },
  {
   "cell_type": "markdown",
   "metadata": {},
   "source": [
    "> **numpy.imag():** \n",
    "\n",
    "* This function will return the imaginary part of the complex argument."
   ]
  },
  {
   "cell_type": "code",
   "execution_count": null,
   "metadata": {},
   "outputs": [],
   "source": [
    "print('Applying the numpy imag function: ')  \n",
    "print(np.imag(a))           \n"
   ]
  },
  {
   "cell_type": "markdown",
   "metadata": {},
   "source": [
    "> **numpy.conj():**\n",
    "\n",
    "* This function will return the complex conjugate of the given complex argument. \n",
    "* It is obtained by swapping the sign of the imaginary part."
   ]
  },
  {
   "cell_type": "code",
   "execution_count": null,
   "metadata": {},
   "outputs": [],
   "source": [
    "print('Applying the numpy conj function: ')  \n",
    "print(np.conj(a)) "
   ]
  },
  {
   "cell_type": "markdown",
   "metadata": {},
   "source": [
    "> **numpy.angle():**  \n",
    "\n",
    "* This function will return the angle of the given complex argument. \n",
    "* The function has a parameter having the keyword- degree. \n",
    "* If set to true, the function will return the angle in degrees; otherwise, the angle is returned in radians."
   ]
  },
  {
   "cell_type": "code",
   "execution_count": null,
   "metadata": {},
   "outputs": [],
   "source": [
    "print('Applying the numpy angle function: ')   \n",
    "print(np.angle(a)) \n",
    "\n",
    "print('Applying the numpy angle function again (result in degrees)')   \n",
    "print(np.angle(a, deg = True))"
   ]
  },
  {
   "cell_type": "markdown",
   "metadata": {},
   "source": [
    "# **Using Numpy Arrays with Conditional Expressions**"
   ]
  },
  {
   "cell_type": "code",
   "execution_count": null,
   "metadata": {},
   "outputs": [],
   "source": [
    "arr = np.array([1,2,3,4,5,6,7,8,9])\n",
    "\n",
    "print(arr[arr%2 == 0])\n",
    "print(arr[arr%2 == 1])\n",
    "\n",
    "odd = arr%2 == 1\n",
    "even = arr%2 == 0\n",
    "\n",
    "print(arr[odd])\n",
    "print(arr[even])"
   ]
  },
  {
   "cell_type": "markdown",
   "metadata": {},
   "source": [
    "# **Logical Operators**"
   ]
  },
  {
   "cell_type": "markdown",
   "metadata": {},
   "source": [
    "* The logical operators \"or\" and \"and\" also apply to numpy arrays elementwise. \n",
    "* For this, we can use the numpy logical_or and logical_and methods."
   ]
  },
  {
   "cell_type": "code",
   "execution_count": null,
   "metadata": {},
   "outputs": [],
   "source": [
    "arr1 = np.array([[True, False], [True, True]])\n",
    "arr2 = np.array([[False, False], [False, True]])\n",
    "\n",
    "print(np.logical_or(arr1, arr2))\n",
    "print(np.logical_and(arr1, arr2))"
   ]
  },
  {
   "cell_type": "markdown",
   "metadata": {},
   "source": [
    "> **Broadcasting:**"
   ]
  },
  {
   "cell_type": "markdown",
   "metadata": {},
   "source": [
    "* We take a larger dimension array and a smaller dimension array, and we convert or extend the smaller dimension array to the larger dimension array multiple times to carry out an operation. \n",
    "\n",
    "* To put this in another way, the smaller array can occasionally be \"broadcasted\" so that it takes on the same dimension as the larger array."
   ]
  },
  {
   "cell_type": "code",
   "execution_count": null,
   "metadata": {},
   "outputs": [],
   "source": [
    "arr1 = np.array([[1,2,3], [4,5,6], [7,8,9]])\n",
    "arr2 = np.array([10,20,30])\n",
    "print(arr1+arr2)\n",
    "print(arr1-arr2)\n",
    "print(arr1*arr2)"
   ]
  },
  {
   "cell_type": "markdown",
   "metadata": {},
   "source": [
    "# **Aggregation Functions in NumPy**"
   ]
  },
  {
   "cell_type": "markdown",
   "metadata": {},
   "source": [
    "> **sum:**\n",
    "\n",
    "* Python numpy sum function calculates the sum of values in an array. "
   ]
  },
  {
   "cell_type": "code",
   "execution_count": null,
   "metadata": {},
   "outputs": [],
   "source": [
    "arr1 = np.array(10)\n",
    "arr2 = np.array([20])\n",
    "arr3 = np.array([23, 34, 56, 78])\n",
    "\n",
    "print(arr1.sum())\n",
    "print(arr2.sum())\n",
    "print(arr3.sum())\n",
    "\n",
    "print(np.sum(arr1))\n",
    "print(np.sum(arr2))\n",
    "print(np.sum(arr3))"
   ]
  },
  {
   "cell_type": "markdown",
   "metadata": {},
   "source": [
    "* axis = 0 returns the sum of each column in a Numpy array.\n",
    "\n",
    "* axis = 1 returns the sum of each row in a Numpy array."
   ]
  },
  {
   "cell_type": "code",
   "execution_count": null,
   "metadata": {},
   "outputs": [],
   "source": [
    "arr = np.arange(1, 10, dtype='i').reshape(3, 3)\n",
    "\n",
    "print(arr.sum(axis = 0))\n",
    "print(arr.sum(axis = 1))\n",
    "\n",
    "print(np.sum(arr, axis=0))\n",
    "print(np.sum(arr, axis=1))"
   ]
  },
  {
   "cell_type": "markdown",
   "metadata": {},
   "source": [
    "> **average:**\n",
    "\n",
    "* Python numpy average function returns the average of a given array."
   ]
  },
  {
   "cell_type": "code",
   "execution_count": null,
   "metadata": {},
   "outputs": [],
   "source": [
    "arr = np.arange(1, 10, dtype='i').reshape(3, 3)\n",
    "\n",
    "print(np.average(arr))\n",
    "print(np.average(arr, axis=0))\n",
    "print(np.average(arr, axis=1))"
   ]
  },
  {
   "cell_type": "markdown",
   "metadata": {},
   "source": [
    "> **prod:**\n",
    "\n",
    "* Find product of all the elements in given array."
   ]
  },
  {
   "cell_type": "code",
   "execution_count": null,
   "metadata": {},
   "outputs": [],
   "source": [
    "arr = np.arange(1, 10, dtype='i').reshape(3, 3)\n",
    "\n",
    "print(np.prod(arr))\n",
    "print(np.prod(arr, axis=0))\n",
    "print(np.prod(arr, axis=1))"
   ]
  },
  {
   "cell_type": "markdown",
   "metadata": {},
   "source": [
    "> **min:**"
   ]
  },
  {
   "cell_type": "code",
   "execution_count": null,
   "metadata": {},
   "outputs": [],
   "source": [
    "arr = np.arange(11, 20, dtype='i').reshape(3, 3)\n",
    "\n",
    "print(arr.min())\n",
    "print(arr.min(axis=0))\n",
    "print(arr.min(axis=1))\n",
    "\n",
    "print(np.min(arr))\n",
    "print(np.min(arr, axis=0))\n",
    "print(np.min(arr, axis=1))"
   ]
  },
  {
   "cell_type": "markdown",
   "metadata": {},
   "source": [
    "> **Array minimum:**\n",
    "\n",
    "* Python array minimum function accepts two arrays.\n",
    "\n",
    "* Numpy array minimum performs one to one comparison of each array item in one array with other and returns an array of minimum values."
   ]
  },
  {
   "cell_type": "code",
   "execution_count": null,
   "metadata": {},
   "outputs": [],
   "source": [
    "arr1 = np.array([12, 56, 34, 89, 10, 22, 94])\n",
    "arr2 = np.array([45, 90, 23, 81, 98, 45, 34])\n",
    "\n",
    "print(np.minimum(arr1, arr2))"
   ]
  },
  {
   "cell_type": "markdown",
   "metadata": {},
   "source": [
    "> **Python array minimum function on randomly generated Matrices:**"
   ]
  },
  {
   "cell_type": "code",
   "execution_count": null,
   "metadata": {},
   "outputs": [],
   "source": [
    "x = np.random.randint(1, 10, size = (5, 5))\n",
    "print(x)\n",
    "print()\n",
    " \n",
    "y = np.random.randint(1, 10, size = (5, 5))\n",
    "print(y)\n",
    " \n",
    "print('\\n-----Minimum Array----')\n",
    "print(np.minimum(x, y))"
   ]
  },
  {
   "cell_type": "markdown",
   "metadata": {},
   "source": [
    "> **max:**"
   ]
  },
  {
   "cell_type": "markdown",
   "metadata": {},
   "source": [
    "* Returns the maximum number from a given array or in a given axis."
   ]
  },
  {
   "cell_type": "code",
   "execution_count": null,
   "metadata": {},
   "outputs": [],
   "source": [
    "arr = np.arange(11, 20, dtype='i').reshape(3, 3)\n",
    "\n",
    "print(arr.max())\n",
    "print(arr.max(axis=0))\n",
    "print(arr.max(axis=1))\n",
    "\n",
    "print(np.max(arr))\n",
    "print(np.max(arr, axis=0))\n",
    "print(np.max(arr, axis=1))"
   ]
  },
  {
   "cell_type": "markdown",
   "metadata": {},
   "source": [
    "> **Array maximum:**"
   ]
  },
  {
   "cell_type": "code",
   "execution_count": null,
   "metadata": {},
   "outputs": [],
   "source": [
    "arr1 = np.array([12, 56, 34, 89, 10, 22, 94])\n",
    "arr2 = np.array([45, 90, 23, 81, 98, 45, 34])\n",
    "\n",
    "print(np.maximum(arr1, arr2))"
   ]
  },
  {
   "cell_type": "code",
   "execution_count": null,
   "metadata": {},
   "outputs": [],
   "source": [
    "x = np.random.randint(1, 10, size = (5, 5))\n",
    "print(x)\n",
    "print()\n",
    " \n",
    "y = np.random.randint(1, 10, size = (5, 5))\n",
    "print(y)\n",
    " \n",
    "print('\\n-----Maximum Array----')\n",
    "print(np.maximum(x, y))"
   ]
  },
  {
   "cell_type": "markdown",
   "metadata": {},
   "source": [
    "> **mean:**\n",
    "\n",
    "* Returns the mean or average of a given array or in a given axis."
   ]
  },
  {
   "cell_type": "code",
   "execution_count": null,
   "metadata": {},
   "outputs": [],
   "source": [
    "arr = np.arange(11, 20, dtype='i').reshape(3, 3)\n",
    "\n",
    "print(arr.mean())\n",
    "print(arr.mean(axis=0))\n",
    "print(arr.mean(axis=1))\n",
    "\n",
    "print(np.mean(arr))\n",
    "print(np.mean(arr, axis=0))\n",
    "print(np.mean(arr, axis=1))"
   ]
  },
  {
   "cell_type": "markdown",
   "metadata": {},
   "source": [
    "> **median:**\n",
    "\n",
    "* Return the median of an array or an axis."
   ]
  },
  {
   "cell_type": "code",
   "execution_count": null,
   "metadata": {},
   "outputs": [],
   "source": [
    "arr = np.arange(11, 20, dtype='i').reshape(3, 3)\n",
    "\n",
    "print(np.median(arr))\n",
    "print(np.median(arr, axis=0))\n",
    "print(np.median(arr, axis=1))"
   ]
  },
  {
   "cell_type": "markdown",
   "metadata": {},
   "source": [
    "> **numpy var function:**\n",
    "\n",
    "* The Python numpy var function returns the variance of a given array or in a given axis. \n",
    "\n",
    "* The formula for this Python numpy var is : \n",
    "      \n",
    "      (item1 – mean)2 + …(itemN – mean)2 / total items"
   ]
  },
  {
   "cell_type": "code",
   "execution_count": null,
   "metadata": {},
   "outputs": [],
   "source": [
    "arr = np.arange(11, 20, dtype='i').reshape(3, 3)\n",
    "\n",
    "print(arr.var())\n",
    "print(arr.var(axis=0))\n",
    "print(arr.var(axis=1))\n",
    "\n",
    "print(np.var(arr))\n",
    "print(np.var(arr, axis=0))\n",
    "print(np.var(arr, axis=1))"
   ]
  },
  {
   "cell_type": "markdown",
   "metadata": {},
   "source": [
    "> **NumPy std:**\n",
    "\n",
    "* The Python numpy std function returns the standard deviation of a given array or in a given axis. \n",
    "\n",
    "* The formula behind this is the numpy array square root of variance."
   ]
  },
  {
   "cell_type": "code",
   "execution_count": null,
   "metadata": {},
   "outputs": [],
   "source": [
    "arr = np.arange(11, 20, dtype='i').reshape(3, 3)\n",
    "\n",
    "print(arr.std())\n",
    "print(arr.std(axis=0))\n",
    "print(arr.std(axis=1))\n",
    "\n",
    "print(np.std(arr))\n",
    "print(np.std(arr, axis=0))\n",
    "print(np.std(arr, axis=1))"
   ]
  },
  {
   "cell_type": "markdown",
   "metadata": {},
   "source": [
    "> **numpy cumsum:**\n",
    "\n",
    "* Returns the cumulative sum of a given array or in a given axis."
   ]
  },
  {
   "cell_type": "code",
   "execution_count": null,
   "metadata": {},
   "outputs": [],
   "source": [
    "arr = np.arange(11, 20, dtype='i').reshape(3, 3)\n",
    "\n",
    "print(arr.cumsum())\n",
    "print(arr.cumsum(axis=0))\n",
    "print(arr.cumsum(axis=1))\n",
    "\n",
    "print(np.cumsum(arr))\n",
    "print(np.cumsum(arr, axis=0))\n",
    "print(np.cumsum(arr, axis=1))"
   ]
  },
  {
   "cell_type": "markdown",
   "metadata": {},
   "source": [
    "> **numpy cumprod:**\n",
    "\n",
    "* Returns the cumulative product of a given array or in a given axis."
   ]
  },
  {
   "cell_type": "code",
   "execution_count": null,
   "metadata": {},
   "outputs": [],
   "source": [
    "arr = np.arange(11, 20, dtype='i').reshape(3, 3)\n",
    "\n",
    "print(arr.cumprod())\n",
    "print(arr.cumprod(axis=0))\n",
    "print(arr.cumprod(axis=1))\n",
    "\n",
    "print(np.cumprod(arr))\n",
    "print(np.cumprod(arr, axis=0))\n",
    "print(np.cumprod(arr, axis=1))"
   ]
  },
  {
   "cell_type": "markdown",
   "metadata": {},
   "source": [
    "> **percentile:**\n",
    "\n",
    "* Finds the percentile (based on the given value) of an array or an axis."
   ]
  },
  {
   "cell_type": "code",
   "execution_count": null,
   "metadata": {},
   "outputs": [],
   "source": [
    "arr1 = np.array([10, 20, 30, 40, 50])\n",
    "\n",
    "print(np.percentile(arr1, 100))\n",
    "print(np.percentile(arr1, 10))"
   ]
  },
  {
   "cell_type": "markdown",
   "metadata": {},
   "source": [
    "> **argmin:**\n",
    "\n",
    "* Returns the index position of the minimum value in a given array or a given axis."
   ]
  },
  {
   "cell_type": "code",
   "execution_count": null,
   "metadata": {},
   "outputs": [],
   "source": [
    "arr1 = np.array([12, 56, 34, 89, 10, 22, 94])\n",
    "arr2 = np.array([45, 90, 23, 81, 98, 45, 34])\n",
    "\n",
    "print(np.argmin(arr1))\n",
    "print(np.argmin(arr2))\n",
    "\n",
    "print(np.argmin(arr1, axis=0))\n",
    "print(np.argmin(arr2, axis=0))\n",
    "\n",
    "print(np.argmin(arr1, axis=1))\n",
    "print(np.argmin(arr2, axis=1))"
   ]
  },
  {
   "cell_type": "markdown",
   "metadata": {},
   "source": [
    "> **argmax:**\n",
    "\n",
    "* Returns the index position of the maximum value in a given array or a given axis."
   ]
  },
  {
   "cell_type": "code",
   "execution_count": null,
   "metadata": {},
   "outputs": [],
   "source": [
    "arr1 = np.array([12, 56, 34, 89, 10, 22]).reshape(3,2)\n",
    "arr2 = np.array([45, 90, 23, 81, 98, 45]).reshape(3,2)\n",
    "\n",
    "print(np.argmax(arr1))\n",
    "print(np.argmax(arr2))\n",
    "\n",
    "print(np.argmax(arr1, axis=0))\n",
    "print(np.argmax(arr2, axis=0))\n",
    "\n",
    "print(np.argmax(arr1, axis=1))\n",
    "print(np.argmax(arr2, axis=1))"
   ]
  },
  {
   "cell_type": "markdown",
   "metadata": {},
   "source": [
    "> **corrcoef:**\n",
    "\n",
    "* Numpy corrcoef function find and returns the correlation coefficient of an array."
   ]
  },
  {
   "cell_type": "code",
   "execution_count": null,
   "metadata": {},
   "outputs": [],
   "source": [
    "arr1 = np.array([12, 45, 78, 90, 83, 94, 41, 28, 49])\n",
    "arr2 = np.array([56, 43, 98, 32, 41, 88, 99, 30, 20])\n",
    "\n",
    "print(np.corrcoef(arr1))\n",
    "print(np.corrcoef(arr2))"
   ]
  },
  {
   "cell_type": "markdown",
   "metadata": {},
   "source": [
    "# **Linear Algebra(LinAlg) Functions**"
   ]
  },
  {
   "cell_type": "markdown",
   "metadata": {},
   "source": [
    "* Linear Algebra module of NumPy offers various methods to apply linear algebra on any numpy array."
   ]
  },
  {
   "cell_type": "markdown",
   "metadata": {},
   "source": [
    "> **matrix_rank:**"
   ]
  },
  {
   "cell_type": "code",
   "execution_count": null,
   "metadata": {},
   "outputs": [],
   "source": [
    "a = np.array([[6, 1, 1], [4, -2, 5], [2, 8, 7]])\n",
    "\n",
    "print(\"Rank of a:\", np.linalg.matrix_rank(a))"
   ]
  },
  {
   "cell_type": "markdown",
   "metadata": {},
   "source": [
    "> **trace:**"
   ]
  },
  {
   "cell_type": "code",
   "execution_count": null,
   "metadata": {},
   "outputs": [],
   "source": [
    "print(\"\\nTrace of A:\", np.trace(a))"
   ]
  },
  {
   "cell_type": "markdown",
   "metadata": {},
   "source": [
    "> **determinent:**"
   ]
  },
  {
   "cell_type": "code",
   "execution_count": null,
   "metadata": {},
   "outputs": [],
   "source": [
    "print(\"\\nDeterminant of A:\", np.linalg.det(a))"
   ]
  },
  {
   "cell_type": "markdown",
   "metadata": {},
   "source": [
    "> **inverse:**"
   ]
  },
  {
   "cell_type": "code",
   "execution_count": null,
   "metadata": {},
   "outputs": [],
   "source": [
    "print(\"\\nInverse of A:\\n\", np.linalg.inv(a))"
   ]
  },
  {
   "cell_type": "markdown",
   "metadata": {},
   "source": [
    "> **power of Matrix:**"
   ]
  },
  {
   "cell_type": "code",
   "execution_count": null,
   "metadata": {},
   "outputs": [],
   "source": [
    "print(\"\\nMatrix A raised to power 3:\\n\", np.linalg.matrix_power(a, 3))"
   ]
  },
  {
   "cell_type": "markdown",
   "metadata": {},
   "source": [
    "> **Eigen Values:**\n",
    "\n",
    "* Return the eigenvalues and eigenvectors of a complex Hermitian (conjugate symmetric) or a real symmetric matrix.\n",
    "\n",
    "* Returns two objects, a 1-D array containing the eigenvalues of a, and a 2-D square array or matrix (depending on the input type) of the corresponding eigenvectors (in columns)."
   ]
  },
  {
   "cell_type": "code",
   "execution_count": null,
   "metadata": {},
   "outputs": [],
   "source": [
    "c, d = np.linalg.eigh(a)\n",
    "\n",
    "print(c, d)"
   ]
  },
  {
   "cell_type": "markdown",
   "metadata": {},
   "source": [
    "> **eig():**\n",
    "\n",
    "* This function is used to compute the eigenvalues and right eigenvectors of a square array."
   ]
  },
  {
   "cell_type": "code",
   "execution_count": null,
   "metadata": {},
   "outputs": [],
   "source": [
    "a = np.array([1, 2, 3])\n",
    "\n",
    "c, d = np.linalg.eig(a)\n",
    " \n",
    "print(\"Eigen value is :\",c)\n",
    "print(\"Eigen value is :\",d)"
   ]
  },
  {
   "cell_type": "markdown",
   "metadata": {},
   "source": [
    "> **Matrix Product:**"
   ]
  },
  {
   "cell_type": "markdown",
   "metadata": {},
   "source": [
    "* Returns the dot product of vectors a and b. \n",
    "* It can handle 2D arrays but considering them as matrix and will perform matrix multiplication."
   ]
  },
  {
   "cell_type": "code",
   "execution_count": null,
   "metadata": {},
   "outputs": [],
   "source": [
    "vector_a = 2 + 3j\n",
    "vector_b = 4 + 5j\n",
    " \n",
    "product = np.dot(vector_a, vector_b)\n",
    "print(\"Dot Product  : \", product)"
   ]
  },
  {
   "cell_type": "code",
   "execution_count": null,
   "metadata": {},
   "outputs": [],
   "source": []
  },
  {
   "cell_type": "code",
   "execution_count": null,
   "metadata": {},
   "outputs": [],
   "source": []
  }
 ],
 "metadata": {
  "kernelspec": {
   "display_name": "Python 3",
   "language": "python",
   "name": "python3"
  },
  "language_info": {
   "codemirror_mode": {
    "name": "ipython",
    "version": 3
   },
   "file_extension": ".py",
   "mimetype": "text/x-python",
   "name": "python",
   "nbconvert_exporter": "python",
   "pygments_lexer": "ipython3",
   "version": "3.11.3"
  },
  "orig_nbformat": 4
 },
 "nbformat": 4,
 "nbformat_minor": 2
}
