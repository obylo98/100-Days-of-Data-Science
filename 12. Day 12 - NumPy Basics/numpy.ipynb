{
  "cells": [
    {
      "cell_type": "code",
      "execution_count": 1,
      "metadata": {
        "id": "bOHt6Ty4H78R"
      },
      "outputs": [],
      "source": [
        "import numpy as np"
      ]
    },
    {
      "cell_type": "markdown",
      "metadata": {
        "id": "6E4A0BRwH78b"
      },
      "source": [
        "> **Checking NumPy Version:**"
      ]
    },
    {
      "cell_type": "markdown",
      "metadata": {
        "id": "hR9PMwuGH78e"
      },
      "source": [
        "The version string is stored under '__version__' attribute."
      ]
    },
    {
      "cell_type": "code",
      "execution_count": 2,
      "metadata": {
        "colab": {
          "base_uri": "https://localhost:8080/",
          "height": 0
        },
        "id": "AEsa46wjH78e",
        "outputId": "61b8a925-9f79-4a23-b488-0fca4c1ffb1e"
      },
      "outputs": [
        {
          "output_type": "stream",
          "name": "stdout",
          "text": [
            "1.22.4\n"
          ]
        }
      ],
      "source": [
        "import numpy as np\n",
        "\n",
        "print(np.__version__)"
      ]
    },
    {
      "cell_type": "markdown",
      "metadata": {
        "id": "olMPJOlXH78f"
      },
      "source": [
        "# **Create Arrays**"
      ]
    },
    {
      "cell_type": "markdown",
      "metadata": {
        "id": "JsmRNQYcH78g"
      },
      "source": [
        "> **1D Array:**"
      ]
    },
    {
      "cell_type": "code",
      "execution_count": 3,
      "metadata": {
        "colab": {
          "base_uri": "https://localhost:8080/",
          "height": 0
        },
        "id": "50OJAyeEH78g",
        "outputId": "c75dddc2-f5f1-4fa9-a1eb-9e274debdb3c"
      },
      "outputs": [
        {
          "output_type": "stream",
          "name": "stdout",
          "text": [
            "[1 2 3 4 5]\n",
            "<class 'numpy.ndarray'>\n"
          ]
        }
      ],
      "source": [
        "arr = np.array([1, 2, 3, 4, 5])\n",
        "print(arr)\n",
        "print(type(arr))"
      ]
    },
    {
      "cell_type": "markdown",
      "metadata": {
        "id": "OpFfNnzaH78h"
      },
      "source": [
        "> **2D Array:**"
      ]
    },
    {
      "cell_type": "code",
      "execution_count": 4,
      "metadata": {
        "colab": {
          "base_uri": "https://localhost:8080/",
          "height": 0
        },
        "id": "TeWcwu5SH78i",
        "outputId": "ac25329e-1505-43c9-a664-9fc7a02aa354"
      },
      "outputs": [
        {
          "output_type": "stream",
          "name": "stdout",
          "text": [
            "[[1 2 3]\n",
            " [4 5 6]]\n"
          ]
        }
      ],
      "source": [
        "arr = np.array([[1, 2, 3], [4, 5, 6]])\n",
        "print(arr)"
      ]
    },
    {
      "cell_type": "markdown",
      "metadata": {
        "id": "XI6RFgTbH78j"
      },
      "source": [
        "> **Higher-Dimensional Arrays:**"
      ]
    },
    {
      "cell_type": "code",
      "execution_count": 5,
      "metadata": {
        "colab": {
          "base_uri": "https://localhost:8080/",
          "height": 0
        },
        "id": "bT86n3WxH78j",
        "outputId": "dfd3a23e-fd67-4c29-cdf4-6f912d24b4dc"
      },
      "outputs": [
        {
          "output_type": "stream",
          "name": "stdout",
          "text": [
            "[[[[[1 2 3 4]]]]]\n"
          ]
        }
      ],
      "source": [
        "arr = np.array([1, 2, 3, 4], ndmin=5)\n",
        "\n",
        "print(arr)"
      ]
    },
    {
      "cell_type": "markdown",
      "metadata": {
        "id": "8ksavCGKH78k"
      },
      "source": [
        "> **Reshape:** Can create another array with different shape, form one array."
      ]
    },
    {
      "cell_type": "code",
      "execution_count": 6,
      "metadata": {
        "colab": {
          "base_uri": "https://localhost:8080/",
          "height": 0
        },
        "id": "eZJJ7CmsH78k",
        "outputId": "bfe67fa0-ace4-4422-9d86-b097179fbde5"
      },
      "outputs": [
        {
          "output_type": "stream",
          "name": "stdout",
          "text": [
            "[[1 2 3]\n",
            " [4 5 6]\n",
            " [7 8 9]]\n"
          ]
        }
      ],
      "source": [
        "a = np.array([1,2,3,4,5,6,7,8,9])\n",
        "arr = a.reshape(3,3)\n",
        "print(arr)"
      ]
    },
    {
      "cell_type": "markdown",
      "metadata": {
        "id": "8tcpM8s6H78k"
      },
      "source": [
        "> **Flattening the arrays:**"
      ]
    },
    {
      "cell_type": "markdown",
      "metadata": {
        "id": "QLuGZmYMH78k"
      },
      "source": [
        "* Flattening array means converting a multidimensional array into a 1D array.\n",
        "\n",
        "* We can use reshape(-1) to do this."
      ]
    },
    {
      "cell_type": "code",
      "execution_count": 7,
      "metadata": {
        "vscode": {
          "languageId": "javascript"
        },
        "colab": {
          "base_uri": "https://localhost:8080/",
          "height": 0
        },
        "id": "uJN4K4gbH78l",
        "outputId": "bce35203-e15a-4425-fb35-0d1b87dbe9c5"
      },
      "outputs": [
        {
          "output_type": "stream",
          "name": "stdout",
          "text": [
            "[1 2 3 4 5 6]\n"
          ]
        }
      ],
      "source": [
        "arr = np.array([[1, 2, 3], [4, 5, 6]])\n",
        "newarr = arr.reshape(-1)\n",
        "\n",
        "print(newarr)"
      ]
    },
    {
      "cell_type": "markdown",
      "metadata": {
        "id": "87G03KbfH78l"
      },
      "source": [
        "> **tolist():** Convert an array to list."
      ]
    },
    {
      "cell_type": "code",
      "execution_count": 8,
      "metadata": {
        "colab": {
          "base_uri": "https://localhost:8080/",
          "height": 0
        },
        "id": "I6niuvKdH78l",
        "outputId": "d57f7bf3-f940-4354-f6c0-c5b090928b0c"
      },
      "outputs": [
        {
          "output_type": "stream",
          "name": "stdout",
          "text": [
            "<class 'list'> [1, 2, 3, 4, 5, 6, 7, 8, 9]\n"
          ]
        }
      ],
      "source": [
        "a = np.array([1,2,3,4,5,6,7,8,9])\n",
        "l = a.tolist()\n",
        "print(type(l), l)"
      ]
    },
    {
      "cell_type": "markdown",
      "metadata": {
        "id": "LXdL3bLjH78l"
      },
      "source": [
        "# **Attributes of ndarray**"
      ]
    },
    {
      "cell_type": "markdown",
      "metadata": {
        "id": "6OOdGv9PH78l"
      },
      "source": [
        "> **ndmin:** ndim attribute returns an integer that tells us how many dimensions the array have."
      ]
    },
    {
      "cell_type": "code",
      "execution_count": 9,
      "metadata": {
        "colab": {
          "base_uri": "https://localhost:8080/",
          "height": 0
        },
        "id": "dxSb8JgbH78m",
        "outputId": "59bead8f-8e5b-433c-dc9b-3e42a2365ca3"
      },
      "outputs": [
        {
          "output_type": "stream",
          "name": "stdout",
          "text": [
            "0\n",
            "1\n",
            "2\n",
            "3\n"
          ]
        }
      ],
      "source": [
        "a = np.array(42)\n",
        "b = np.array([1, 2, 3, 4, 5])\n",
        "c = np.array([[1, 2, 3], [4, 5, 6]])\n",
        "d = np.array([[[1, 2, 3], [4, 5, 6]], [[1, 2, 3], [4, 5, 6]]])\n",
        "\n",
        "print(a.ndim)\n",
        "print(b.ndim)\n",
        "print(c.ndim)\n",
        "print(d.ndim)"
      ]
    },
    {
      "cell_type": "markdown",
      "metadata": {
        "id": "oN_1gPXwH78m"
      },
      "source": [
        "> **shape:** Return shape - (row, col) of the array."
      ]
    },
    {
      "cell_type": "code",
      "execution_count": 10,
      "metadata": {
        "colab": {
          "base_uri": "https://localhost:8080/",
          "height": 0
        },
        "id": "qwG50-CQH78m",
        "outputId": "6d37a69b-3f76-454e-a81f-7ece21db61e1"
      },
      "outputs": [
        {
          "output_type": "stream",
          "name": "stdout",
          "text": [
            "()\n",
            "(5,)\n",
            "(2, 3)\n",
            "(2, 2, 3)\n"
          ]
        }
      ],
      "source": [
        "a = np.array(42)\n",
        "b = np.array([1, 2, 3, 4, 5])\n",
        "c = np.array([[1, 2, 3], [4, 5, 6]])\n",
        "d = np.array([[[1, 2, 3], [4, 5, 6]], [[1, 2, 3], [4, 5, 6]]])\n",
        "\n",
        "print(a.shape)\n",
        "print(b.shape)\n",
        "print(c.shape)\n",
        "print(d.shape)"
      ]
    },
    {
      "cell_type": "markdown",
      "metadata": {
        "id": "kliW8Va1H78n"
      },
      "source": [
        "> **size:** Return total number of elements in array = (row*col)"
      ]
    },
    {
      "cell_type": "code",
      "execution_count": 11,
      "metadata": {
        "colab": {
          "base_uri": "https://localhost:8080/",
          "height": 0
        },
        "id": "HT8isd4-H78n",
        "outputId": "1ef023d0-6112-4ff0-c295-0745c95ae964"
      },
      "outputs": [
        {
          "output_type": "stream",
          "name": "stdout",
          "text": [
            "1\n",
            "5\n",
            "6\n",
            "12\n"
          ]
        }
      ],
      "source": [
        "a = np.array(42)\n",
        "b = np.array([1, 2, 3, 4, 5])\n",
        "c = np.array([[1, 2, 3], [4, 5, 6]])\n",
        "d = np.array([[[1, 2, 3], [4, 5, 6]], [[1, 2, 3], [4, 5, 6]]])\n",
        "\n",
        "print(a.size)\n",
        "print(b.size)\n",
        "print(c.size)\n",
        "print(d.size)"
      ]
    },
    {
      "cell_type": "markdown",
      "metadata": {
        "id": "uHnQNHmgH78n"
      },
      "source": [
        "# **Access Array Elements**\n",
        "\n",
        "----"
      ]
    },
    {
      "cell_type": "markdown",
      "metadata": {
        "id": "jbgNW5DuH78n"
      },
      "source": [
        "> **Iterating Arrays Using nditer():**\n",
        "\n",
        "* Makes easy to iterate through each Scalar Element in the array, even for complex dimensions as well."
      ]
    },
    {
      "cell_type": "code",
      "execution_count": 12,
      "metadata": {
        "colab": {
          "base_uri": "https://localhost:8080/",
          "height": 0
        },
        "id": "d7kGbfvvH78o",
        "outputId": "1a1bc414-e96b-4513-8a4a-8469af9a86e1"
      },
      "outputs": [
        {
          "output_type": "stream",
          "name": "stdout",
          "text": [
            "1\n",
            "2\n",
            "3\n",
            "4\n",
            "5\n",
            "6\n",
            "7\n",
            "8\n"
          ]
        }
      ],
      "source": [
        "arr = np.array([[[1, 2], [3, 4]], [[5, 6], [7, 8]]])\n",
        "\n",
        "for x in np.nditer(arr):\n",
        "  print(x)"
      ]
    },
    {
      "cell_type": "markdown",
      "metadata": {
        "id": "bzWYpjA1H78o"
      },
      "source": [
        "> **Iterating With Different Step Size:**"
      ]
    },
    {
      "cell_type": "code",
      "execution_count": 13,
      "metadata": {
        "colab": {
          "base_uri": "https://localhost:8080/",
          "height": 0
        },
        "id": "Prld7YJhH78o",
        "outputId": "be0a58b9-bc07-47b1-eea1-77f76f672635"
      },
      "outputs": [
        {
          "output_type": "stream",
          "name": "stdout",
          "text": [
            "1\n",
            "3\n",
            "5\n",
            "7\n"
          ]
        }
      ],
      "source": [
        "arr = np.array([[1, 2, 3, 4], [5, 6, 7, 8]])\n",
        "\n",
        "for x in np.nditer(arr[:, ::2]):\n",
        "  print(x)"
      ]
    },
    {
      "cell_type": "markdown",
      "metadata": {
        "id": "XRYo3_F8H78o"
      },
      "source": [
        "> **Enumerated Iteration Using ndenumerate()**\n",
        "\n",
        "* Enumeration means mentioning sequence number of somethings one by one.\n",
        "\n",
        "* Sometimes we require corresponding index of the element while iterating, the **ndenumerate()** method can be used for those usecases."
      ]
    },
    {
      "cell_type": "code",
      "execution_count": 14,
      "metadata": {
        "colab": {
          "base_uri": "https://localhost:8080/",
          "height": 0
        },
        "id": "vnC5O5mdH78o",
        "outputId": "e10d90e8-9fc8-4c2c-90ea-dced49d3f2b4"
      },
      "outputs": [
        {
          "output_type": "stream",
          "name": "stdout",
          "text": [
            "(0,) 1\n",
            "(1,) 2\n",
            "(2,) 3\n"
          ]
        }
      ],
      "source": [
        "arr = np.array([1, 2, 3])\n",
        "\n",
        "for idx, x in np.ndenumerate(arr):\n",
        "  print(idx, x)"
      ]
    },
    {
      "cell_type": "markdown",
      "metadata": {
        "id": "HA__1ESFH78p"
      },
      "source": [
        "# **1. Array Indexing**"
      ]
    },
    {
      "cell_type": "markdown",
      "metadata": {
        "id": "d5_Xzq9GH78p"
      },
      "source": [
        "> **1-D Array Indexing:**\n",
        "\n",
        "* The indexes in NumPy arrays start with 0, meaning that the first element has index 0, and the second has index 1 etc."
      ]
    },
    {
      "cell_type": "code",
      "execution_count": 15,
      "metadata": {
        "colab": {
          "base_uri": "https://localhost:8080/",
          "height": 0
        },
        "id": "MZd1jx-3H78p",
        "outputId": "ae04d214-5e42-42c4-dbae-6990bb44aad2"
      },
      "outputs": [
        {
          "output_type": "stream",
          "name": "stdout",
          "text": [
            "1\n"
          ]
        }
      ],
      "source": [
        "arr = np.array([1, 2, 3, 4])\n",
        "\n",
        "print(arr[0])"
      ]
    },
    {
      "cell_type": "markdown",
      "metadata": {
        "id": "VD8hNQ6PH78p"
      },
      "source": [
        "> **2-D Array Indexing:**\n",
        "\n",
        "* To access elements from 2-D arrays we can use comma separated integers representing the dimension and the index of the element.\n",
        "\n",
        "* Think of 2-D arrays like a table with rows and columns, where the dimension represents the row and the index represents the column."
      ]
    },
    {
      "cell_type": "code",
      "execution_count": 16,
      "metadata": {
        "colab": {
          "base_uri": "https://localhost:8080/",
          "height": 0
        },
        "id": "EIwiGRRJH78p",
        "outputId": "ce89ec58-31ac-4840-9cdb-07809e32dd5e"
      },
      "outputs": [
        {
          "output_type": "stream",
          "name": "stdout",
          "text": [
            "2nd element on 1st row:  2\n"
          ]
        }
      ],
      "source": [
        "arr = np.array([[1,2,3,4,5], [6,7,8,9,10]])\n",
        "\n",
        "print('2nd element on 1st row: ', arr[0, 1])"
      ]
    },
    {
      "cell_type": "markdown",
      "metadata": {
        "id": "oUcaPwq0H78p"
      },
      "source": [
        "> **3-D Array Indexing:**\n",
        "\n",
        "* To access elements from 3-D arrays we can use comma separated integers representing the dimensions and the index of the element."
      ]
    },
    {
      "cell_type": "code",
      "execution_count": 17,
      "metadata": {
        "colab": {
          "base_uri": "https://localhost:8080/",
          "height": 0
        },
        "id": "wYfDpkYPH78q",
        "outputId": "42ab9cbb-7a12-4877-8dbc-0053f92a48ea"
      },
      "outputs": [
        {
          "output_type": "stream",
          "name": "stdout",
          "text": [
            "6\n"
          ]
        }
      ],
      "source": [
        "arr = np.array([[[1, 2, 3], [4, 5, 6]], [[7, 8, 9], [10, 11, 12]]])\n",
        "\n",
        "print(arr[0, 1, 2])"
      ]
    },
    {
      "cell_type": "markdown",
      "metadata": {
        "id": "4OH-9FWZH78v"
      },
      "source": [
        "> **Negative Indexing:**\n",
        "\n",
        "* Use negative indexing to access an array from the end."
      ]
    },
    {
      "cell_type": "code",
      "execution_count": 18,
      "metadata": {
        "colab": {
          "base_uri": "https://localhost:8080/",
          "height": 0
        },
        "id": "VM2HWHD0H78w",
        "outputId": "0bf4643b-f2bb-4e70-cfce-dbab2c78582c"
      },
      "outputs": [
        {
          "output_type": "stream",
          "name": "stdout",
          "text": [
            "Last element from 2nd dim:  10\n"
          ]
        }
      ],
      "source": [
        "arr = np.array([[1,2,3,4,5], [6,7,8,9,10]])\n",
        "\n",
        "print('Last element from 2nd dim: ', arr[1, -1])"
      ]
    },
    {
      "cell_type": "markdown",
      "metadata": {
        "id": "iApfYw0RH78w"
      },
      "source": [
        "# **2. Array Slicing**"
      ]
    },
    {
      "cell_type": "markdown",
      "metadata": {
        "id": "pombiQjPH78w"
      },
      "source": [
        "* Slicing in python means taking elements from one given index to another given index.\n",
        "\n",
        "* We pass slice instead of index like this: [start:end].\n",
        "\n",
        "* We can also define the step, like this: [start:end:step].\n",
        "\n",
        "* If start is not given, its considered 0.\n",
        "\n",
        "* If end its is not given, considered length of array in that dimension.\n",
        "\n",
        "* If step is not given, its considered 1."
      ]
    },
    {
      "cell_type": "code",
      "execution_count": 19,
      "metadata": {
        "colab": {
          "base_uri": "https://localhost:8080/",
          "height": 0
        },
        "id": "o302eW78H78w",
        "outputId": "548ec275-b736-4e8a-d023-2c16db88425a"
      },
      "outputs": [
        {
          "output_type": "stream",
          "name": "stdout",
          "text": [
            "[2 3 4 5]\n",
            "[5 6 7]\n",
            "[1 2 3 4]\n"
          ]
        }
      ],
      "source": [
        "arr = np.array([1, 2, 3, 4, 5, 6, 7])\n",
        "\n",
        "print(arr[1:5])\n",
        "print(arr[4:])\n",
        "print(arr[:4])"
      ]
    },
    {
      "cell_type": "markdown",
      "metadata": {
        "id": "Fbp5B3ueH78w"
      },
      "source": [
        "> **Note:** The result includes the start index, but excludes the end index."
      ]
    },
    {
      "cell_type": "markdown",
      "metadata": {
        "id": "PYWYk6a6H78x"
      },
      "source": [
        "> **Negative Slicing:**"
      ]
    },
    {
      "cell_type": "code",
      "execution_count": 20,
      "metadata": {
        "colab": {
          "base_uri": "https://localhost:8080/",
          "height": 0
        },
        "id": "-ADwswbWH78x",
        "outputId": "4bde32e6-0510-4457-f24c-69994aeb7b87"
      },
      "outputs": [
        {
          "output_type": "stream",
          "name": "stdout",
          "text": [
            "[5 6]\n"
          ]
        }
      ],
      "source": [
        "arr = np.array([1, 2, 3, 4, 5, 6, 7])\n",
        "\n",
        "print(arr[-3:-1])"
      ]
    },
    {
      "cell_type": "markdown",
      "metadata": {
        "id": "0D7E180-H78x"
      },
      "source": [
        "> **Slicing 2-D Arrays:** Slices or indices are separated by comma."
      ]
    },
    {
      "cell_type": "code",
      "execution_count": 21,
      "metadata": {
        "colab": {
          "base_uri": "https://localhost:8080/",
          "height": 0
        },
        "id": "P1mfbr6EH78x",
        "outputId": "f54cc8d3-a8f8-435d-82c4-c4276b0b7c1a"
      },
      "outputs": [
        {
          "output_type": "stream",
          "name": "stdout",
          "text": [
            "[7 8 9]\n",
            "[3 8]\n",
            "[[2 3 4]\n",
            " [7 8 9]]\n"
          ]
        }
      ],
      "source": [
        "arr = np.array([[1, 2, 3, 4, 5], [6, 7, 8, 9, 10]])\n",
        "\n",
        "print(arr[1, 1:4])\n",
        "print(arr[0:2, 2])\n",
        "print(arr[0:2, 1:4])"
      ]
    },
    {
      "cell_type": "markdown",
      "metadata": {
        "id": "3sVC3czrH78y"
      },
      "source": [
        "# **Array Creation using NumPy Functions:**"
      ]
    },
    {
      "cell_type": "markdown",
      "metadata": {
        "id": "RueVqQV5H78y"
      },
      "source": [
        "> **1. zeros:** Create array with all elements 0, with given dimensions."
      ]
    },
    {
      "cell_type": "code",
      "execution_count": 22,
      "metadata": {
        "colab": {
          "base_uri": "https://localhost:8080/",
          "height": 0
        },
        "id": "bpPlyUr3H78y",
        "outputId": "85f53012-4a16-4045-ebdc-108a95980585"
      },
      "outputs": [
        {
          "output_type": "stream",
          "name": "stdout",
          "text": [
            "[[0 0 0 0]\n",
            " [0 0 0 0]\n",
            " [0 0 0 0]\n",
            " [0 0 0 0]\n",
            " [0 0 0 0]]\n"
          ]
        }
      ],
      "source": [
        "a = np.zeros((5,4), dtype=int)\n",
        "print(a)"
      ]
    },
    {
      "cell_type": "markdown",
      "metadata": {
        "id": "87VKYKVFH78y"
      },
      "source": [
        "> **2. ones:** Create array with all elements 1, with given dimensions."
      ]
    },
    {
      "cell_type": "code",
      "execution_count": 23,
      "metadata": {
        "colab": {
          "base_uri": "https://localhost:8080/",
          "height": 0
        },
        "id": "QyGLF9EvH78z",
        "outputId": "6aed4711-d701-47fe-c407-b1208f2d51de"
      },
      "outputs": [
        {
          "output_type": "stream",
          "name": "stdout",
          "text": [
            "[[1 1 1 1]\n",
            " [1 1 1 1]\n",
            " [1 1 1 1]\n",
            " [1 1 1 1]\n",
            " [1 1 1 1]]\n"
          ]
        }
      ],
      "source": [
        "a = np.ones((5,4), dtype=int)\n",
        "print(a)"
      ]
    },
    {
      "cell_type": "markdown",
      "metadata": {
        "id": "wenITJlFH78z"
      },
      "source": [
        "> **3. arange() Function:** Create a sequence of number using arange() function."
      ]
    },
    {
      "cell_type": "code",
      "execution_count": 24,
      "metadata": {
        "colab": {
          "base_uri": "https://localhost:8080/",
          "height": 0
        },
        "id": "7CnzvImVH78z",
        "outputId": "6bad7d66-cc92-4b6f-9680-37211066605e"
      },
      "outputs": [
        {
          "output_type": "stream",
          "name": "stdout",
          "text": [
            "[0 1 2 3 4 5 6 7 8 9]\n",
            "[11. 12. 13. 14. 15. 16. 17. 18. 19. 20.]\n"
          ]
        }
      ],
      "source": [
        "a = np.arange(10)\n",
        "print(a)\n",
        "\n",
        "b = np.arange(11,21,dtype='f')\n",
        "print(b)"
      ]
    },
    {
      "cell_type": "markdown",
      "metadata": {
        "id": "HBF6m8b2H78z"
      },
      "source": [
        "> **4. linspace:** Create 1-D array of linear space numbers / values, by default 50 linspace."
      ]
    },
    {
      "cell_type": "code",
      "execution_count": 25,
      "metadata": {
        "colab": {
          "base_uri": "https://localhost:8080/",
          "height": 0
        },
        "id": "qD5exFfYH78z",
        "outputId": "d2ffb67e-0d99-472b-fe7b-c0d34c10c781"
      },
      "outputs": [
        {
          "output_type": "stream",
          "name": "stdout",
          "text": [
            "[3.         3.04081633 3.08163265 3.12244898 3.16326531 3.20408163\n",
            " 3.24489796 3.28571429 3.32653061 3.36734694 3.40816327 3.44897959\n",
            " 3.48979592 3.53061224 3.57142857 3.6122449  3.65306122 3.69387755\n",
            " 3.73469388 3.7755102  3.81632653 3.85714286 3.89795918 3.93877551\n",
            " 3.97959184 4.02040816 4.06122449 4.10204082 4.14285714 4.18367347\n",
            " 4.2244898  4.26530612 4.30612245 4.34693878 4.3877551  4.42857143\n",
            " 4.46938776 4.51020408 4.55102041 4.59183673 4.63265306 4.67346939\n",
            " 4.71428571 4.75510204 4.79591837 4.83673469 4.87755102 4.91836735\n",
            " 4.95918367 5.        ]\n",
            "[5.         4.93877551 4.87755102 4.81632653 4.75510204 4.69387755\n",
            " 4.63265306 4.57142857 4.51020408 4.44897959 4.3877551  4.32653061\n",
            " 4.26530612 4.20408163 4.14285714 4.08163265 4.02040816 3.95918367\n",
            " 3.89795918 3.83673469 3.7755102  3.71428571 3.65306122 3.59183673\n",
            " 3.53061224 3.46938776 3.40816327 3.34693878 3.28571429 3.2244898\n",
            " 3.16326531 3.10204082 3.04081633 2.97959184 2.91836735 2.85714286\n",
            " 2.79591837 2.73469388 2.67346939 2.6122449  2.55102041 2.48979592\n",
            " 2.42857143 2.36734694 2.30612245 2.24489796 2.18367347 2.12244898\n",
            " 2.06122449 2.        ]\n",
            "(array([5.        , 4.93877551, 4.87755102, 4.81632653, 4.75510204,\n",
            "       4.69387755, 4.63265306, 4.57142857, 4.51020408, 4.44897959,\n",
            "       4.3877551 , 4.32653061, 4.26530612, 4.20408163, 4.14285714,\n",
            "       4.08163265, 4.02040816, 3.95918367, 3.89795918, 3.83673469,\n",
            "       3.7755102 , 3.71428571, 3.65306122, 3.59183673, 3.53061224,\n",
            "       3.46938776, 3.40816327, 3.34693878, 3.28571429, 3.2244898 ,\n",
            "       3.16326531, 3.10204082, 3.04081633, 2.97959184, 2.91836735,\n",
            "       2.85714286, 2.79591837, 2.73469388, 2.67346939, 2.6122449 ,\n",
            "       2.55102041, 2.48979592, 2.42857143, 2.36734694, 2.30612245,\n",
            "       2.24489796, 2.18367347, 2.12244898, 2.06122449, 2.        ]), -0.061224489795918366)\n"
          ]
        }
      ],
      "source": [
        "p = np.linspace(3,5)\n",
        "print(p)\n",
        "\n",
        "q = np.linspace(5,2)\n",
        "print(q)\n",
        "\n",
        "q = np.linspace(5,2,retstep=True)\n",
        "print(q)"
      ]
    },
    {
      "cell_type": "markdown",
      "metadata": {
        "id": "ycVBEZGRH780"
      },
      "source": [
        "> **5. eye:** Return an 2-D array with 1's at diagonals and 0 elsewhere.\n",
        "\n",
        "* **Syntax -** np.eye(R, C=None, k=0, dtype=?)\n",
        "  * **R -** Number of Rows.\n",
        "  * **C -** [Optional] Number of columns, by default, rows=cols."
      ]
    },
    {
      "cell_type": "code",
      "execution_count": 26,
      "metadata": {
        "colab": {
          "base_uri": "https://localhost:8080/",
          "height": 0
        },
        "id": "mR7KBeOZH780",
        "outputId": "1572bfc9-5bcd-4f76-ab1d-be6fb8467a5b"
      },
      "outputs": [
        {
          "output_type": "stream",
          "name": "stdout",
          "text": [
            "[[1. 0. 0. 0.]\n",
            " [0. 1. 0. 0.]\n",
            " [0. 0. 1. 0.]\n",
            " [0. 0. 0. 1.]]\n",
            "[[1. 0. 0.]\n",
            " [0. 1. 0.]\n",
            " [0. 0. 1.]\n",
            " [0. 0. 0.]]\n"
          ]
        }
      ],
      "source": [
        "e = np.eye(4)\n",
        "print(e)\n",
        "\n",
        "e = np.eye(4,3)\n",
        "print(e)"
      ]
    },
    {
      "cell_type": "markdown",
      "metadata": {
        "id": "BgVgPkbQH780"
      },
      "source": [
        "> **6. identity:** Same as eye(), but take only one argument. So, row=col."
      ]
    },
    {
      "cell_type": "code",
      "execution_count": 27,
      "metadata": {
        "colab": {
          "base_uri": "https://localhost:8080/",
          "height": 0
        },
        "id": "rsFHHie-H780",
        "outputId": "ea194bce-91d0-4f01-d650-0d21361c5424"
      },
      "outputs": [
        {
          "output_type": "stream",
          "name": "stdout",
          "text": [
            "[[1 0 0 0 0]\n",
            " [0 1 0 0 0]\n",
            " [0 0 1 0 0]\n",
            " [0 0 0 1 0]\n",
            " [0 0 0 0 1]]\n"
          ]
        }
      ],
      "source": [
        "d = np.identity(5, dtype='i')\n",
        "print(d)"
      ]
    },
    {
      "cell_type": "markdown",
      "metadata": {
        "id": "gH7s0h2VH780"
      },
      "source": [
        "> **7. fromiter:** This routine is used to create a ndarray by using an iterable object. It returns a one-dimensional ndarray object."
      ]
    },
    {
      "cell_type": "code",
      "execution_count": 28,
      "metadata": {
        "colab": {
          "base_uri": "https://localhost:8080/",
          "height": 0
        },
        "id": "doR1w0puH781",
        "outputId": "dcf8fecd-4cdf-4b97-f52b-399f932f2492"
      },
      "outputs": [
        {
          "output_type": "stream",
          "name": "stdout",
          "text": [
            "[0. 2. 4. 6.]\n",
            "<class 'numpy.ndarray'>\n"
          ]
        }
      ],
      "source": [
        "list = [0,2,4,6]\n",
        "it = iter(list)\n",
        "x = np.fromiter(it, dtype = float)\n",
        "print(x)\n",
        "print(type(x))"
      ]
    },
    {
      "cell_type": "markdown",
      "metadata": {
        "id": "75bM6K0QH787"
      },
      "source": [
        "# **NumPy Function**"
      ]
    },
    {
      "cell_type": "markdown",
      "metadata": {
        "id": "iwyTbcPsH788"
      },
      "source": [
        "> **insert():**\n",
        "* Insert values at given place.\n",
        "* changes are not permanent, need another values to store changes.\n"
      ]
    },
    {
      "cell_type": "code",
      "execution_count": 29,
      "metadata": {
        "colab": {
          "base_uri": "https://localhost:8080/",
          "height": 0
        },
        "id": "Q_eaARisH788",
        "outputId": "283ef617-5717-4c3f-d054-d17f306c9b1c"
      },
      "outputs": [
        {
          "output_type": "stream",
          "name": "stdout",
          "text": [
            "[  1   2 100   3   4   5]\n"
          ]
        }
      ],
      "source": [
        "a = np.array([1,2,3,4,5])\n",
        "a = np.insert(a, 2, 100)\n",
        "print(a)"
      ]
    },
    {
      "cell_type": "markdown",
      "metadata": {
        "id": "ufSCFoeFH789"
      },
      "source": [
        "> **append():**\n",
        "* Insert value at the end of the array"
      ]
    },
    {
      "cell_type": "code",
      "execution_count": 30,
      "metadata": {
        "colab": {
          "base_uri": "https://localhost:8080/",
          "height": 0
        },
        "id": "xBXThzBVH789",
        "outputId": "17c95d43-7296-4e09-e907-096a8a8d4e64"
      },
      "outputs": [
        {
          "output_type": "stream",
          "name": "stdout",
          "text": [
            "[  1   2   3   4   5 200]\n"
          ]
        }
      ],
      "source": [
        "a = np.array([1,2,3,4,5])\n",
        "a = np.append(a, 200)\n",
        "print(a)"
      ]
    },
    {
      "cell_type": "markdown",
      "metadata": {
        "id": "t2mm0zuuH78-"
      },
      "source": [
        "> **ceil():**\n",
        "* Yield closest upper int value to the given float number."
      ]
    },
    {
      "cell_type": "code",
      "execution_count": 31,
      "metadata": {
        "colab": {
          "base_uri": "https://localhost:8080/",
          "height": 0
        },
        "id": "ASy_XVQ-H78-",
        "outputId": "c5a68621-4197-483d-b104-b68c2e32f6d8"
      },
      "outputs": [
        {
          "output_type": "stream",
          "name": "stdout",
          "text": [
            "[ 2.  6. 10.  6. 13.]\n"
          ]
        }
      ],
      "source": [
        "a = np.array([1.2, 5.8, 9.4, 5.8, 12.5])\n",
        "a = np.ceil(a)\n",
        "print(a)"
      ]
    },
    {
      "cell_type": "markdown",
      "metadata": {
        "id": "AenfYH7WH78-"
      },
      "source": [
        "> **floor():**\n",
        "* Yield closest lower int value to the given float number."
      ]
    },
    {
      "cell_type": "code",
      "execution_count": 32,
      "metadata": {
        "colab": {
          "base_uri": "https://localhost:8080/",
          "height": 0
        },
        "id": "ZUnI6WVsH78-",
        "outputId": "2fcfcfa9-553a-49d3-ec65-d06c09bcc314"
      },
      "outputs": [
        {
          "output_type": "stream",
          "name": "stdout",
          "text": [
            "[ 1.  5.  9.  5. 12.]\n"
          ]
        }
      ],
      "source": [
        "a = np.array([1.2, 5.8, 9.4, 5.8, 12.5])\n",
        "a = np.floor(a)\n",
        "print(a)"
      ]
    },
    {
      "cell_type": "markdown",
      "metadata": {
        "id": "C6C5V7muH78_"
      },
      "source": [
        "> **around():**\n",
        "* Yield closest upper int value for values having decimal point>.5 and lower for point<0.5, for the given float number."
      ]
    },
    {
      "cell_type": "code",
      "execution_count": 33,
      "metadata": {
        "colab": {
          "base_uri": "https://localhost:8080/",
          "height": 0
        },
        "id": "WJp0ooUtH78_",
        "outputId": "70ec0b11-6743-4278-fbcc-43487bf383a4"
      },
      "outputs": [
        {
          "output_type": "stream",
          "name": "stdout",
          "text": [
            "[ 1.  6.  9.  6. 12.]\n"
          ]
        }
      ],
      "source": [
        "a = np.array([1.2, 5.8, 9.4, 5.8, 12.5])\n",
        "a = np.around(a)\n",
        "print(a)"
      ]
    },
    {
      "cell_type": "markdown",
      "metadata": {
        "id": "PMT6Jh5XH78_"
      },
      "source": [
        "> **argmax():** Return index of the max element in the array,"
      ]
    },
    {
      "cell_type": "code",
      "execution_count": 34,
      "metadata": {
        "colab": {
          "base_uri": "https://localhost:8080/",
          "height": 0
        },
        "id": "9uke41l_H78_",
        "outputId": "ee38066b-36fb-48a1-f995-abeca552e65b"
      },
      "outputs": [
        {
          "output_type": "stream",
          "name": "stdout",
          "text": [
            "4\n"
          ]
        }
      ],
      "source": [
        "a = np.array([1.2, 5.8, 9.4, 5.8, 12.5])\n",
        "print(np.argmax(a))"
      ]
    },
    {
      "cell_type": "markdown",
      "metadata": {
        "id": "EOjD1b4wH78_"
      },
      "source": [
        "> **argmin():** Return index of the min element in the array."
      ]
    },
    {
      "cell_type": "code",
      "execution_count": 35,
      "metadata": {
        "colab": {
          "base_uri": "https://localhost:8080/",
          "height": 0
        },
        "id": "PXJ3rmM2H79A",
        "outputId": "6c928cf6-b11b-40c7-afaf-1ff94777868e"
      },
      "outputs": [
        {
          "output_type": "stream",
          "name": "stdout",
          "text": [
            "0\n"
          ]
        }
      ],
      "source": [
        "a = np.array([1.2, 5.8, 9.4, 5.8, 12.5])\n",
        "print(np.argmin(a))"
      ]
    },
    {
      "cell_type": "markdown",
      "metadata": {
        "id": "s7qgXM6kH79A"
      },
      "source": [
        "> **where():**\n",
        "* Returns indices of values, for which the given condition is satisfied.\n",
        "* **Syntax -** np.where(condition, True(Replace with this value), False(Replace with this value))"
      ]
    },
    {
      "cell_type": "code",
      "execution_count": 36,
      "metadata": {
        "colab": {
          "base_uri": "https://localhost:8080/",
          "height": 0
        },
        "id": "mQTjWKUpH79A",
        "outputId": "928abbb6-42b4-49f8-e648-97cf93a03b90"
      },
      "outputs": [
        {
          "output_type": "stream",
          "name": "stdout",
          "text": [
            "(array([1, 2, 3, 4]),)\n",
            "[ 0 10 10 10 10  0]\n"
          ]
        }
      ],
      "source": [
        "a = np.array([1.2, 5.8, 9.4, 5.8, 12.5, 4.8])\n",
        "print(np.where(a>5))\n",
        "\n",
        "print(np.where(a>5, 10, 0))"
      ]
    },
    {
      "cell_type": "markdown",
      "metadata": {
        "id": "EV_4iyRqH79A"
      },
      "source": [
        "> **size():** Return size of the array."
      ]
    },
    {
      "cell_type": "code",
      "execution_count": 37,
      "metadata": {
        "colab": {
          "base_uri": "https://localhost:8080/",
          "height": 0
        },
        "id": "PBNb7UIJH79A",
        "outputId": "a13fdd20-eda9-4723-a51a-9bf1e5414e61"
      },
      "outputs": [
        {
          "output_type": "stream",
          "name": "stdout",
          "text": [
            "6\n"
          ]
        }
      ],
      "source": [
        "a = np.array([1.2, 5.8, 9.4, 5.8, 12.5, 4.8])\n",
        "print(np.size(a))"
      ]
    },
    {
      "cell_type": "markdown",
      "metadata": {
        "id": "QuNLaJ7KH79D"
      },
      "source": [
        "# **NumPy Array Copy vs View**"
      ]
    },
    {
      "cell_type": "markdown",
      "metadata": {
        "id": "M8ti64HGH79D"
      },
      "source": [
        "* The main difference between a copy and a view of an array is that the copy is a new array, and the view is just a view of the original array.\n",
        "\n",
        "* The copy owns the data and any changes made to the copy will not affect original array, and any changes made to the original array will not affect the copy.\n",
        "\n",
        "* The view does not own the data and any changes made to the view will affect the original array, and any changes made to the original array will affect the view."
      ]
    },
    {
      "cell_type": "markdown",
      "metadata": {
        "id": "Q2BSf8KZH79D"
      },
      "source": [
        "> **copy():**"
      ]
    },
    {
      "cell_type": "code",
      "execution_count": 38,
      "metadata": {
        "colab": {
          "base_uri": "https://localhost:8080/",
          "height": 0
        },
        "id": "PR5vSx9lH79E",
        "outputId": "489d4a6a-1d5a-4652-ca4b-f9cd20457cbd"
      },
      "outputs": [
        {
          "output_type": "stream",
          "name": "stdout",
          "text": [
            "[42  2  3  4  5]\n",
            "[1 2 3 4 5]\n"
          ]
        }
      ],
      "source": [
        "arr = np.array([1, 2, 3, 4, 5])\n",
        "x = arr.copy()\n",
        "arr[0] = 42\n",
        "\n",
        "print(arr)\n",
        "print(x)"
      ]
    },
    {
      "cell_type": "markdown",
      "metadata": {
        "id": "qTDtJEfsH79E"
      },
      "source": [
        "> **view():**"
      ]
    },
    {
      "cell_type": "code",
      "execution_count": 39,
      "metadata": {
        "colab": {
          "base_uri": "https://localhost:8080/",
          "height": 0
        },
        "id": "dIXKNRZmH79E",
        "outputId": "57869ae2-1bbd-41b1-9fba-5fe7c473c6b0"
      },
      "outputs": [
        {
          "output_type": "stream",
          "name": "stdout",
          "text": [
            "[42  2  3  4  5]\n",
            "[42  2  3  4  5]\n"
          ]
        }
      ],
      "source": [
        "arr = np.array([1, 2, 3, 4, 5])\n",
        "x = arr.view()\n",
        "arr[0] = 42\n",
        "\n",
        "print(arr)\n",
        "print(x)"
      ]
    },
    {
      "cell_type": "markdown",
      "metadata": {
        "id": "7SefEO4hH79E"
      },
      "source": [
        "> **Check if Array Owns its Data:**\n",
        "\n",
        "* Copies owns the data, and views does not own the data.\n",
        "\n",
        "* Every NumPy array has the attribute base that returns None if the array owns the data.\n",
        "\n",
        "* Otherwise, the base  attribute refers to the original object."
      ]
    },
    {
      "cell_type": "markdown",
      "metadata": {
        "id": "iX5LkeCGH79E"
      },
      "source": [
        "* The copy returns **None**.\n",
        "\n",
        "* The view returns the **original array**."
      ]
    },
    {
      "cell_type": "code",
      "execution_count": 40,
      "metadata": {
        "colab": {
          "base_uri": "https://localhost:8080/",
          "height": 0
        },
        "id": "O44FsAquH79F",
        "outputId": "c6e7d5b3-d556-4397-994d-b65a11010569"
      },
      "outputs": [
        {
          "output_type": "stream",
          "name": "stdout",
          "text": [
            "None\n",
            "[1 2 3 4 5]\n"
          ]
        }
      ],
      "source": [
        "arr = np.array([1, 2, 3, 4, 5])\n",
        "\n",
        "x = arr.copy()\n",
        "y = arr.view()\n",
        "\n",
        "print(x.base)\n",
        "print(y.base)"
      ]
    },
    {
      "cell_type": "markdown",
      "metadata": {
        "id": "o9jkI5OnH79F"
      },
      "source": [
        "# **NumPy Joining Array**"
      ]
    },
    {
      "cell_type": "markdown",
      "metadata": {
        "id": "0yz7Qdc8H79F"
      },
      "source": [
        "> **Joining NumPy Arrays:**\n",
        "\n",
        "* Joining means merging values of two or more arrays in a single array.\n",
        "\n",
        "* We pass a sequence of arrays that we want to join to the concatenate() function, along with the axis. If axis is not explicitly passed, it is taken as 0."
      ]
    },
    {
      "cell_type": "markdown",
      "metadata": {
        "id": "lwNaaPrXH79F"
      },
      "source": [
        "> **Join row-wise:**"
      ]
    },
    {
      "cell_type": "code",
      "execution_count": 41,
      "metadata": {
        "colab": {
          "base_uri": "https://localhost:8080/",
          "height": 0
        },
        "id": "jomigQ8aH79F",
        "outputId": "b36a8154-68ea-4256-e7c7-47987cbbfb86"
      },
      "outputs": [
        {
          "output_type": "stream",
          "name": "stdout",
          "text": [
            "[1 2 3 4 5 6]\n"
          ]
        }
      ],
      "source": [
        "arr1 = np.array([1, 2, 3])\n",
        "arr2 = np.array([4, 5, 6])\n",
        "\n",
        "arr = np.concatenate((arr1, arr2), axis=0)\n",
        "\n",
        "print(arr)"
      ]
    },
    {
      "cell_type": "markdown",
      "metadata": {
        "id": "c5p2RcLrH79G"
      },
      "source": [
        "> **Join col-wise:**"
      ]
    },
    {
      "cell_type": "code",
      "execution_count": 42,
      "metadata": {
        "colab": {
          "base_uri": "https://localhost:8080/",
          "height": 0
        },
        "id": "QkCkE4JKH79G",
        "outputId": "bac49138-e033-465b-ff0f-907a1464e85d"
      },
      "outputs": [
        {
          "output_type": "stream",
          "name": "stdout",
          "text": [
            "[[1 2 5 6]\n",
            " [3 4 7 8]]\n"
          ]
        }
      ],
      "source": [
        "arr1 = np.array([[1, 2], [3, 4]])\n",
        "arr2 = np.array([[5, 6], [7, 8]])\n",
        "\n",
        "arr = np.concatenate((arr1, arr2), axis=1)\n",
        "\n",
        "print(arr)"
      ]
    },
    {
      "cell_type": "markdown",
      "metadata": {
        "id": "NjOtBkaoH79G"
      },
      "source": [
        "> **Joining Arrays Using Stack Functions:**\n",
        "\n",
        "* Stacking is same as concatenation, the only difference is that stacking is done along a new axis.\n",
        "\n",
        "* We can concatenate two 1-D arrays along the second axis which would result in putting them one over the other, ie. stacking.\n",
        "\n",
        "* We pass a sequence of arrays that we want to join to the stack() method along with the axis. If axis is not explicitly passed it is taken as 0."
      ]
    },
    {
      "cell_type": "markdown",
      "metadata": {
        "id": "1dzzN4vxH79G"
      },
      "source": [
        "> **Row-wise Stacking:**"
      ]
    },
    {
      "cell_type": "code",
      "execution_count": 43,
      "metadata": {
        "colab": {
          "base_uri": "https://localhost:8080/",
          "height": 0
        },
        "id": "AdpmwJglH79G",
        "outputId": "3fa24387-c486-43e0-f601-73ac60521764"
      },
      "outputs": [
        {
          "output_type": "stream",
          "name": "stdout",
          "text": [
            "[[1 2 3]\n",
            " [4 5 6]]\n"
          ]
        }
      ],
      "source": [
        "arr1 = np.array([1, 2, 3])\n",
        "arr2 = np.array([4, 5, 6])\n",
        "arr = np.stack((arr1, arr2), axis=0)\n",
        "print(arr)"
      ]
    },
    {
      "cell_type": "markdown",
      "metadata": {
        "id": "W_FLdhMDH79H"
      },
      "source": [
        "> **Column-wise Stacking:**"
      ]
    },
    {
      "cell_type": "code",
      "execution_count": 44,
      "metadata": {
        "colab": {
          "base_uri": "https://localhost:8080/",
          "height": 0
        },
        "id": "F7hImJaNH79H",
        "outputId": "492e1967-2627-42a2-a1f2-7c989e858138"
      },
      "outputs": [
        {
          "output_type": "stream",
          "name": "stdout",
          "text": [
            "[[1 4]\n",
            " [2 5]\n",
            " [3 6]]\n"
          ]
        }
      ],
      "source": [
        "arr1 = np.array([1, 2, 3])\n",
        "arr2 = np.array([4, 5, 6])\n",
        "arr = np.stack((arr1, arr2), axis=1)\n",
        "print(arr)"
      ]
    },
    {
      "cell_type": "markdown",
      "metadata": {
        "id": "gCi_9qfCH79H"
      },
      "source": [
        "> **Stacking Along Rows:** NumPy provides a function: **hstack()** to stack along rows."
      ]
    },
    {
      "cell_type": "code",
      "execution_count": 45,
      "metadata": {
        "colab": {
          "base_uri": "https://localhost:8080/",
          "height": 0
        },
        "id": "4i5LZ-xhH79H",
        "outputId": "29f76862-9d4d-4c70-d30f-13fe666aba4c"
      },
      "outputs": [
        {
          "output_type": "stream",
          "name": "stdout",
          "text": [
            "[1 2 3 4 5 6]\n"
          ]
        }
      ],
      "source": [
        "arr1 = np.array([1, 2, 3])\n",
        "arr2 = np.array([4, 5, 6])\n",
        "arr = np.hstack((arr1, arr2))\n",
        "\n",
        "print(arr)"
      ]
    },
    {
      "cell_type": "markdown",
      "metadata": {
        "id": "QwMpumQsH79H"
      },
      "source": [
        "> **Stacking Along Columns:** NumPy provides a function: **vstack()** to stack along columns."
      ]
    },
    {
      "cell_type": "code",
      "execution_count": 46,
      "metadata": {
        "colab": {
          "base_uri": "https://localhost:8080/",
          "height": 0
        },
        "id": "HiX6cq9hH79H",
        "outputId": "bc0540d6-d01c-410e-baae-266be7af685b"
      },
      "outputs": [
        {
          "output_type": "stream",
          "name": "stdout",
          "text": [
            "[[1 2 3]\n",
            " [4 5 6]]\n"
          ]
        }
      ],
      "source": [
        "arr1 = np.array([1, 2, 3])\n",
        "arr2 = np.array([4, 5, 6])\n",
        "arr = np.vstack((arr1, arr2))\n",
        "\n",
        "print(arr)"
      ]
    },
    {
      "cell_type": "markdown",
      "metadata": {
        "id": "N49Qj3SMH79I"
      },
      "source": [
        "> **Stacking Along Height (depth):** NumPy provides a function: **dstack()** to stack along height, which is the same as depth."
      ]
    },
    {
      "cell_type": "code",
      "execution_count": 47,
      "metadata": {
        "colab": {
          "base_uri": "https://localhost:8080/",
          "height": 0
        },
        "id": "iyuve-JXH79I",
        "outputId": "ddcdb743-df20-4315-80a1-ccd229e4ee28"
      },
      "outputs": [
        {
          "output_type": "stream",
          "name": "stdout",
          "text": [
            "[[[1 4]\n",
            "  [2 5]\n",
            "  [3 6]]]\n"
          ]
        }
      ],
      "source": [
        "arr1 = np.array([1, 2, 3])\n",
        "arr2 = np.array([4, 5, 6])\n",
        "arr = np.dstack((arr1, arr2))\n",
        "\n",
        "print(arr)"
      ]
    }
  ],
  "metadata": {
    "kernelspec": {
      "display_name": "Python 3",
      "language": "python",
      "name": "python3"
    },
    "language_info": {
      "codemirror_mode": {
        "name": "ipython",
        "version": 3
      },
      "file_extension": ".py",
      "mimetype": "text/x-python",
      "name": "python",
      "nbconvert_exporter": "python",
      "pygments_lexer": "ipython3",
      "version": "3.11.3"
    },
    "orig_nbformat": 4,
    "colab": {
      "provenance": []
    }
  },
  "nbformat": 4,
  "nbformat_minor": 0
}