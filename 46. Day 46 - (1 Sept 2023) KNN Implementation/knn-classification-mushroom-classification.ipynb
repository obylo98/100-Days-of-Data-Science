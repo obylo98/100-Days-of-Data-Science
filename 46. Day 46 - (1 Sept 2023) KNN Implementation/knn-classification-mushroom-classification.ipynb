{
 "cells": [
  {
   "cell_type": "markdown",
   "id": "3167f84c",
   "metadata": {
    "papermill": {
     "duration": 0.012045,
     "end_time": "2023-08-31T05:54:29.846934",
     "exception": false,
     "start_time": "2023-08-31T05:54:29.834889",
     "status": "completed"
    },
    "tags": []
   },
   "source": [
    "# **Poisonous Mushroom Classification using KNN Classification**"
   ]
  },
  {
   "cell_type": "code",
   "execution_count": 1,
   "id": "81994486",
   "metadata": {
    "execution": {
     "iopub.execute_input": "2023-08-31T05:54:29.871527Z",
     "iopub.status.busy": "2023-08-31T05:54:29.870911Z",
     "iopub.status.idle": "2023-08-31T05:54:29.881515Z",
     "shell.execute_reply": "2023-08-31T05:54:29.880702Z"
    },
    "papermill": {
     "duration": 0.025492,
     "end_time": "2023-08-31T05:54:29.883793",
     "exception": false,
     "start_time": "2023-08-31T05:54:29.858301",
     "status": "completed"
    },
    "tags": []
   },
   "outputs": [],
   "source": [
    "import numpy as np\n",
    "import pandas as pd\n",
    "import matplotlib.pyplot as plt"
   ]
  },
  {
   "cell_type": "markdown",
   "id": "e6b9df07",
   "metadata": {
    "papermill": {
     "duration": 0.01073,
     "end_time": "2023-08-31T05:54:29.905785",
     "exception": false,
     "start_time": "2023-08-31T05:54:29.895055",
     "status": "completed"
    },
    "tags": []
   },
   "source": [
    "> **1. Data Pre-processing :**"
   ]
  },
  {
   "cell_type": "code",
   "execution_count": 2,
   "id": "3b43330b",
   "metadata": {
    "execution": {
     "iopub.execute_input": "2023-08-31T05:54:29.929831Z",
     "iopub.status.busy": "2023-08-31T05:54:29.929149Z",
     "iopub.status.idle": "2023-08-31T05:54:29.961755Z",
     "shell.execute_reply": "2023-08-31T05:54:29.960887Z"
    },
    "papermill": {
     "duration": 0.047721,
     "end_time": "2023-08-31T05:54:29.964444",
     "exception": false,
     "start_time": "2023-08-31T05:54:29.916723",
     "status": "completed"
    },
    "tags": []
   },
   "outputs": [],
   "source": [
    "df = pd.read_csv('/kaggle/input/drug-classification/drug200.csv')"
   ]
  },
  {
   "cell_type": "code",
   "execution_count": 3,
   "id": "52b67452",
   "metadata": {
    "execution": {
     "iopub.execute_input": "2023-08-31T05:54:29.990508Z",
     "iopub.status.busy": "2023-08-31T05:54:29.989400Z",
     "iopub.status.idle": "2023-08-31T05:54:30.021291Z",
     "shell.execute_reply": "2023-08-31T05:54:30.020108Z"
    },
    "papermill": {
     "duration": 0.047402,
     "end_time": "2023-08-31T05:54:30.024432",
     "exception": false,
     "start_time": "2023-08-31T05:54:29.977030",
     "status": "completed"
    },
    "tags": []
   },
   "outputs": [
    {
     "data": {
      "text/html": [
       "<div>\n",
       "<style scoped>\n",
       "    .dataframe tbody tr th:only-of-type {\n",
       "        vertical-align: middle;\n",
       "    }\n",
       "\n",
       "    .dataframe tbody tr th {\n",
       "        vertical-align: top;\n",
       "    }\n",
       "\n",
       "    .dataframe thead th {\n",
       "        text-align: right;\n",
       "    }\n",
       "</style>\n",
       "<table border=\"1\" class=\"dataframe\">\n",
       "  <thead>\n",
       "    <tr style=\"text-align: right;\">\n",
       "      <th></th>\n",
       "      <th>Age</th>\n",
       "      <th>Sex</th>\n",
       "      <th>BP</th>\n",
       "      <th>Cholesterol</th>\n",
       "      <th>Na_to_K</th>\n",
       "      <th>Drug</th>\n",
       "    </tr>\n",
       "  </thead>\n",
       "  <tbody>\n",
       "    <tr>\n",
       "      <th>0</th>\n",
       "      <td>23</td>\n",
       "      <td>F</td>\n",
       "      <td>HIGH</td>\n",
       "      <td>HIGH</td>\n",
       "      <td>25.355</td>\n",
       "      <td>DrugY</td>\n",
       "    </tr>\n",
       "    <tr>\n",
       "      <th>1</th>\n",
       "      <td>47</td>\n",
       "      <td>M</td>\n",
       "      <td>LOW</td>\n",
       "      <td>HIGH</td>\n",
       "      <td>13.093</td>\n",
       "      <td>drugC</td>\n",
       "    </tr>\n",
       "    <tr>\n",
       "      <th>2</th>\n",
       "      <td>47</td>\n",
       "      <td>M</td>\n",
       "      <td>LOW</td>\n",
       "      <td>HIGH</td>\n",
       "      <td>10.114</td>\n",
       "      <td>drugC</td>\n",
       "    </tr>\n",
       "    <tr>\n",
       "      <th>3</th>\n",
       "      <td>28</td>\n",
       "      <td>F</td>\n",
       "      <td>NORMAL</td>\n",
       "      <td>HIGH</td>\n",
       "      <td>7.798</td>\n",
       "      <td>drugX</td>\n",
       "    </tr>\n",
       "    <tr>\n",
       "      <th>4</th>\n",
       "      <td>61</td>\n",
       "      <td>F</td>\n",
       "      <td>LOW</td>\n",
       "      <td>HIGH</td>\n",
       "      <td>18.043</td>\n",
       "      <td>DrugY</td>\n",
       "    </tr>\n",
       "    <tr>\n",
       "      <th>...</th>\n",
       "      <td>...</td>\n",
       "      <td>...</td>\n",
       "      <td>...</td>\n",
       "      <td>...</td>\n",
       "      <td>...</td>\n",
       "      <td>...</td>\n",
       "    </tr>\n",
       "    <tr>\n",
       "      <th>195</th>\n",
       "      <td>56</td>\n",
       "      <td>F</td>\n",
       "      <td>LOW</td>\n",
       "      <td>HIGH</td>\n",
       "      <td>11.567</td>\n",
       "      <td>drugC</td>\n",
       "    </tr>\n",
       "    <tr>\n",
       "      <th>196</th>\n",
       "      <td>16</td>\n",
       "      <td>M</td>\n",
       "      <td>LOW</td>\n",
       "      <td>HIGH</td>\n",
       "      <td>12.006</td>\n",
       "      <td>drugC</td>\n",
       "    </tr>\n",
       "    <tr>\n",
       "      <th>197</th>\n",
       "      <td>52</td>\n",
       "      <td>M</td>\n",
       "      <td>NORMAL</td>\n",
       "      <td>HIGH</td>\n",
       "      <td>9.894</td>\n",
       "      <td>drugX</td>\n",
       "    </tr>\n",
       "    <tr>\n",
       "      <th>198</th>\n",
       "      <td>23</td>\n",
       "      <td>M</td>\n",
       "      <td>NORMAL</td>\n",
       "      <td>NORMAL</td>\n",
       "      <td>14.020</td>\n",
       "      <td>drugX</td>\n",
       "    </tr>\n",
       "    <tr>\n",
       "      <th>199</th>\n",
       "      <td>40</td>\n",
       "      <td>F</td>\n",
       "      <td>LOW</td>\n",
       "      <td>NORMAL</td>\n",
       "      <td>11.349</td>\n",
       "      <td>drugX</td>\n",
       "    </tr>\n",
       "  </tbody>\n",
       "</table>\n",
       "<p>200 rows × 6 columns</p>\n",
       "</div>"
      ],
      "text/plain": [
       "     Age Sex      BP Cholesterol  Na_to_K   Drug\n",
       "0     23   F    HIGH        HIGH   25.355  DrugY\n",
       "1     47   M     LOW        HIGH   13.093  drugC\n",
       "2     47   M     LOW        HIGH   10.114  drugC\n",
       "3     28   F  NORMAL        HIGH    7.798  drugX\n",
       "4     61   F     LOW        HIGH   18.043  DrugY\n",
       "..   ...  ..     ...         ...      ...    ...\n",
       "195   56   F     LOW        HIGH   11.567  drugC\n",
       "196   16   M     LOW        HIGH   12.006  drugC\n",
       "197   52   M  NORMAL        HIGH    9.894  drugX\n",
       "198   23   M  NORMAL      NORMAL   14.020  drugX\n",
       "199   40   F     LOW      NORMAL   11.349  drugX\n",
       "\n",
       "[200 rows x 6 columns]"
      ]
     },
     "execution_count": 3,
     "metadata": {},
     "output_type": "execute_result"
    }
   ],
   "source": [
    "df"
   ]
  },
  {
   "cell_type": "code",
   "execution_count": 4,
   "id": "5242763d",
   "metadata": {
    "execution": {
     "iopub.execute_input": "2023-08-31T05:54:30.051528Z",
     "iopub.status.busy": "2023-08-31T05:54:30.051115Z",
     "iopub.status.idle": "2023-08-31T05:54:30.074062Z",
     "shell.execute_reply": "2023-08-31T05:54:30.072565Z"
    },
    "papermill": {
     "duration": 0.039212,
     "end_time": "2023-08-31T05:54:30.076698",
     "exception": false,
     "start_time": "2023-08-31T05:54:30.037486",
     "status": "completed"
    },
    "tags": []
   },
   "outputs": [
    {
     "name": "stdout",
     "output_type": "stream",
     "text": [
      "<class 'pandas.core.frame.DataFrame'>\n",
      "RangeIndex: 200 entries, 0 to 199\n",
      "Data columns (total 6 columns):\n",
      " #   Column       Non-Null Count  Dtype  \n",
      "---  ------       --------------  -----  \n",
      " 0   Age          200 non-null    int64  \n",
      " 1   Sex          200 non-null    object \n",
      " 2   BP           200 non-null    object \n",
      " 3   Cholesterol  200 non-null    object \n",
      " 4   Na_to_K      200 non-null    float64\n",
      " 5   Drug         200 non-null    object \n",
      "dtypes: float64(1), int64(1), object(4)\n",
      "memory usage: 9.5+ KB\n"
     ]
    }
   ],
   "source": [
    "df.info()"
   ]
  },
  {
   "cell_type": "code",
   "execution_count": 5,
   "id": "2d2bc206",
   "metadata": {
    "execution": {
     "iopub.execute_input": "2023-08-31T05:54:30.102750Z",
     "iopub.status.busy": "2023-08-31T05:54:30.102300Z",
     "iopub.status.idle": "2023-08-31T05:54:30.116433Z",
     "shell.execute_reply": "2023-08-31T05:54:30.115290Z"
    },
    "papermill": {
     "duration": 0.030177,
     "end_time": "2023-08-31T05:54:30.118797",
     "exception": false,
     "start_time": "2023-08-31T05:54:30.088620",
     "status": "completed"
    },
    "tags": []
   },
   "outputs": [
    {
     "data": {
      "text/html": [
       "<div>\n",
       "<style scoped>\n",
       "    .dataframe tbody tr th:only-of-type {\n",
       "        vertical-align: middle;\n",
       "    }\n",
       "\n",
       "    .dataframe tbody tr th {\n",
       "        vertical-align: top;\n",
       "    }\n",
       "\n",
       "    .dataframe thead th {\n",
       "        text-align: right;\n",
       "    }\n",
       "</style>\n",
       "<table border=\"1\" class=\"dataframe\">\n",
       "  <thead>\n",
       "    <tr style=\"text-align: right;\">\n",
       "      <th></th>\n",
       "      <th>Age</th>\n",
       "      <th>Sex</th>\n",
       "      <th>BP</th>\n",
       "      <th>Cholesterol</th>\n",
       "      <th>Na_to_K</th>\n",
       "      <th>Drug</th>\n",
       "    </tr>\n",
       "  </thead>\n",
       "  <tbody>\n",
       "    <tr>\n",
       "      <th>0</th>\n",
       "      <td>23</td>\n",
       "      <td>F</td>\n",
       "      <td>HIGH</td>\n",
       "      <td>HIGH</td>\n",
       "      <td>25.355</td>\n",
       "      <td>DrugY</td>\n",
       "    </tr>\n",
       "    <tr>\n",
       "      <th>1</th>\n",
       "      <td>47</td>\n",
       "      <td>M</td>\n",
       "      <td>LOW</td>\n",
       "      <td>HIGH</td>\n",
       "      <td>13.093</td>\n",
       "      <td>drugC</td>\n",
       "    </tr>\n",
       "    <tr>\n",
       "      <th>2</th>\n",
       "      <td>47</td>\n",
       "      <td>M</td>\n",
       "      <td>LOW</td>\n",
       "      <td>HIGH</td>\n",
       "      <td>10.114</td>\n",
       "      <td>drugC</td>\n",
       "    </tr>\n",
       "    <tr>\n",
       "      <th>3</th>\n",
       "      <td>28</td>\n",
       "      <td>F</td>\n",
       "      <td>NORMAL</td>\n",
       "      <td>HIGH</td>\n",
       "      <td>7.798</td>\n",
       "      <td>drugX</td>\n",
       "    </tr>\n",
       "    <tr>\n",
       "      <th>4</th>\n",
       "      <td>61</td>\n",
       "      <td>F</td>\n",
       "      <td>LOW</td>\n",
       "      <td>HIGH</td>\n",
       "      <td>18.043</td>\n",
       "      <td>DrugY</td>\n",
       "    </tr>\n",
       "  </tbody>\n",
       "</table>\n",
       "</div>"
      ],
      "text/plain": [
       "   Age Sex      BP Cholesterol  Na_to_K   Drug\n",
       "0   23   F    HIGH        HIGH   25.355  DrugY\n",
       "1   47   M     LOW        HIGH   13.093  drugC\n",
       "2   47   M     LOW        HIGH   10.114  drugC\n",
       "3   28   F  NORMAL        HIGH    7.798  drugX\n",
       "4   61   F     LOW        HIGH   18.043  DrugY"
      ]
     },
     "execution_count": 5,
     "metadata": {},
     "output_type": "execute_result"
    }
   ],
   "source": [
    "df.head()"
   ]
  },
  {
   "cell_type": "code",
   "execution_count": 6,
   "id": "078f5f4d",
   "metadata": {
    "execution": {
     "iopub.execute_input": "2023-08-31T05:54:30.145042Z",
     "iopub.status.busy": "2023-08-31T05:54:30.143920Z",
     "iopub.status.idle": "2023-08-31T05:54:30.158739Z",
     "shell.execute_reply": "2023-08-31T05:54:30.157692Z"
    },
    "papermill": {
     "duration": 0.030393,
     "end_time": "2023-08-31T05:54:30.161071",
     "exception": false,
     "start_time": "2023-08-31T05:54:30.130678",
     "status": "completed"
    },
    "tags": []
   },
   "outputs": [
    {
     "data": {
      "text/html": [
       "<div>\n",
       "<style scoped>\n",
       "    .dataframe tbody tr th:only-of-type {\n",
       "        vertical-align: middle;\n",
       "    }\n",
       "\n",
       "    .dataframe tbody tr th {\n",
       "        vertical-align: top;\n",
       "    }\n",
       "\n",
       "    .dataframe thead th {\n",
       "        text-align: right;\n",
       "    }\n",
       "</style>\n",
       "<table border=\"1\" class=\"dataframe\">\n",
       "  <thead>\n",
       "    <tr style=\"text-align: right;\">\n",
       "      <th></th>\n",
       "      <th>Age</th>\n",
       "      <th>Sex</th>\n",
       "      <th>BP</th>\n",
       "      <th>Cholesterol</th>\n",
       "      <th>Na_to_K</th>\n",
       "      <th>Drug</th>\n",
       "    </tr>\n",
       "  </thead>\n",
       "  <tbody>\n",
       "    <tr>\n",
       "      <th>195</th>\n",
       "      <td>56</td>\n",
       "      <td>F</td>\n",
       "      <td>LOW</td>\n",
       "      <td>HIGH</td>\n",
       "      <td>11.567</td>\n",
       "      <td>drugC</td>\n",
       "    </tr>\n",
       "    <tr>\n",
       "      <th>196</th>\n",
       "      <td>16</td>\n",
       "      <td>M</td>\n",
       "      <td>LOW</td>\n",
       "      <td>HIGH</td>\n",
       "      <td>12.006</td>\n",
       "      <td>drugC</td>\n",
       "    </tr>\n",
       "    <tr>\n",
       "      <th>197</th>\n",
       "      <td>52</td>\n",
       "      <td>M</td>\n",
       "      <td>NORMAL</td>\n",
       "      <td>HIGH</td>\n",
       "      <td>9.894</td>\n",
       "      <td>drugX</td>\n",
       "    </tr>\n",
       "    <tr>\n",
       "      <th>198</th>\n",
       "      <td>23</td>\n",
       "      <td>M</td>\n",
       "      <td>NORMAL</td>\n",
       "      <td>NORMAL</td>\n",
       "      <td>14.020</td>\n",
       "      <td>drugX</td>\n",
       "    </tr>\n",
       "    <tr>\n",
       "      <th>199</th>\n",
       "      <td>40</td>\n",
       "      <td>F</td>\n",
       "      <td>LOW</td>\n",
       "      <td>NORMAL</td>\n",
       "      <td>11.349</td>\n",
       "      <td>drugX</td>\n",
       "    </tr>\n",
       "  </tbody>\n",
       "</table>\n",
       "</div>"
      ],
      "text/plain": [
       "     Age Sex      BP Cholesterol  Na_to_K   Drug\n",
       "195   56   F     LOW        HIGH   11.567  drugC\n",
       "196   16   M     LOW        HIGH   12.006  drugC\n",
       "197   52   M  NORMAL        HIGH    9.894  drugX\n",
       "198   23   M  NORMAL      NORMAL   14.020  drugX\n",
       "199   40   F     LOW      NORMAL   11.349  drugX"
      ]
     },
     "execution_count": 6,
     "metadata": {},
     "output_type": "execute_result"
    }
   ],
   "source": [
    "df.tail()"
   ]
  },
  {
   "cell_type": "code",
   "execution_count": 7,
   "id": "0c6e4b53",
   "metadata": {
    "execution": {
     "iopub.execute_input": "2023-08-31T05:54:30.187436Z",
     "iopub.status.busy": "2023-08-31T05:54:30.187037Z",
     "iopub.status.idle": "2023-08-31T05:54:30.194831Z",
     "shell.execute_reply": "2023-08-31T05:54:30.193553Z"
    },
    "papermill": {
     "duration": 0.024043,
     "end_time": "2023-08-31T05:54:30.197263",
     "exception": false,
     "start_time": "2023-08-31T05:54:30.173220",
     "status": "completed"
    },
    "tags": []
   },
   "outputs": [
    {
     "data": {
      "text/plain": [
       "array(['F', 'M'], dtype=object)"
      ]
     },
     "execution_count": 7,
     "metadata": {},
     "output_type": "execute_result"
    }
   ],
   "source": [
    "df['Sex'].unique()"
   ]
  },
  {
   "cell_type": "code",
   "execution_count": 8,
   "id": "725ffb3b",
   "metadata": {
    "execution": {
     "iopub.execute_input": "2023-08-31T05:54:30.223579Z",
     "iopub.status.busy": "2023-08-31T05:54:30.223198Z",
     "iopub.status.idle": "2023-08-31T05:54:30.229697Z",
     "shell.execute_reply": "2023-08-31T05:54:30.228864Z"
    },
    "papermill": {
     "duration": 0.022171,
     "end_time": "2023-08-31T05:54:30.231708",
     "exception": false,
     "start_time": "2023-08-31T05:54:30.209537",
     "status": "completed"
    },
    "tags": []
   },
   "outputs": [],
   "source": [
    "df['Sex'] = df['Sex'].replace({'F':1, 'M':2})"
   ]
  },
  {
   "cell_type": "code",
   "execution_count": 9,
   "id": "5114d54f",
   "metadata": {
    "execution": {
     "iopub.execute_input": "2023-08-31T05:54:30.257905Z",
     "iopub.status.busy": "2023-08-31T05:54:30.257499Z",
     "iopub.status.idle": "2023-08-31T05:54:30.265185Z",
     "shell.execute_reply": "2023-08-31T05:54:30.264037Z"
    },
    "papermill": {
     "duration": 0.023504,
     "end_time": "2023-08-31T05:54:30.267284",
     "exception": false,
     "start_time": "2023-08-31T05:54:30.243780",
     "status": "completed"
    },
    "tags": []
   },
   "outputs": [
    {
     "data": {
      "text/plain": [
       "array(['HIGH', 'LOW', 'NORMAL'], dtype=object)"
      ]
     },
     "execution_count": 9,
     "metadata": {},
     "output_type": "execute_result"
    }
   ],
   "source": [
    "df['BP'].unique()"
   ]
  },
  {
   "cell_type": "code",
   "execution_count": 10,
   "id": "98a0b415",
   "metadata": {
    "execution": {
     "iopub.execute_input": "2023-08-31T05:54:30.294148Z",
     "iopub.status.busy": "2023-08-31T05:54:30.293719Z",
     "iopub.status.idle": "2023-08-31T05:54:30.301196Z",
     "shell.execute_reply": "2023-08-31T05:54:30.299872Z"
    },
    "papermill": {
     "duration": 0.023575,
     "end_time": "2023-08-31T05:54:30.303411",
     "exception": false,
     "start_time": "2023-08-31T05:54:30.279836",
     "status": "completed"
    },
    "tags": []
   },
   "outputs": [],
   "source": [
    "df['BP'] = df['BP'].replace({'HIGH':1, 'LOW':2, 'NORMAL':3})"
   ]
  },
  {
   "cell_type": "code",
   "execution_count": 11,
   "id": "884205a9",
   "metadata": {
    "execution": {
     "iopub.execute_input": "2023-08-31T05:54:30.331333Z",
     "iopub.status.busy": "2023-08-31T05:54:30.330900Z",
     "iopub.status.idle": "2023-08-31T05:54:30.338745Z",
     "shell.execute_reply": "2023-08-31T05:54:30.337668Z"
    },
    "papermill": {
     "duration": 0.023936,
     "end_time": "2023-08-31T05:54:30.340847",
     "exception": false,
     "start_time": "2023-08-31T05:54:30.316911",
     "status": "completed"
    },
    "tags": []
   },
   "outputs": [
    {
     "data": {
      "text/plain": [
       "array(['HIGH', 'NORMAL'], dtype=object)"
      ]
     },
     "execution_count": 11,
     "metadata": {},
     "output_type": "execute_result"
    }
   ],
   "source": [
    "df['Cholesterol'].unique()"
   ]
  },
  {
   "cell_type": "code",
   "execution_count": 12,
   "id": "34c4e076",
   "metadata": {
    "execution": {
     "iopub.execute_input": "2023-08-31T05:54:30.367967Z",
     "iopub.status.busy": "2023-08-31T05:54:30.367523Z",
     "iopub.status.idle": "2023-08-31T05:54:30.373911Z",
     "shell.execute_reply": "2023-08-31T05:54:30.373059Z"
    },
    "papermill": {
     "duration": 0.022486,
     "end_time": "2023-08-31T05:54:30.375933",
     "exception": false,
     "start_time": "2023-08-31T05:54:30.353447",
     "status": "completed"
    },
    "tags": []
   },
   "outputs": [],
   "source": [
    "df['Cholesterol'] = df['Cholesterol'].replace({'HIGH':1, 'NORMAL':2})"
   ]
  },
  {
   "cell_type": "code",
   "execution_count": 13,
   "id": "cb74636d",
   "metadata": {
    "execution": {
     "iopub.execute_input": "2023-08-31T05:54:30.402992Z",
     "iopub.status.busy": "2023-08-31T05:54:30.402580Z",
     "iopub.status.idle": "2023-08-31T05:54:30.408616Z",
     "shell.execute_reply": "2023-08-31T05:54:30.407862Z"
    },
    "papermill": {
     "duration": 0.022268,
     "end_time": "2023-08-31T05:54:30.410877",
     "exception": false,
     "start_time": "2023-08-31T05:54:30.388609",
     "status": "completed"
    },
    "tags": []
   },
   "outputs": [
    {
     "data": {
      "text/plain": [
       "array(['DrugY', 'drugC', 'drugX', 'drugA', 'drugB'], dtype=object)"
      ]
     },
     "execution_count": 13,
     "metadata": {},
     "output_type": "execute_result"
    }
   ],
   "source": [
    "df['Drug'].unique()"
   ]
  },
  {
   "cell_type": "code",
   "execution_count": 14,
   "id": "9223a880",
   "metadata": {
    "execution": {
     "iopub.execute_input": "2023-08-31T05:54:30.438241Z",
     "iopub.status.busy": "2023-08-31T05:54:30.437885Z",
     "iopub.status.idle": "2023-08-31T05:54:30.443779Z",
     "shell.execute_reply": "2023-08-31T05:54:30.442941Z"
    },
    "papermill": {
     "duration": 0.022601,
     "end_time": "2023-08-31T05:54:30.446197",
     "exception": false,
     "start_time": "2023-08-31T05:54:30.423596",
     "status": "completed"
    },
    "tags": []
   },
   "outputs": [],
   "source": [
    "df['Drug'] = df['Drug'].replace({'drugA':1, 'drugB':2, 'drugC':3, 'drugX':4, 'DrugY':5})"
   ]
  },
  {
   "cell_type": "code",
   "execution_count": 15,
   "id": "27290f2b",
   "metadata": {
    "execution": {
     "iopub.execute_input": "2023-08-31T05:54:30.473692Z",
     "iopub.status.busy": "2023-08-31T05:54:30.473088Z",
     "iopub.status.idle": "2023-08-31T05:54:30.487879Z",
     "shell.execute_reply": "2023-08-31T05:54:30.486589Z"
    },
    "papermill": {
     "duration": 0.03126,
     "end_time": "2023-08-31T05:54:30.490108",
     "exception": false,
     "start_time": "2023-08-31T05:54:30.458848",
     "status": "completed"
    },
    "tags": []
   },
   "outputs": [
    {
     "data": {
      "text/html": [
       "<div>\n",
       "<style scoped>\n",
       "    .dataframe tbody tr th:only-of-type {\n",
       "        vertical-align: middle;\n",
       "    }\n",
       "\n",
       "    .dataframe tbody tr th {\n",
       "        vertical-align: top;\n",
       "    }\n",
       "\n",
       "    .dataframe thead th {\n",
       "        text-align: right;\n",
       "    }\n",
       "</style>\n",
       "<table border=\"1\" class=\"dataframe\">\n",
       "  <thead>\n",
       "    <tr style=\"text-align: right;\">\n",
       "      <th></th>\n",
       "      <th>Age</th>\n",
       "      <th>Sex</th>\n",
       "      <th>BP</th>\n",
       "      <th>Cholesterol</th>\n",
       "      <th>Na_to_K</th>\n",
       "      <th>Drug</th>\n",
       "    </tr>\n",
       "  </thead>\n",
       "  <tbody>\n",
       "    <tr>\n",
       "      <th>0</th>\n",
       "      <td>23</td>\n",
       "      <td>1</td>\n",
       "      <td>1</td>\n",
       "      <td>1</td>\n",
       "      <td>25.355</td>\n",
       "      <td>5</td>\n",
       "    </tr>\n",
       "    <tr>\n",
       "      <th>1</th>\n",
       "      <td>47</td>\n",
       "      <td>2</td>\n",
       "      <td>2</td>\n",
       "      <td>1</td>\n",
       "      <td>13.093</td>\n",
       "      <td>3</td>\n",
       "    </tr>\n",
       "    <tr>\n",
       "      <th>2</th>\n",
       "      <td>47</td>\n",
       "      <td>2</td>\n",
       "      <td>2</td>\n",
       "      <td>1</td>\n",
       "      <td>10.114</td>\n",
       "      <td>3</td>\n",
       "    </tr>\n",
       "    <tr>\n",
       "      <th>3</th>\n",
       "      <td>28</td>\n",
       "      <td>1</td>\n",
       "      <td>3</td>\n",
       "      <td>1</td>\n",
       "      <td>7.798</td>\n",
       "      <td>4</td>\n",
       "    </tr>\n",
       "    <tr>\n",
       "      <th>4</th>\n",
       "      <td>61</td>\n",
       "      <td>1</td>\n",
       "      <td>2</td>\n",
       "      <td>1</td>\n",
       "      <td>18.043</td>\n",
       "      <td>5</td>\n",
       "    </tr>\n",
       "    <tr>\n",
       "      <th>...</th>\n",
       "      <td>...</td>\n",
       "      <td>...</td>\n",
       "      <td>...</td>\n",
       "      <td>...</td>\n",
       "      <td>...</td>\n",
       "      <td>...</td>\n",
       "    </tr>\n",
       "    <tr>\n",
       "      <th>195</th>\n",
       "      <td>56</td>\n",
       "      <td>1</td>\n",
       "      <td>2</td>\n",
       "      <td>1</td>\n",
       "      <td>11.567</td>\n",
       "      <td>3</td>\n",
       "    </tr>\n",
       "    <tr>\n",
       "      <th>196</th>\n",
       "      <td>16</td>\n",
       "      <td>2</td>\n",
       "      <td>2</td>\n",
       "      <td>1</td>\n",
       "      <td>12.006</td>\n",
       "      <td>3</td>\n",
       "    </tr>\n",
       "    <tr>\n",
       "      <th>197</th>\n",
       "      <td>52</td>\n",
       "      <td>2</td>\n",
       "      <td>3</td>\n",
       "      <td>1</td>\n",
       "      <td>9.894</td>\n",
       "      <td>4</td>\n",
       "    </tr>\n",
       "    <tr>\n",
       "      <th>198</th>\n",
       "      <td>23</td>\n",
       "      <td>2</td>\n",
       "      <td>3</td>\n",
       "      <td>2</td>\n",
       "      <td>14.020</td>\n",
       "      <td>4</td>\n",
       "    </tr>\n",
       "    <tr>\n",
       "      <th>199</th>\n",
       "      <td>40</td>\n",
       "      <td>1</td>\n",
       "      <td>2</td>\n",
       "      <td>2</td>\n",
       "      <td>11.349</td>\n",
       "      <td>4</td>\n",
       "    </tr>\n",
       "  </tbody>\n",
       "</table>\n",
       "<p>200 rows × 6 columns</p>\n",
       "</div>"
      ],
      "text/plain": [
       "     Age  Sex  BP  Cholesterol  Na_to_K  Drug\n",
       "0     23    1   1            1   25.355     5\n",
       "1     47    2   2            1   13.093     3\n",
       "2     47    2   2            1   10.114     3\n",
       "3     28    1   3            1    7.798     4\n",
       "4     61    1   2            1   18.043     5\n",
       "..   ...  ...  ..          ...      ...   ...\n",
       "195   56    1   2            1   11.567     3\n",
       "196   16    2   2            1   12.006     3\n",
       "197   52    2   3            1    9.894     4\n",
       "198   23    2   3            2   14.020     4\n",
       "199   40    1   2            2   11.349     4\n",
       "\n",
       "[200 rows x 6 columns]"
      ]
     },
     "execution_count": 15,
     "metadata": {},
     "output_type": "execute_result"
    }
   ],
   "source": [
    "df"
   ]
  },
  {
   "cell_type": "code",
   "execution_count": 16,
   "id": "ebb7b4e5",
   "metadata": {
    "execution": {
     "iopub.execute_input": "2023-08-31T05:54:30.519249Z",
     "iopub.status.busy": "2023-08-31T05:54:30.518452Z",
     "iopub.status.idle": "2023-08-31T05:54:30.526427Z",
     "shell.execute_reply": "2023-08-31T05:54:30.525301Z"
    },
    "papermill": {
     "duration": 0.025058,
     "end_time": "2023-08-31T05:54:30.528768",
     "exception": false,
     "start_time": "2023-08-31T05:54:30.503710",
     "status": "completed"
    },
    "tags": []
   },
   "outputs": [],
   "source": [
    "X = df.drop('Drug', axis=1)\n",
    "Y = df['Drug']"
   ]
  },
  {
   "cell_type": "code",
   "execution_count": 17,
   "id": "108f49a3",
   "metadata": {
    "execution": {
     "iopub.execute_input": "2023-08-31T05:54:30.557699Z",
     "iopub.status.busy": "2023-08-31T05:54:30.556875Z",
     "iopub.status.idle": "2023-08-31T05:54:31.837180Z",
     "shell.execute_reply": "2023-08-31T05:54:31.836275Z"
    },
    "papermill": {
     "duration": 1.297725,
     "end_time": "2023-08-31T05:54:31.839650",
     "exception": false,
     "start_time": "2023-08-31T05:54:30.541925",
     "status": "completed"
    },
    "tags": []
   },
   "outputs": [
    {
     "name": "stderr",
     "output_type": "stream",
     "text": [
      "/opt/conda/lib/python3.10/site-packages/scipy/__init__.py:146: UserWarning: A NumPy version >=1.16.5 and <1.23.0 is required for this version of SciPy (detected version 1.23.5\n",
      "  warnings.warn(f\"A NumPy version >={np_minversion} and <{np_maxversion}\"\n"
     ]
    }
   ],
   "source": [
    "from sklearn.model_selection import train_test_split\n",
    "\n",
    "x_train,x_test,y_train,y_test = train_test_split(X, Y, test_size=0.20, random_state=42)"
   ]
  },
  {
   "cell_type": "markdown",
   "id": "545ac35f",
   "metadata": {
    "papermill": {
     "duration": 0.012612,
     "end_time": "2023-08-31T05:54:31.865474",
     "exception": false,
     "start_time": "2023-08-31T05:54:31.852862",
     "status": "completed"
    },
    "tags": []
   },
   "source": [
    "> **2. Create and Train KNN Clissifier Model :**"
   ]
  },
  {
   "cell_type": "code",
   "execution_count": 18,
   "id": "3d6c9b9e",
   "metadata": {
    "execution": {
     "iopub.execute_input": "2023-08-31T05:54:31.893984Z",
     "iopub.status.busy": "2023-08-31T05:54:31.892893Z",
     "iopub.status.idle": "2023-08-31T05:54:32.117030Z",
     "shell.execute_reply": "2023-08-31T05:54:32.115927Z"
    },
    "papermill": {
     "duration": 0.241217,
     "end_time": "2023-08-31T05:54:32.119773",
     "exception": false,
     "start_time": "2023-08-31T05:54:31.878556",
     "status": "completed"
    },
    "tags": []
   },
   "outputs": [],
   "source": [
    "from sklearn.neighbors import KNeighborsClassifier"
   ]
  },
  {
   "cell_type": "code",
   "execution_count": 19,
   "id": "ae517466",
   "metadata": {
    "execution": {
     "iopub.execute_input": "2023-08-31T05:54:32.148078Z",
     "iopub.status.busy": "2023-08-31T05:54:32.147680Z",
     "iopub.status.idle": "2023-08-31T05:54:32.164689Z",
     "shell.execute_reply": "2023-08-31T05:54:32.163457Z"
    },
    "papermill": {
     "duration": 0.034046,
     "end_time": "2023-08-31T05:54:32.167007",
     "exception": false,
     "start_time": "2023-08-31T05:54:32.132961",
     "status": "completed"
    },
    "tags": []
   },
   "outputs": [
    {
     "data": {
      "text/html": [
       "<style>#sk-container-id-1 {color: black;background-color: white;}#sk-container-id-1 pre{padding: 0;}#sk-container-id-1 div.sk-toggleable {background-color: white;}#sk-container-id-1 label.sk-toggleable__label {cursor: pointer;display: block;width: 100%;margin-bottom: 0;padding: 0.3em;box-sizing: border-box;text-align: center;}#sk-container-id-1 label.sk-toggleable__label-arrow:before {content: \"▸\";float: left;margin-right: 0.25em;color: #696969;}#sk-container-id-1 label.sk-toggleable__label-arrow:hover:before {color: black;}#sk-container-id-1 div.sk-estimator:hover label.sk-toggleable__label-arrow:before {color: black;}#sk-container-id-1 div.sk-toggleable__content {max-height: 0;max-width: 0;overflow: hidden;text-align: left;background-color: #f0f8ff;}#sk-container-id-1 div.sk-toggleable__content pre {margin: 0.2em;color: black;border-radius: 0.25em;background-color: #f0f8ff;}#sk-container-id-1 input.sk-toggleable__control:checked~div.sk-toggleable__content {max-height: 200px;max-width: 100%;overflow: auto;}#sk-container-id-1 input.sk-toggleable__control:checked~label.sk-toggleable__label-arrow:before {content: \"▾\";}#sk-container-id-1 div.sk-estimator input.sk-toggleable__control:checked~label.sk-toggleable__label {background-color: #d4ebff;}#sk-container-id-1 div.sk-label input.sk-toggleable__control:checked~label.sk-toggleable__label {background-color: #d4ebff;}#sk-container-id-1 input.sk-hidden--visually {border: 0;clip: rect(1px 1px 1px 1px);clip: rect(1px, 1px, 1px, 1px);height: 1px;margin: -1px;overflow: hidden;padding: 0;position: absolute;width: 1px;}#sk-container-id-1 div.sk-estimator {font-family: monospace;background-color: #f0f8ff;border: 1px dotted black;border-radius: 0.25em;box-sizing: border-box;margin-bottom: 0.5em;}#sk-container-id-1 div.sk-estimator:hover {background-color: #d4ebff;}#sk-container-id-1 div.sk-parallel-item::after {content: \"\";width: 100%;border-bottom: 1px solid gray;flex-grow: 1;}#sk-container-id-1 div.sk-label:hover label.sk-toggleable__label {background-color: #d4ebff;}#sk-container-id-1 div.sk-serial::before {content: \"\";position: absolute;border-left: 1px solid gray;box-sizing: border-box;top: 0;bottom: 0;left: 50%;z-index: 0;}#sk-container-id-1 div.sk-serial {display: flex;flex-direction: column;align-items: center;background-color: white;padding-right: 0.2em;padding-left: 0.2em;position: relative;}#sk-container-id-1 div.sk-item {position: relative;z-index: 1;}#sk-container-id-1 div.sk-parallel {display: flex;align-items: stretch;justify-content: center;background-color: white;position: relative;}#sk-container-id-1 div.sk-item::before, #sk-container-id-1 div.sk-parallel-item::before {content: \"\";position: absolute;border-left: 1px solid gray;box-sizing: border-box;top: 0;bottom: 0;left: 50%;z-index: -1;}#sk-container-id-1 div.sk-parallel-item {display: flex;flex-direction: column;z-index: 1;position: relative;background-color: white;}#sk-container-id-1 div.sk-parallel-item:first-child::after {align-self: flex-end;width: 50%;}#sk-container-id-1 div.sk-parallel-item:last-child::after {align-self: flex-start;width: 50%;}#sk-container-id-1 div.sk-parallel-item:only-child::after {width: 0;}#sk-container-id-1 div.sk-dashed-wrapped {border: 1px dashed gray;margin: 0 0.4em 0.5em 0.4em;box-sizing: border-box;padding-bottom: 0.4em;background-color: white;}#sk-container-id-1 div.sk-label label {font-family: monospace;font-weight: bold;display: inline-block;line-height: 1.2em;}#sk-container-id-1 div.sk-label-container {text-align: center;}#sk-container-id-1 div.sk-container {/* jupyter's `normalize.less` sets `[hidden] { display: none; }` but bootstrap.min.css set `[hidden] { display: none !important; }` so we also need the `!important` here to be able to override the default hidden behavior on the sphinx rendered scikit-learn.org. See: https://github.com/scikit-learn/scikit-learn/issues/21755 */display: inline-block !important;position: relative;}#sk-container-id-1 div.sk-text-repr-fallback {display: none;}</style><div id=\"sk-container-id-1\" class=\"sk-top-container\"><div class=\"sk-text-repr-fallback\"><pre>KNeighborsClassifier()</pre><b>In a Jupyter environment, please rerun this cell to show the HTML representation or trust the notebook. <br />On GitHub, the HTML representation is unable to render, please try loading this page with nbviewer.org.</b></div><div class=\"sk-container\" hidden><div class=\"sk-item\"><div class=\"sk-estimator sk-toggleable\"><input class=\"sk-toggleable__control sk-hidden--visually\" id=\"sk-estimator-id-1\" type=\"checkbox\" checked><label for=\"sk-estimator-id-1\" class=\"sk-toggleable__label sk-toggleable__label-arrow\">KNeighborsClassifier</label><div class=\"sk-toggleable__content\"><pre>KNeighborsClassifier()</pre></div></div></div></div></div>"
      ],
      "text/plain": [
       "KNeighborsClassifier()"
      ]
     },
     "execution_count": 19,
     "metadata": {},
     "output_type": "execute_result"
    }
   ],
   "source": [
    "knn_clf = KNeighborsClassifier(n_neighbors=5, metric='minkowski', p=2)\n",
    "knn_clf.fit(x_train, y_train)"
   ]
  },
  {
   "cell_type": "markdown",
   "id": "881d4580",
   "metadata": {
    "papermill": {
     "duration": 0.013042,
     "end_time": "2023-08-31T05:54:32.193456",
     "exception": false,
     "start_time": "2023-08-31T05:54:32.180414",
     "status": "completed"
    },
    "tags": []
   },
   "source": [
    "> **3. Predict Test Set Results :**"
   ]
  },
  {
   "cell_type": "code",
   "execution_count": 20,
   "id": "0fd251d4",
   "metadata": {
    "execution": {
     "iopub.execute_input": "2023-08-31T05:54:32.223108Z",
     "iopub.status.busy": "2023-08-31T05:54:32.222358Z",
     "iopub.status.idle": "2023-08-31T05:54:32.232008Z",
     "shell.execute_reply": "2023-08-31T05:54:32.230888Z"
    },
    "papermill": {
     "duration": 0.027308,
     "end_time": "2023-08-31T05:54:32.234472",
     "exception": false,
     "start_time": "2023-08-31T05:54:32.207164",
     "status": "completed"
    },
    "tags": []
   },
   "outputs": [],
   "source": [
    "y_pred = knn_clf.predict(x_test)"
   ]
  },
  {
   "cell_type": "code",
   "execution_count": 21,
   "id": "0583b149",
   "metadata": {
    "execution": {
     "iopub.execute_input": "2023-08-31T05:54:32.264407Z",
     "iopub.status.busy": "2023-08-31T05:54:32.263703Z",
     "iopub.status.idle": "2023-08-31T05:54:32.277346Z",
     "shell.execute_reply": "2023-08-31T05:54:32.276200Z"
    },
    "papermill": {
     "duration": 0.031643,
     "end_time": "2023-08-31T05:54:32.279778",
     "exception": false,
     "start_time": "2023-08-31T05:54:32.248135",
     "status": "completed"
    },
    "tags": []
   },
   "outputs": [
    {
     "data": {
      "text/html": [
       "<div>\n",
       "<style scoped>\n",
       "    .dataframe tbody tr th:only-of-type {\n",
       "        vertical-align: middle;\n",
       "    }\n",
       "\n",
       "    .dataframe tbody tr th {\n",
       "        vertical-align: top;\n",
       "    }\n",
       "\n",
       "    .dataframe thead th {\n",
       "        text-align: right;\n",
       "    }\n",
       "</style>\n",
       "<table border=\"1\" class=\"dataframe\">\n",
       "  <thead>\n",
       "    <tr style=\"text-align: right;\">\n",
       "      <th></th>\n",
       "      <th>Actual</th>\n",
       "      <th>Predicted</th>\n",
       "    </tr>\n",
       "  </thead>\n",
       "  <tbody>\n",
       "    <tr>\n",
       "      <th>95</th>\n",
       "      <td>4</td>\n",
       "      <td>4</td>\n",
       "    </tr>\n",
       "    <tr>\n",
       "      <th>15</th>\n",
       "      <td>5</td>\n",
       "      <td>5</td>\n",
       "    </tr>\n",
       "    <tr>\n",
       "      <th>30</th>\n",
       "      <td>4</td>\n",
       "      <td>4</td>\n",
       "    </tr>\n",
       "    <tr>\n",
       "      <th>158</th>\n",
       "      <td>3</td>\n",
       "      <td>2</td>\n",
       "    </tr>\n",
       "    <tr>\n",
       "      <th>128</th>\n",
       "      <td>5</td>\n",
       "      <td>5</td>\n",
       "    </tr>\n",
       "    <tr>\n",
       "      <th>115</th>\n",
       "      <td>5</td>\n",
       "      <td>5</td>\n",
       "    </tr>\n",
       "    <tr>\n",
       "      <th>69</th>\n",
       "      <td>5</td>\n",
       "      <td>5</td>\n",
       "    </tr>\n",
       "    <tr>\n",
       "      <th>170</th>\n",
       "      <td>4</td>\n",
       "      <td>1</td>\n",
       "    </tr>\n",
       "    <tr>\n",
       "      <th>174</th>\n",
       "      <td>1</td>\n",
       "      <td>4</td>\n",
       "    </tr>\n",
       "    <tr>\n",
       "      <th>45</th>\n",
       "      <td>4</td>\n",
       "      <td>4</td>\n",
       "    </tr>\n",
       "    <tr>\n",
       "      <th>66</th>\n",
       "      <td>1</td>\n",
       "      <td>1</td>\n",
       "    </tr>\n",
       "    <tr>\n",
       "      <th>182</th>\n",
       "      <td>4</td>\n",
       "      <td>4</td>\n",
       "    </tr>\n",
       "    <tr>\n",
       "      <th>165</th>\n",
       "      <td>5</td>\n",
       "      <td>5</td>\n",
       "    </tr>\n",
       "    <tr>\n",
       "      <th>78</th>\n",
       "      <td>1</td>\n",
       "      <td>4</td>\n",
       "    </tr>\n",
       "    <tr>\n",
       "      <th>186</th>\n",
       "      <td>2</td>\n",
       "      <td>2</td>\n",
       "    </tr>\n",
       "    <tr>\n",
       "      <th>177</th>\n",
       "      <td>5</td>\n",
       "      <td>5</td>\n",
       "    </tr>\n",
       "    <tr>\n",
       "      <th>56</th>\n",
       "      <td>2</td>\n",
       "      <td>4</td>\n",
       "    </tr>\n",
       "    <tr>\n",
       "      <th>152</th>\n",
       "      <td>4</td>\n",
       "      <td>2</td>\n",
       "    </tr>\n",
       "    <tr>\n",
       "      <th>82</th>\n",
       "      <td>3</td>\n",
       "      <td>4</td>\n",
       "    </tr>\n",
       "    <tr>\n",
       "      <th>68</th>\n",
       "      <td>5</td>\n",
       "      <td>5</td>\n",
       "    </tr>\n",
       "    <tr>\n",
       "      <th>124</th>\n",
       "      <td>2</td>\n",
       "      <td>2</td>\n",
       "    </tr>\n",
       "    <tr>\n",
       "      <th>16</th>\n",
       "      <td>4</td>\n",
       "      <td>2</td>\n",
       "    </tr>\n",
       "    <tr>\n",
       "      <th>148</th>\n",
       "      <td>4</td>\n",
       "      <td>4</td>\n",
       "    </tr>\n",
       "    <tr>\n",
       "      <th>93</th>\n",
       "      <td>5</td>\n",
       "      <td>5</td>\n",
       "    </tr>\n",
       "    <tr>\n",
       "      <th>65</th>\n",
       "      <td>5</td>\n",
       "      <td>5</td>\n",
       "    </tr>\n",
       "    <tr>\n",
       "      <th>60</th>\n",
       "      <td>5</td>\n",
       "      <td>5</td>\n",
       "    </tr>\n",
       "    <tr>\n",
       "      <th>84</th>\n",
       "      <td>3</td>\n",
       "      <td>3</td>\n",
       "    </tr>\n",
       "    <tr>\n",
       "      <th>67</th>\n",
       "      <td>4</td>\n",
       "      <td>4</td>\n",
       "    </tr>\n",
       "    <tr>\n",
       "      <th>125</th>\n",
       "      <td>5</td>\n",
       "      <td>5</td>\n",
       "    </tr>\n",
       "    <tr>\n",
       "      <th>132</th>\n",
       "      <td>4</td>\n",
       "      <td>4</td>\n",
       "    </tr>\n",
       "    <tr>\n",
       "      <th>9</th>\n",
       "      <td>5</td>\n",
       "      <td>5</td>\n",
       "    </tr>\n",
       "    <tr>\n",
       "      <th>18</th>\n",
       "      <td>3</td>\n",
       "      <td>1</td>\n",
       "    </tr>\n",
       "    <tr>\n",
       "      <th>55</th>\n",
       "      <td>3</td>\n",
       "      <td>4</td>\n",
       "    </tr>\n",
       "    <tr>\n",
       "      <th>75</th>\n",
       "      <td>5</td>\n",
       "      <td>5</td>\n",
       "    </tr>\n",
       "    <tr>\n",
       "      <th>150</th>\n",
       "      <td>1</td>\n",
       "      <td>1</td>\n",
       "    </tr>\n",
       "    <tr>\n",
       "      <th>104</th>\n",
       "      <td>5</td>\n",
       "      <td>5</td>\n",
       "    </tr>\n",
       "    <tr>\n",
       "      <th>135</th>\n",
       "      <td>4</td>\n",
       "      <td>2</td>\n",
       "    </tr>\n",
       "    <tr>\n",
       "      <th>137</th>\n",
       "      <td>1</td>\n",
       "      <td>1</td>\n",
       "    </tr>\n",
       "    <tr>\n",
       "      <th>164</th>\n",
       "      <td>5</td>\n",
       "      <td>5</td>\n",
       "    </tr>\n",
       "    <tr>\n",
       "      <th>76</th>\n",
       "      <td>1</td>\n",
       "      <td>4</td>\n",
       "    </tr>\n",
       "  </tbody>\n",
       "</table>\n",
       "</div>"
      ],
      "text/plain": [
       "     Actual  Predicted\n",
       "95        4          4\n",
       "15        5          5\n",
       "30        4          4\n",
       "158       3          2\n",
       "128       5          5\n",
       "115       5          5\n",
       "69        5          5\n",
       "170       4          1\n",
       "174       1          4\n",
       "45        4          4\n",
       "66        1          1\n",
       "182       4          4\n",
       "165       5          5\n",
       "78        1          4\n",
       "186       2          2\n",
       "177       5          5\n",
       "56        2          4\n",
       "152       4          2\n",
       "82        3          4\n",
       "68        5          5\n",
       "124       2          2\n",
       "16        4          2\n",
       "148       4          4\n",
       "93        5          5\n",
       "65        5          5\n",
       "60        5          5\n",
       "84        3          3\n",
       "67        4          4\n",
       "125       5          5\n",
       "132       4          4\n",
       "9         5          5\n",
       "18        3          1\n",
       "55        3          4\n",
       "75        5          5\n",
       "150       1          1\n",
       "104       5          5\n",
       "135       4          2\n",
       "137       1          1\n",
       "164       5          5\n",
       "76        1          4"
      ]
     },
     "execution_count": 21,
     "metadata": {},
     "output_type": "execute_result"
    }
   ],
   "source": [
    "pd.DataFrame({'Actual':y_test, 'Predicted':y_pred})"
   ]
  },
  {
   "cell_type": "markdown",
   "id": "229796e0",
   "metadata": {
    "papermill": {
     "duration": 0.013477,
     "end_time": "2023-08-31T05:54:32.307323",
     "exception": false,
     "start_time": "2023-08-31T05:54:32.293846",
     "status": "completed"
    },
    "tags": []
   },
   "source": [
    "> **4. Evaluate Performance of the Model :**"
   ]
  },
  {
   "cell_type": "code",
   "execution_count": 22,
   "id": "5c562f55",
   "metadata": {
    "execution": {
     "iopub.execute_input": "2023-08-31T05:54:32.338270Z",
     "iopub.status.busy": "2023-08-31T05:54:32.337843Z",
     "iopub.status.idle": "2023-08-31T05:54:32.342968Z",
     "shell.execute_reply": "2023-08-31T05:54:32.341712Z"
    },
    "papermill": {
     "duration": 0.022747,
     "end_time": "2023-08-31T05:54:32.345428",
     "exception": false,
     "start_time": "2023-08-31T05:54:32.322681",
     "status": "completed"
    },
    "tags": []
   },
   "outputs": [],
   "source": [
    "from sklearn.metrics import confusion_matrix, accuracy_score"
   ]
  },
  {
   "cell_type": "code",
   "execution_count": 23,
   "id": "b904f439",
   "metadata": {
    "execution": {
     "iopub.execute_input": "2023-08-31T05:54:32.376145Z",
     "iopub.status.busy": "2023-08-31T05:54:32.375731Z",
     "iopub.status.idle": "2023-08-31T05:54:32.386895Z",
     "shell.execute_reply": "2023-08-31T05:54:32.385669Z"
    },
    "papermill": {
     "duration": 0.029087,
     "end_time": "2023-08-31T05:54:32.389133",
     "exception": false,
     "start_time": "2023-08-31T05:54:32.360046",
     "status": "completed"
    },
    "tags": []
   },
   "outputs": [
    {
     "data": {
      "text/plain": [
       "array([[ 3,  0,  0,  3,  0],\n",
       "       [ 0,  2,  0,  1,  0],\n",
       "       [ 1,  1,  1,  2,  0],\n",
       "       [ 1,  3,  0,  7,  0],\n",
       "       [ 0,  0,  0,  0, 15]])"
      ]
     },
     "execution_count": 23,
     "metadata": {},
     "output_type": "execute_result"
    }
   ],
   "source": [
    "mat = confusion_matrix(y_test, y_pred)\n",
    "mat"
   ]
  },
  {
   "cell_type": "code",
   "execution_count": 24,
   "id": "1cdc18f7",
   "metadata": {
    "execution": {
     "iopub.execute_input": "2023-08-31T05:54:32.419278Z",
     "iopub.status.busy": "2023-08-31T05:54:32.418830Z",
     "iopub.status.idle": "2023-08-31T05:54:32.427750Z",
     "shell.execute_reply": "2023-08-31T05:54:32.426717Z"
    },
    "papermill": {
     "duration": 0.027241,
     "end_time": "2023-08-31T05:54:32.430415",
     "exception": false,
     "start_time": "2023-08-31T05:54:32.403174",
     "status": "completed"
    },
    "tags": []
   },
   "outputs": [
    {
     "data": {
      "text/plain": [
       "0.7"
      ]
     },
     "execution_count": 24,
     "metadata": {},
     "output_type": "execute_result"
    }
   ],
   "source": [
    "score = accuracy_score(y_test, y_pred)\n",
    "score"
   ]
  },
  {
   "cell_type": "code",
   "execution_count": null,
   "id": "b6b7ace6",
   "metadata": {
    "papermill": {
     "duration": 0.014115,
     "end_time": "2023-08-31T05:54:32.459226",
     "exception": false,
     "start_time": "2023-08-31T05:54:32.445111",
     "status": "completed"
    },
    "tags": []
   },
   "outputs": [],
   "source": []
  }
 ],
 "kernelspec": {
  "display_name": "Python 3",
  "language": "python",
  "name": "python3"
 },
 "language_info": {
  "codemirror_mode": {
   "name": "ipython",
   "version": 3
  },
  "file_extension": ".py",
  "mimetype": "text/x-python",
  "name": "python",
  "nbconvert_exporter": "python",
  "pygments_lexer": "ipython3",
  "version": "3.6.4"
 },
 "metadata": {
  "kernelspec": {
   "display_name": "Python 3",
   "language": "python",
   "name": "python3"
  },
  "language_info": {
   "codemirror_mode": {
    "name": "ipython",
    "version": 3
   },
   "file_extension": ".py",
   "mimetype": "text/x-python",
   "name": "python",
   "nbconvert_exporter": "python",
   "pygments_lexer": "ipython3",
   "version": "3.10.12"
  },
  "papermill": {
   "default_parameters": {},
   "duration": 16.23381,
   "end_time": "2023-08-31T05:54:33.496291",
   "environment_variables": {},
   "exception": null,
   "input_path": "__notebook__.ipynb",
   "output_path": "__notebook__.ipynb",
   "parameters": {},
   "start_time": "2023-08-31T05:54:17.262481",
   "version": "2.4.0"
  }
 },
 "nbformat": 4,
 "nbformat_minor": 5
}
